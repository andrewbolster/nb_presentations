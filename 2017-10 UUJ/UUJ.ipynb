{
 "cells": [
  {
   "cell_type": "code",
   "execution_count": 1,
   "metadata": {
    "ExecuteTime": {
     "end_time": "2018-06-07T12:08:28.889526Z",
     "start_time": "2018-06-07T12:08:28.842935Z"
    },
    "slideshow": {
     "slide_type": "skip"
    }
   },
   "outputs": [
    {
     "data": {
      "text/html": [
       "<style>\n",
       "    /* style for presentation only */\n",
       "    .reveal .rendered_html table { font-size: 24px }\n",
       "</style> "
      ],
      "text/plain": [
       "<IPython.core.display.HTML object>"
      ]
     },
     "metadata": {},
     "output_type": "display_data"
    }
   ],
   "source": [
    "%%HTML\n",
    "<style>\n",
    "    /* style for presentation only */\n",
    "    .reveal .rendered_html table { font-size: 24px }\n",
    "</style> "
   ]
  },
  {
   "cell_type": "code",
   "execution_count": 2,
   "metadata": {
    "ExecuteTime": {
     "end_time": "2018-06-07T12:08:28.898606Z",
     "start_time": "2018-06-07T12:08:28.891822Z"
    },
    "slideshow": {
     "slide_type": "skip"
    }
   },
   "outputs": [],
   "source": [
    "from IPython.display import Image\n",
    "\n",
    "import warnings\n",
    "warnings.filterwarnings(\"ignore\", category=DeprecationWarning) "
   ]
  },
  {
   "cell_type": "markdown",
   "metadata": {
    "slideshow": {
     "slide_type": "slide"
    }
   },
   "source": [
    "# Data Science with Python\n",
    "\n",
    "Andrew Bolster \n",
    "* [bolster.online](https://bolster.online)\n",
    "* Tweets [@bolster](https://twitter.bolster.online)\n",
    "* GitHubs at [andrewbolster](https://github.com/andrewbolster)\n",
    "* Works at [Sensum Co](https://sensum.co) **We're hiring DS/DevOps**\n",
    "* Plays at [Farset Labs](https://www.farsetlabs.org.uk)\n",
    "* **[THIS NOTEBOOK IS AT present.bolster.online](http://present.bolster.online)**\n",
    "* [Also available in source at presentgh.bolster.online](http://presentgh.bolster.online)\n"
   ]
  },
  {
   "cell_type": "markdown",
   "metadata": {
    "slideshow": {
     "slide_type": "subslide"
    }
   },
   "source": [
    "# Zee Plan\n",
    "\n",
    "* Bit about me\n",
    "* A bit about the local open data and data science ecosystem\n",
    "* What I think you know\n",
    "* Repeat last weeks tasks in a fraction of the time\n",
    "* Throw you in the deep end with a data cleaning exercise."
   ]
  },
  {
   "cell_type": "markdown",
   "metadata": {
    "slideshow": {
     "slide_type": "subslide"
    }
   },
   "source": [
    "# About me\n",
    "\n",
    "* MEng Electronics & Software Engineering (QUB)\n",
    "* PhD Autonomous Systems (DSTL/MoD/NATO/UoL)\n",
    "* Charity Founder / Director (Farset Labs)\n",
    "* Open Data Activist (DF Open Data Advisory Panellist) \n",
    "* STEM Educator (CoderDojo, CodeCoop, STEMNET)\n",
    "* Data Scientist (Sensum/Free time)\n"
   ]
  },
  {
   "cell_type": "markdown",
   "metadata": {
    "slideshow": {
     "slide_type": "slide"
    }
   },
   "source": [
    "# Data Science in Northern Ireland\n",
    "\n",
    "Data Science: \"Turning Multi-modal data into actionable insights\"\n"
   ]
  },
  {
   "cell_type": "markdown",
   "metadata": {
    "slideshow": {
     "slide_type": "fragment"
    }
   },
   "source": [
    "AKA: \"Turning Numbers into Other Numbers, and occasionally graphs\""
   ]
  },
  {
   "cell_type": "markdown",
   "metadata": {
    "slideshow": {
     "slide_type": "fragment"
    }
   },
   "source": [
    "![](dozens.gif)"
   ]
  },
  {
   "cell_type": "markdown",
   "metadata": {
    "slideshow": {
     "slide_type": "subslide"
    }
   },
   "source": [
    "## Vibrant Corporate Ecosystem\n",
    "\n",
    "* [Analytics Engines](http://www.analyticsengines.com/)\n",
    "* [AquaQ Analytics](https://www.aquaq.co.uk/)\n",
    "* [Kainos](https://www.kainos.com/)\n",
    "* [Flexera|BDNA](https://www.bdna.com/category/flexera/)\n",
    "* [First Derivitives](https://www.firstderivatives.com/)\n",
    "* [Neueda](http://www.neueda.com/)\n",
    "* [Sensum](https://sensum.co/)\n",
    "* [BrainwaveBank](https://www.brainwavebank.com/)\n",
    "* Many Many _Many_ More"
   ]
  },
  {
   "cell_type": "markdown",
   "metadata": {
    "slideshow": {
     "slide_type": "subslide"
    }
   },
   "source": [
    "## Open Source / Meetup Ecosystem too\n",
    "***Hint: If you really want to learn data science, go to/get involved in some of these***\n",
    "\n",
    "* [IoT Belfast](https://www.meetup.com/IOTBelfast/) - _TOMORROW_\n",
    "* [IoT Alliance](https://www.meetup.com/Belfast-New-Technology-Meetup/)\n",
    "* [PyBelfast](https://www.meetup.com/PyBelfast/)\n",
    "* [Code Co-op NI](https://www.meetup.com/CodeCoop-NI/)\n",
    "* [Data Art Belfast](https://www.meetup.com/Data-Art-Belfast/)\n",
    "* [Big Data Belfast Breakout](https://www.meetup.com/Big-Data-Belfast-Breakout/)\n",
    "* [Women Who Code Belfast](https://www.meetup.com/Women-Who-Code-Belfast/)\n",
    "* [Docker Belfast](https://www.meetup.com/Docker-Belfast/)\n",
    "* [DevOps Belfast](https://www.meetup.com/DevOps-Belfast/)\n",
    "* [DevSecOps Belfast](https://www.meetup.com/devsecops-belfast/)\n"
   ]
  },
  {
   "cell_type": "markdown",
   "metadata": {
    "slideshow": {
     "slide_type": "fragment"
    }
   },
   "source": [
    "***Hint the Second: These are the _best_ ways to get a job in the field***"
   ]
  },
  {
   "cell_type": "markdown",
   "metadata": {
    "slideshow": {
     "slide_type": "subslide"
    }
   },
   "source": [
    "## Engaged local Government/ComVol support\n",
    "\n",
    "* [OpenData NI](https://www.opendatani.gov.uk/)\n",
    "* [DetailData](http://data.nicva.org/)\n",
    "\n"
   ]
  },
  {
   "cell_type": "markdown",
   "metadata": {
    "slideshow": {
     "slide_type": "subslide"
    }
   },
   "source": [
    "## Other People Actually Know about what we're doing in NI\n",
    "\n",
    "* [Big Data Belfast Conference](http://www.bigdatabelfast.com/)\n",
    "* [ODCamp](http://odcamp.co.uk/)"
   ]
  },
  {
   "cell_type": "markdown",
   "metadata": {
    "ExecuteTime": {
     "end_time": "2017-10-23T07:38:11.893270Z",
     "start_time": "2017-10-23T07:38:11.675460Z"
    },
    "slideshow": {
     "slide_type": "subslide"
    }
   },
   "source": [
    "![](careers_1.jpg)"
   ]
  },
  {
   "cell_type": "markdown",
   "metadata": {
    "slideshow": {
     "slide_type": "subslide"
    }
   },
   "source": [
    "![](fhrs.jpg)"
   ]
  },
  {
   "cell_type": "markdown",
   "metadata": {
    "slideshow": {
     "slide_type": "slide"
    }
   },
   "source": [
    "# Enough Waffle, show me the numbers!\n",
    "## What I think you know\n",
    "\n",
    "* CSV / JSON / XML File Structures\n",
    "* Python Standard Library\n",
    "* Open Data NI\n",
    "* Stack Overflow"
   ]
  },
  {
   "cell_type": "markdown",
   "metadata": {
    "slideshow": {
     "slide_type": "subslide"
    }
   },
   "source": [
    "## Setup/Requirements\n",
    "```bash\n",
    "conda install pandas numpy geopandas shapely\n",
    "pip install ckanapi\n",
    "```\n",
    "\n",
    "I would advise you grab this notebook from here instead of frantically trying to keep up...\n",
    "* **[present.bolster.online](http://present.bolster.online)**\n",
    "* [Also available in source at presentgh.bolster.online](http://presentgh.bolster.online)"
   ]
  },
  {
   "cell_type": "code",
   "execution_count": 3,
   "metadata": {
    "ExecuteTime": {
     "end_time": "2018-06-07T12:08:31.910655Z",
     "start_time": "2018-06-07T12:08:29.895748Z"
    },
    "slideshow": {
     "slide_type": "fragment"
    }
   },
   "outputs": [],
   "source": [
    "from matplotlib import pyplot as plt\n",
    "plt.rcParams.update({'figure.max_open_warning': 0})\n",
    "graph_figsize = (10,6)                    # I'm forgetful and lazy\n",
    "\n",
    "%matplotlib nbagg\n",
    "                                          # Jupyter Magics!\n",
    "\n",
    "from ckanapi import RemoteCKAN            # Access to ODNI\n",
    "import pandas as pd                       # Pandas shorthand\n",
    "import numpy as np                        # Maths\n",
    "import os                                 # System Operations"
   ]
  },
  {
   "cell_type": "markdown",
   "metadata": {
    "slideshow": {
     "slide_type": "slide"
    }
   },
   "source": [
    "# Python Reminders\n",
    "## Variables and Math"
   ]
  },
  {
   "cell_type": "code",
   "execution_count": 4,
   "metadata": {
    "ExecuteTime": {
     "end_time": "2018-06-07T12:08:31.917012Z",
     "start_time": "2018-06-07T12:08:31.912855Z"
    },
    "slideshow": {
     "slide_type": "fragment"
    }
   },
   "outputs": [
    {
     "name": "stdout",
     "output_type": "stream",
     "text": [
      "5\n"
     ]
    }
   ],
   "source": [
    "variable = 5\n",
    "print(variable)"
   ]
  },
  {
   "cell_type": "markdown",
   "metadata": {
    "ExecuteTime": {
     "end_time": "2017-10-23T12:00:59.399323Z",
     "start_time": "2017-10-23T12:00:59.381960Z"
    },
    "slideshow": {
     "slide_type": "fragment"
    }
   },
   "source": [
    "Basic Math Operations"
   ]
  },
  {
   "cell_type": "code",
   "execution_count": 5,
   "metadata": {
    "ExecuteTime": {
     "end_time": "2018-06-07T12:08:31.923257Z",
     "start_time": "2018-06-07T12:08:31.919034Z"
    },
    "slideshow": {
     "slide_type": "-"
    }
   },
   "outputs": [
    {
     "name": "stdout",
     "output_type": "stream",
     "text": [
      "25\n"
     ]
    }
   ],
   "source": [
    "print(variable * 5)"
   ]
  },
  {
   "cell_type": "markdown",
   "metadata": {
    "ExecuteTime": {
     "end_time": "2017-10-23T12:00:59.416985Z",
     "start_time": "2017-10-23T12:00:59.400994Z"
    },
    "slideshow": {
     "slide_type": "subslide"
    }
   },
   "source": [
    "## Tricky \"Math\" Operations"
   ]
  },
  {
   "cell_type": "code",
   "execution_count": 6,
   "metadata": {
    "ExecuteTime": {
     "end_time": "2018-06-07T12:08:31.931177Z",
     "start_time": "2018-06-07T12:08:31.926624Z"
    },
    "slideshow": {
     "slide_type": "-"
    }
   },
   "outputs": [],
   "source": [
    "output = variable * \"na\" + \", batman\"\n",
    "# Can guess what it is yet?"
   ]
  },
  {
   "cell_type": "code",
   "execution_count": 7,
   "metadata": {
    "ExecuteTime": {
     "end_time": "2018-06-07T12:08:31.937508Z",
     "start_time": "2018-06-07T12:08:31.933569Z"
    },
    "slideshow": {
     "slide_type": "fragment"
    }
   },
   "outputs": [
    {
     "name": "stdout",
     "output_type": "stream",
     "text": [
      "nanananana, batman\n"
     ]
    }
   ],
   "source": [
    "print(output)"
   ]
  },
  {
   "cell_type": "markdown",
   "metadata": {
    "ExecuteTime": {
     "end_time": "2017-10-23T12:00:59.454342Z",
     "start_time": "2017-10-23T12:00:59.435213Z"
    },
    "slideshow": {
     "slide_type": "subslide"
    }
   },
   "source": [
    "## Loops and Lists\n",
    "Loops are good."
   ]
  },
  {
   "cell_type": "code",
   "execution_count": 8,
   "metadata": {
    "ExecuteTime": {
     "end_time": "2018-06-07T12:08:31.948578Z",
     "start_time": "2018-06-07T12:08:31.940438Z"
    },
    "slideshow": {
     "slide_type": "-"
    }
   },
   "outputs": [
    {
     "name": "stdout",
     "output_type": "stream",
     "text": [
      "na,na,\n",
      "na,na,\n",
      "na,na,\n",
      "na,na,\n",
      "na,na,\n",
      "na,na,\n",
      "na,na,\n",
      "na,na,\n",
      "batman!\n"
     ]
    }
   ],
   "source": [
    "for i in range(8):\n",
    "    for j in range(2):\n",
    "        print('na,', end='')\n",
    "    print()\n",
    "print('batman!')"
   ]
  },
  {
   "cell_type": "markdown",
   "metadata": {
    "ExecuteTime": {
     "end_time": "2017-10-23T12:00:59.471480Z",
     "start_time": "2017-10-23T12:00:59.455887Z"
    },
    "slideshow": {
     "slide_type": "subslide"
    }
   },
   "source": [
    "Lists are things"
   ]
  },
  {
   "cell_type": "code",
   "execution_count": 9,
   "metadata": {
    "ExecuteTime": {
     "end_time": "2018-06-07T12:08:31.960747Z",
     "start_time": "2018-06-07T12:08:31.952135Z"
    },
    "slideshow": {
     "slide_type": "-"
    }
   },
   "outputs": [
    {
     "name": "stdout",
     "output_type": "stream",
     "text": [
      "['thing 1', 'thing 2']\n"
     ]
    }
   ],
   "source": [
    "variable = ['thing 1','thing 2']\n",
    "print(variable)"
   ]
  },
  {
   "cell_type": "markdown",
   "metadata": {
    "ExecuteTime": {
     "end_time": "2017-10-23T12:00:59.489940Z",
     "start_time": "2017-10-23T12:00:59.473245Z"
    },
    "slideshow": {
     "slide_type": "fragment"
    }
   },
   "source": [
    "Lists are things that you can loop on"
   ]
  },
  {
   "cell_type": "code",
   "execution_count": 10,
   "metadata": {
    "ExecuteTime": {
     "end_time": "2018-06-07T12:08:31.968941Z",
     "start_time": "2018-06-07T12:08:31.963332Z"
    },
    "slideshow": {
     "slide_type": "fragment"
    }
   },
   "outputs": [
    {
     "name": "stdout",
     "output_type": "stream",
     "text": [
      "This is thing 1\n",
      "This is thing 2\n"
     ]
    }
   ],
   "source": [
    "variable = ['thing 1','thing 2']\n",
    "for thing in variable:\n",
    "    print(\"This is \"+thing)"
   ]
  },
  {
   "cell_type": "markdown",
   "metadata": {
    "ExecuteTime": {
     "end_time": "2017-10-23T12:00:59.507937Z",
     "start_time": "2017-10-23T12:00:59.491869Z"
    },
    "slideshow": {
     "slide_type": "subslide"
    }
   },
   "source": [
    "## Loopy Lists\n",
    "You can combine lists and loops in \"List Comprehensions\""
   ]
  },
  {
   "cell_type": "code",
   "execution_count": 11,
   "metadata": {
    "ExecuteTime": {
     "end_time": "2018-06-07T12:08:31.976490Z",
     "start_time": "2018-06-07T12:08:31.973068Z"
    },
    "slideshow": {
     "slide_type": "fragment"
    }
   },
   "outputs": [
    {
     "name": "stdout",
     "output_type": "stream",
     "text": [
      "['This is thing 1', 'This is thing 2']\n"
     ]
    }
   ],
   "source": [
    "print(['This is '+thing for thing in variable])"
   ]
  },
  {
   "cell_type": "code",
   "execution_count": 12,
   "metadata": {
    "ExecuteTime": {
     "end_time": "2018-06-07T12:08:31.984456Z",
     "start_time": "2018-06-07T12:08:31.979957Z"
    },
    "slideshow": {
     "slide_type": "fragment"
    }
   },
   "outputs": [
    {
     "name": "stdout",
     "output_type": "stream",
     "text": [
      "[1, 2, 4, 8, 16, 32]\n"
     ]
    }
   ],
   "source": [
    "my_powers = [2**i for i in range(6)]\n",
    "print(my_powers)"
   ]
  },
  {
   "cell_type": "markdown",
   "metadata": {
    "ExecuteTime": {
     "end_time": "2017-10-23T12:00:59.541483Z",
     "start_time": "2017-10-23T12:00:59.526978Z"
    },
    "slideshow": {
     "slide_type": "subslide"
    }
   },
   "source": [
    "## Files\n",
    "You can do fancy things with file contexts"
   ]
  },
  {
   "cell_type": "code",
   "execution_count": 13,
   "metadata": {
    "ExecuteTime": {
     "end_time": "2018-06-07T12:08:31.991762Z",
     "start_time": "2018-06-07T12:08:31.986806Z"
    },
    "slideshow": {
     "slide_type": "fragment"
    }
   },
   "outputs": [],
   "source": [
    "with open('writer.txt', 'w') as file:\n",
    "    file.write('Hi there from python')"
   ]
  },
  {
   "cell_type": "code",
   "execution_count": 14,
   "metadata": {
    "ExecuteTime": {
     "end_time": "2018-06-07T12:08:32.001535Z",
     "start_time": "2018-06-07T12:08:31.994808Z"
    },
    "slideshow": {
     "slide_type": "fragment"
    }
   },
   "outputs": [
    {
     "name": "stdout",
     "output_type": "stream",
     "text": [
      "['Hi there from python']\n"
     ]
    }
   ],
   "source": [
    "with open('writer.txt', 'r') as same_file:\n",
    "    print(same_file.readlines())"
   ]
  },
  {
   "cell_type": "markdown",
   "metadata": {
    "slideshow": {
     "slide_type": "slide"
    }
   },
   "source": [
    "# Pandas\n",
    "\n",
    "* It's MASSIVE\n",
    "* It's PAWRFUL\n",
    "* It's sometimes fiddly.\n",
    "\n",
    "But it's awesome so lets just plod on.\n",
    "\n",
    "I will be moving fast so keep up and ask questions!"
   ]
  },
  {
   "cell_type": "code",
   "execution_count": 15,
   "metadata": {
    "ExecuteTime": {
     "end_time": "2018-06-07T12:08:32.087111Z",
     "start_time": "2018-06-07T12:08:32.004339Z"
    },
    "slideshow": {
     "slide_type": "fragment"
    }
   },
   "outputs": [
    {
     "data": {
      "text/html": [
       "<div>\n",
       "<style scoped>\n",
       "    .dataframe tbody tr th:only-of-type {\n",
       "        vertical-align: middle;\n",
       "    }\n",
       "\n",
       "    .dataframe tbody tr th {\n",
       "        vertical-align: top;\n",
       "    }\n",
       "\n",
       "    .dataframe thead th {\n",
       "        text-align: right;\n",
       "    }\n",
       "</style>\n",
       "<table border=\"1\" class=\"dataframe\">\n",
       "  <thead>\n",
       "    <tr style=\"text-align: right;\">\n",
       "      <th></th>\n",
       "      <th>col1</th>\n",
       "      <th>col2</th>\n",
       "    </tr>\n",
       "  </thead>\n",
       "  <tbody>\n",
       "    <tr>\n",
       "      <th>0</th>\n",
       "      <td>1</td>\n",
       "      <td>5</td>\n",
       "    </tr>\n",
       "    <tr>\n",
       "      <th>1</th>\n",
       "      <td>2</td>\n",
       "      <td>6</td>\n",
       "    </tr>\n",
       "    <tr>\n",
       "      <th>2</th>\n",
       "      <td>3</td>\n",
       "      <td>7</td>\n",
       "    </tr>\n",
       "    <tr>\n",
       "      <th>3</th>\n",
       "      <td>4</td>\n",
       "      <td>8</td>\n",
       "    </tr>\n",
       "  </tbody>\n",
       "</table>\n",
       "</div>"
      ],
      "text/plain": [
       "   col1  col2\n",
       "0     1     5\n",
       "1     2     6\n",
       "2     3     7\n",
       "3     4     8"
      ]
     },
     "execution_count": 15,
     "metadata": {},
     "output_type": "execute_result"
    }
   ],
   "source": [
    "# DataFrame Creation Example- Dict of Lists, colwise\n",
    "d = {'col1': [1,2,3,4], 'col2': [5,6,7,8]}\n",
    "df = pd.DataFrame(data=d)\n",
    "df"
   ]
  },
  {
   "cell_type": "code",
   "execution_count": 16,
   "metadata": {
    "ExecuteTime": {
     "end_time": "2018-06-07T12:08:32.118461Z",
     "start_time": "2018-06-07T12:08:32.090632Z"
    },
    "slideshow": {
     "slide_type": "subslide"
    }
   },
   "outputs": [
    {
     "data": {
      "text/html": [
       "<div>\n",
       "<style scoped>\n",
       "    .dataframe tbody tr th:only-of-type {\n",
       "        vertical-align: middle;\n",
       "    }\n",
       "\n",
       "    .dataframe tbody tr th {\n",
       "        vertical-align: top;\n",
       "    }\n",
       "\n",
       "    .dataframe thead th {\n",
       "        text-align: right;\n",
       "    }\n",
       "</style>\n",
       "<table border=\"1\" class=\"dataframe\">\n",
       "  <thead>\n",
       "    <tr style=\"text-align: right;\">\n",
       "      <th></th>\n",
       "      <th>0</th>\n",
       "      <th>1</th>\n",
       "      <th>2</th>\n",
       "      <th>3</th>\n",
       "    </tr>\n",
       "  </thead>\n",
       "  <tbody>\n",
       "    <tr>\n",
       "      <th>0</th>\n",
       "      <td>1</td>\n",
       "      <td>2</td>\n",
       "      <td>3</td>\n",
       "      <td>4</td>\n",
       "    </tr>\n",
       "    <tr>\n",
       "      <th>1</th>\n",
       "      <td>5</td>\n",
       "      <td>6</td>\n",
       "      <td>7</td>\n",
       "      <td>8</td>\n",
       "    </tr>\n",
       "  </tbody>\n",
       "</table>\n",
       "</div>"
      ],
      "text/plain": [
       "   0  1  2  3\n",
       "0  1  2  3  4\n",
       "1  5  6  7  8"
      ]
     },
     "execution_count": 16,
     "metadata": {},
     "output_type": "execute_result"
    }
   ],
   "source": [
    "# List of Tuples\n",
    "d = [(1, 2 ,3 ,4), (5, 6, 7, 8)]\n",
    "df = pd.DataFrame(data=d)\n",
    "df"
   ]
  },
  {
   "cell_type": "code",
   "execution_count": 17,
   "metadata": {
    "ExecuteTime": {
     "end_time": "2018-06-07T12:08:32.134778Z",
     "start_time": "2018-06-07T12:08:32.122242Z"
    },
    "slideshow": {
     "slide_type": "fragment"
    }
   },
   "outputs": [
    {
     "data": {
      "text/html": [
       "<div>\n",
       "<style scoped>\n",
       "    .dataframe tbody tr th:only-of-type {\n",
       "        vertical-align: middle;\n",
       "    }\n",
       "\n",
       "    .dataframe tbody tr th {\n",
       "        vertical-align: top;\n",
       "    }\n",
       "\n",
       "    .dataframe thead th {\n",
       "        text-align: right;\n",
       "    }\n",
       "</style>\n",
       "<table border=\"1\" class=\"dataframe\">\n",
       "  <thead>\n",
       "    <tr style=\"text-align: right;\">\n",
       "      <th></th>\n",
       "      <th>0</th>\n",
       "      <th>1</th>\n",
       "      <th>2</th>\n",
       "      <th>3</th>\n",
       "    </tr>\n",
       "  </thead>\n",
       "  <tbody>\n",
       "    <tr>\n",
       "      <th>row1</th>\n",
       "      <td>1</td>\n",
       "      <td>2</td>\n",
       "      <td>3</td>\n",
       "      <td>4</td>\n",
       "    </tr>\n",
       "    <tr>\n",
       "      <th>row2</th>\n",
       "      <td>5</td>\n",
       "      <td>6</td>\n",
       "      <td>7</td>\n",
       "      <td>8</td>\n",
       "    </tr>\n",
       "  </tbody>\n",
       "</table>\n",
       "</div>"
      ],
      "text/plain": [
       "      0  1  2  3\n",
       "row1  1  2  3  4\n",
       "row2  5  6  7  8"
      ]
     },
     "execution_count": 17,
     "metadata": {},
     "output_type": "execute_result"
    }
   ],
   "source": [
    "# Dict of Lists; rowwise\n",
    "d = {'row1': [1,2,3,4], 'row2': [5,6,7,8]}\n",
    "df = pd.DataFrame.from_dict(d, orient='index')\n",
    "df"
   ]
  },
  {
   "cell_type": "code",
   "execution_count": 18,
   "metadata": {
    "ExecuteTime": {
     "end_time": "2018-06-07T12:08:32.149087Z",
     "start_time": "2018-06-07T12:08:32.137351Z"
    },
    "slideshow": {
     "slide_type": "subslide"
    }
   },
   "outputs": [
    {
     "data": {
      "text/html": [
       "<div>\n",
       "<style scoped>\n",
       "    .dataframe tbody tr th:only-of-type {\n",
       "        vertical-align: middle;\n",
       "    }\n",
       "\n",
       "    .dataframe tbody tr th {\n",
       "        vertical-align: top;\n",
       "    }\n",
       "\n",
       "    .dataframe thead th {\n",
       "        text-align: right;\n",
       "    }\n",
       "</style>\n",
       "<table border=\"1\" class=\"dataframe\">\n",
       "  <thead>\n",
       "    <tr style=\"text-align: right;\">\n",
       "      <th></th>\n",
       "      <th>0</th>\n",
       "      <th>1</th>\n",
       "      <th>2</th>\n",
       "      <th>3</th>\n",
       "      <th>4</th>\n",
       "    </tr>\n",
       "  </thead>\n",
       "  <tbody>\n",
       "    <tr>\n",
       "      <th>row1</th>\n",
       "      <td>1</td>\n",
       "      <td>2</td>\n",
       "      <td>3</td>\n",
       "      <td>4</td>\n",
       "      <td>10</td>\n",
       "    </tr>\n",
       "    <tr>\n",
       "      <th>row2</th>\n",
       "      <td>5</td>\n",
       "      <td>6</td>\n",
       "      <td>7</td>\n",
       "      <td>8</td>\n",
       "      <td>10</td>\n",
       "    </tr>\n",
       "  </tbody>\n",
       "</table>\n",
       "</div>"
      ],
      "text/plain": [
       "      0  1  2  3   4\n",
       "row1  1  2  3  4  10\n",
       "row2  5  6  7  8  10"
      ]
     },
     "execution_count": 18,
     "metadata": {},
     "output_type": "execute_result"
    }
   ],
   "source": [
    "# Add Column\n",
    "df[4] = [10,10]\n",
    "df"
   ]
  },
  {
   "cell_type": "code",
   "execution_count": 19,
   "metadata": {
    "ExecuteTime": {
     "end_time": "2018-06-07T12:08:32.164916Z",
     "start_time": "2018-06-07T12:08:32.151379Z"
    },
    "slideshow": {
     "slide_type": "fragment"
    }
   },
   "outputs": [
    {
     "data": {
      "text/html": [
       "<div>\n",
       "<style scoped>\n",
       "    .dataframe tbody tr th:only-of-type {\n",
       "        vertical-align: middle;\n",
       "    }\n",
       "\n",
       "    .dataframe tbody tr th {\n",
       "        vertical-align: top;\n",
       "    }\n",
       "\n",
       "    .dataframe thead th {\n",
       "        text-align: right;\n",
       "    }\n",
       "</style>\n",
       "<table border=\"1\" class=\"dataframe\">\n",
       "  <thead>\n",
       "    <tr style=\"text-align: right;\">\n",
       "      <th></th>\n",
       "      <th>0</th>\n",
       "      <th>1</th>\n",
       "      <th>2</th>\n",
       "      <th>3</th>\n",
       "      <th>4</th>\n",
       "    </tr>\n",
       "  </thead>\n",
       "  <tbody>\n",
       "    <tr>\n",
       "      <th>row1</th>\n",
       "      <td>1</td>\n",
       "      <td>2</td>\n",
       "      <td>3</td>\n",
       "      <td>4</td>\n",
       "      <td>10</td>\n",
       "    </tr>\n",
       "    <tr>\n",
       "      <th>row2</th>\n",
       "      <td>5</td>\n",
       "      <td>6</td>\n",
       "      <td>7</td>\n",
       "      <td>8</td>\n",
       "      <td>10</td>\n",
       "    </tr>\n",
       "    <tr>\n",
       "      <th>row0</th>\n",
       "      <td>10</td>\n",
       "      <td>10</td>\n",
       "      <td>10</td>\n",
       "      <td>10</td>\n",
       "      <td>0</td>\n",
       "    </tr>\n",
       "  </tbody>\n",
       "</table>\n",
       "</div>"
      ],
      "text/plain": [
       "       0   1   2   3   4\n",
       "row1   1   2   3   4  10\n",
       "row2   5   6   7   8  10\n",
       "row0  10  10  10  10   0"
      ]
     },
     "execution_count": 19,
     "metadata": {},
     "output_type": "execute_result"
    }
   ],
   "source": [
    "# Add Row\n",
    "df.loc['row0'] = [10,10,10,10,0]\n",
    "df"
   ]
  },
  {
   "cell_type": "code",
   "execution_count": 20,
   "metadata": {
    "ExecuteTime": {
     "end_time": "2018-06-07T12:08:32.176778Z",
     "start_time": "2018-06-07T12:08:32.167395Z"
    },
    "slideshow": {
     "slide_type": "subslide"
    }
   },
   "outputs": [
    {
     "data": {
      "text/html": [
       "<div>\n",
       "<style scoped>\n",
       "    .dataframe tbody tr th:only-of-type {\n",
       "        vertical-align: middle;\n",
       "    }\n",
       "\n",
       "    .dataframe tbody tr th {\n",
       "        vertical-align: top;\n",
       "    }\n",
       "\n",
       "    .dataframe thead th {\n",
       "        text-align: right;\n",
       "    }\n",
       "</style>\n",
       "<table border=\"1\" class=\"dataframe\">\n",
       "  <thead>\n",
       "    <tr style=\"text-align: right;\">\n",
       "      <th></th>\n",
       "      <th>0</th>\n",
       "      <th>1</th>\n",
       "      <th>2</th>\n",
       "      <th>3</th>\n",
       "      <th>4</th>\n",
       "      <th>somevalue</th>\n",
       "    </tr>\n",
       "  </thead>\n",
       "  <tbody>\n",
       "    <tr>\n",
       "      <th>row1</th>\n",
       "      <td>1</td>\n",
       "      <td>2</td>\n",
       "      <td>3</td>\n",
       "      <td>4</td>\n",
       "      <td>10</td>\n",
       "      <td>1</td>\n",
       "    </tr>\n",
       "    <tr>\n",
       "      <th>row2</th>\n",
       "      <td>5</td>\n",
       "      <td>6</td>\n",
       "      <td>7</td>\n",
       "      <td>8</td>\n",
       "      <td>10</td>\n",
       "      <td>1</td>\n",
       "    </tr>\n",
       "    <tr>\n",
       "      <th>row0</th>\n",
       "      <td>10</td>\n",
       "      <td>10</td>\n",
       "      <td>10</td>\n",
       "      <td>10</td>\n",
       "      <td>0</td>\n",
       "      <td>1</td>\n",
       "    </tr>\n",
       "  </tbody>\n",
       "</table>\n",
       "</div>"
      ],
      "text/plain": [
       "       0   1   2   3   4  somevalue\n",
       "row1   1   2   3   4  10          1\n",
       "row2   5   6   7   8  10          1\n",
       "row0  10  10  10  10   0          1"
      ]
     },
     "execution_count": 20,
     "metadata": {},
     "output_type": "execute_result"
    }
   ],
   "source": [
    "# Pandas will fill the row/col if you just give it one value\n",
    "df['somevalue'] = 1\n",
    "df"
   ]
  },
  {
   "cell_type": "code",
   "execution_count": 21,
   "metadata": {
    "ExecuteTime": {
     "end_time": "2018-06-07T12:08:32.189886Z",
     "start_time": "2018-06-07T12:08:32.179156Z"
    },
    "slideshow": {
     "slide_type": "subslide"
    }
   },
   "outputs": [
    {
     "data": {
      "text/html": [
       "<div>\n",
       "<style scoped>\n",
       "    .dataframe tbody tr th:only-of-type {\n",
       "        vertical-align: middle;\n",
       "    }\n",
       "\n",
       "    .dataframe tbody tr th {\n",
       "        vertical-align: top;\n",
       "    }\n",
       "\n",
       "    .dataframe thead th {\n",
       "        text-align: right;\n",
       "    }\n",
       "</style>\n",
       "<table border=\"1\" class=\"dataframe\">\n",
       "  <thead>\n",
       "    <tr style=\"text-align: right;\">\n",
       "      <th></th>\n",
       "      <th>row1</th>\n",
       "      <th>row2</th>\n",
       "      <th>row0</th>\n",
       "    </tr>\n",
       "  </thead>\n",
       "  <tbody>\n",
       "    <tr>\n",
       "      <th>0</th>\n",
       "      <td>1</td>\n",
       "      <td>5</td>\n",
       "      <td>10</td>\n",
       "    </tr>\n",
       "    <tr>\n",
       "      <th>1</th>\n",
       "      <td>2</td>\n",
       "      <td>6</td>\n",
       "      <td>10</td>\n",
       "    </tr>\n",
       "    <tr>\n",
       "      <th>2</th>\n",
       "      <td>3</td>\n",
       "      <td>7</td>\n",
       "      <td>10</td>\n",
       "    </tr>\n",
       "    <tr>\n",
       "      <th>3</th>\n",
       "      <td>4</td>\n",
       "      <td>8</td>\n",
       "      <td>10</td>\n",
       "    </tr>\n",
       "    <tr>\n",
       "      <th>4</th>\n",
       "      <td>10</td>\n",
       "      <td>10</td>\n",
       "      <td>0</td>\n",
       "    </tr>\n",
       "    <tr>\n",
       "      <th>somevalue</th>\n",
       "      <td>1</td>\n",
       "      <td>1</td>\n",
       "      <td>1</td>\n",
       "    </tr>\n",
       "  </tbody>\n",
       "</table>\n",
       "</div>"
      ],
      "text/plain": [
       "           row1  row2  row0\n",
       "0             1     5    10\n",
       "1             2     6    10\n",
       "2             3     7    10\n",
       "3             4     8    10\n",
       "4            10    10     0\n",
       "somevalue     1     1     1"
      ]
     },
     "execution_count": 21,
     "metadata": {},
     "output_type": "execute_result"
    }
   ],
   "source": [
    "# Transpose\n",
    "df.T"
   ]
  },
  {
   "cell_type": "code",
   "execution_count": 22,
   "metadata": {
    "ExecuteTime": {
     "end_time": "2018-06-07T12:08:32.202457Z",
     "start_time": "2018-06-07T12:08:32.192900Z"
    },
    "slideshow": {
     "slide_type": "subslide"
    }
   },
   "outputs": [
    {
     "data": {
      "text/html": [
       "<div>\n",
       "<style scoped>\n",
       "    .dataframe tbody tr th:only-of-type {\n",
       "        vertical-align: middle;\n",
       "    }\n",
       "\n",
       "    .dataframe tbody tr th {\n",
       "        vertical-align: top;\n",
       "    }\n",
       "\n",
       "    .dataframe thead th {\n",
       "        text-align: right;\n",
       "    }\n",
       "</style>\n",
       "<table border=\"1\" class=\"dataframe\">\n",
       "  <thead>\n",
       "    <tr style=\"text-align: right;\">\n",
       "      <th></th>\n",
       "      <th>0</th>\n",
       "      <th>1</th>\n",
       "      <th>2</th>\n",
       "      <th>3</th>\n",
       "      <th>4</th>\n",
       "      <th>somevalue</th>\n",
       "    </tr>\n",
       "  </thead>\n",
       "  <tbody>\n",
       "    <tr>\n",
       "      <th>row1</th>\n",
       "      <td>1</td>\n",
       "      <td>2</td>\n",
       "      <td>3</td>\n",
       "      <td>4</td>\n",
       "      <td>10</td>\n",
       "      <td>1</td>\n",
       "    </tr>\n",
       "    <tr>\n",
       "      <th>row0</th>\n",
       "      <td>10</td>\n",
       "      <td>10</td>\n",
       "      <td>10</td>\n",
       "      <td>10</td>\n",
       "      <td>0</td>\n",
       "      <td>1</td>\n",
       "    </tr>\n",
       "  </tbody>\n",
       "</table>\n",
       "</div>"
      ],
      "text/plain": [
       "       0   1   2   3   4  somevalue\n",
       "row1   1   2   3   4  10          1\n",
       "row0  10  10  10  10   0          1"
      ]
     },
     "execution_count": 22,
     "metadata": {},
     "output_type": "execute_result"
    }
   ],
   "source": [
    "# Drop Row\n",
    "df = df.drop('row2')\n",
    "df"
   ]
  },
  {
   "cell_type": "code",
   "execution_count": 23,
   "metadata": {
    "ExecuteTime": {
     "end_time": "2018-06-07T12:08:32.215682Z",
     "start_time": "2018-06-07T12:08:32.204559Z"
    },
    "slideshow": {
     "slide_type": "fragment"
    }
   },
   "outputs": [
    {
     "data": {
      "text/html": [
       "<div>\n",
       "<style scoped>\n",
       "    .dataframe tbody tr th:only-of-type {\n",
       "        vertical-align: middle;\n",
       "    }\n",
       "\n",
       "    .dataframe tbody tr th {\n",
       "        vertical-align: top;\n",
       "    }\n",
       "\n",
       "    .dataframe thead th {\n",
       "        text-align: right;\n",
       "    }\n",
       "</style>\n",
       "<table border=\"1\" class=\"dataframe\">\n",
       "  <thead>\n",
       "    <tr style=\"text-align: right;\">\n",
       "      <th></th>\n",
       "      <th>0</th>\n",
       "      <th>1</th>\n",
       "      <th>2</th>\n",
       "      <th>3</th>\n",
       "      <th>4</th>\n",
       "    </tr>\n",
       "  </thead>\n",
       "  <tbody>\n",
       "    <tr>\n",
       "      <th>row1</th>\n",
       "      <td>1</td>\n",
       "      <td>2</td>\n",
       "      <td>3</td>\n",
       "      <td>4</td>\n",
       "      <td>10</td>\n",
       "    </tr>\n",
       "    <tr>\n",
       "      <th>row0</th>\n",
       "      <td>10</td>\n",
       "      <td>10</td>\n",
       "      <td>10</td>\n",
       "      <td>10</td>\n",
       "      <td>0</td>\n",
       "    </tr>\n",
       "  </tbody>\n",
       "</table>\n",
       "</div>"
      ],
      "text/plain": [
       "       0   1   2   3   4\n",
       "row1   1   2   3   4  10\n",
       "row0  10  10  10  10   0"
      ]
     },
     "execution_count": 23,
     "metadata": {},
     "output_type": "execute_result"
    }
   ],
   "source": [
    "# Drop Column\n",
    "df = df.drop('somevalue', axis=1)\n",
    "df"
   ]
  },
  {
   "cell_type": "code",
   "execution_count": 24,
   "metadata": {
    "ExecuteTime": {
     "end_time": "2018-06-07T12:08:32.227465Z",
     "start_time": "2018-06-07T12:08:32.218140Z"
    },
    "slideshow": {
     "slide_type": "subslide"
    }
   },
   "outputs": [
    {
     "data": {
      "text/html": [
       "<div>\n",
       "<style scoped>\n",
       "    .dataframe tbody tr th:only-of-type {\n",
       "        vertical-align: middle;\n",
       "    }\n",
       "\n",
       "    .dataframe tbody tr th {\n",
       "        vertical-align: top;\n",
       "    }\n",
       "\n",
       "    .dataframe thead th {\n",
       "        text-align: right;\n",
       "    }\n",
       "</style>\n",
       "<table border=\"1\" class=\"dataframe\">\n",
       "  <thead>\n",
       "    <tr style=\"text-align: right;\">\n",
       "      <th></th>\n",
       "      <th>zero</th>\n",
       "      <th>1</th>\n",
       "      <th>2</th>\n",
       "      <th>3</th>\n",
       "      <th>4</th>\n",
       "    </tr>\n",
       "  </thead>\n",
       "  <tbody>\n",
       "    <tr>\n",
       "      <th>row1</th>\n",
       "      <td>1</td>\n",
       "      <td>2</td>\n",
       "      <td>3</td>\n",
       "      <td>4</td>\n",
       "      <td>10</td>\n",
       "    </tr>\n",
       "    <tr>\n",
       "      <th>row0</th>\n",
       "      <td>10</td>\n",
       "      <td>10</td>\n",
       "      <td>10</td>\n",
       "      <td>10</td>\n",
       "      <td>0</td>\n",
       "    </tr>\n",
       "  </tbody>\n",
       "</table>\n",
       "</div>"
      ],
      "text/plain": [
       "      zero   1   2   3   4\n",
       "row1     1   2   3   4  10\n",
       "row0    10  10  10  10   0"
      ]
     },
     "execution_count": 24,
     "metadata": {},
     "output_type": "execute_result"
    }
   ],
   "source": [
    "# Rename columns\n",
    "df.rename(columns={0:'zero'})\n"
   ]
  },
  {
   "cell_type": "code",
   "execution_count": 25,
   "metadata": {
    "ExecuteTime": {
     "end_time": "2018-06-07T12:08:32.239946Z",
     "start_time": "2018-06-07T12:08:32.229948Z"
    },
    "slideshow": {
     "slide_type": "fragment"
    }
   },
   "outputs": [
    {
     "data": {
      "text/html": [
       "<div>\n",
       "<style scoped>\n",
       "    .dataframe tbody tr th:only-of-type {\n",
       "        vertical-align: middle;\n",
       "    }\n",
       "\n",
       "    .dataframe tbody tr th {\n",
       "        vertical-align: top;\n",
       "    }\n",
       "\n",
       "    .dataframe thead th {\n",
       "        text-align: right;\n",
       "    }\n",
       "</style>\n",
       "<table border=\"1\" class=\"dataframe\">\n",
       "  <thead>\n",
       "    <tr style=\"text-align: right;\">\n",
       "      <th></th>\n",
       "      <th>0</th>\n",
       "      <th>1</th>\n",
       "      <th>2</th>\n",
       "      <th>3</th>\n",
       "      <th>4</th>\n",
       "    </tr>\n",
       "  </thead>\n",
       "  <tbody>\n",
       "    <tr>\n",
       "      <th>row1</th>\n",
       "      <td>1</td>\n",
       "      <td>2</td>\n",
       "      <td>3</td>\n",
       "      <td>4</td>\n",
       "      <td>10</td>\n",
       "    </tr>\n",
       "    <tr>\n",
       "      <th>row0</th>\n",
       "      <td>10</td>\n",
       "      <td>10</td>\n",
       "      <td>10</td>\n",
       "      <td>10</td>\n",
       "      <td>0</td>\n",
       "    </tr>\n",
       "  </tbody>\n",
       "</table>\n",
       "</div>"
      ],
      "text/plain": [
       "       0   1   2   3   4\n",
       "row1   1   2   3   4  10\n",
       "row0  10  10  10  10   0"
      ]
     },
     "execution_count": 25,
     "metadata": {},
     "output_type": "execute_result"
    }
   ],
   "source": [
    "#Note: Many pandas operations only return a 'view', doesn't change\n",
    "df"
   ]
  },
  {
   "cell_type": "code",
   "execution_count": 26,
   "metadata": {
    "ExecuteTime": {
     "end_time": "2018-06-07T12:08:32.250671Z",
     "start_time": "2018-06-07T12:08:32.242105Z"
    },
    "slideshow": {
     "slide_type": "fragment"
    }
   },
   "outputs": [
    {
     "data": {
      "text/html": [
       "<div>\n",
       "<style scoped>\n",
       "    .dataframe tbody tr th:only-of-type {\n",
       "        vertical-align: middle;\n",
       "    }\n",
       "\n",
       "    .dataframe tbody tr th {\n",
       "        vertical-align: top;\n",
       "    }\n",
       "\n",
       "    .dataframe thead th {\n",
       "        text-align: right;\n",
       "    }\n",
       "</style>\n",
       "<table border=\"1\" class=\"dataframe\">\n",
       "  <thead>\n",
       "    <tr style=\"text-align: right;\">\n",
       "      <th></th>\n",
       "      <th>zero</th>\n",
       "      <th>1</th>\n",
       "      <th>2</th>\n",
       "      <th>3</th>\n",
       "      <th>4</th>\n",
       "    </tr>\n",
       "  </thead>\n",
       "  <tbody>\n",
       "    <tr>\n",
       "      <th>row1</th>\n",
       "      <td>1</td>\n",
       "      <td>2</td>\n",
       "      <td>3</td>\n",
       "      <td>4</td>\n",
       "      <td>10</td>\n",
       "    </tr>\n",
       "    <tr>\n",
       "      <th>row0</th>\n",
       "      <td>10</td>\n",
       "      <td>10</td>\n",
       "      <td>10</td>\n",
       "      <td>10</td>\n",
       "      <td>0</td>\n",
       "    </tr>\n",
       "  </tbody>\n",
       "</table>\n",
       "</div>"
      ],
      "text/plain": [
       "      zero   1   2   3   4\n",
       "row1     1   2   3   4  10\n",
       "row0    10  10  10  10   0"
      ]
     },
     "execution_count": 26,
     "metadata": {},
     "output_type": "execute_result"
    }
   ],
   "source": [
    "# Rename in place\n",
    "df.rename(columns={0:'zero'}, inplace=True)\n",
    "df"
   ]
  },
  {
   "cell_type": "code",
   "execution_count": 27,
   "metadata": {
    "ExecuteTime": {
     "end_time": "2018-06-07T12:08:32.265781Z",
     "start_time": "2018-06-07T12:08:32.252785Z"
    },
    "slideshow": {
     "slide_type": "subslide"
    }
   },
   "outputs": [
    {
     "data": {
      "text/html": [
       "<div>\n",
       "<style scoped>\n",
       "    .dataframe tbody tr th:only-of-type {\n",
       "        vertical-align: middle;\n",
       "    }\n",
       "\n",
       "    .dataframe tbody tr th {\n",
       "        vertical-align: top;\n",
       "    }\n",
       "\n",
       "    .dataframe thead th {\n",
       "        text-align: right;\n",
       "    }\n",
       "</style>\n",
       "<table border=\"1\" class=\"dataframe\">\n",
       "  <thead>\n",
       "    <tr style=\"text-align: right;\">\n",
       "      <th></th>\n",
       "      <th>zero</th>\n",
       "      <th>1</th>\n",
       "      <th>2</th>\n",
       "      <th>3</th>\n",
       "      <th>4</th>\n",
       "      <th>subtotal</th>\n",
       "    </tr>\n",
       "  </thead>\n",
       "  <tbody>\n",
       "    <tr>\n",
       "      <th>row1</th>\n",
       "      <td>1</td>\n",
       "      <td>2</td>\n",
       "      <td>3</td>\n",
       "      <td>4</td>\n",
       "      <td>10</td>\n",
       "      <td>20</td>\n",
       "    </tr>\n",
       "    <tr>\n",
       "      <th>row0</th>\n",
       "      <td>10</td>\n",
       "      <td>10</td>\n",
       "      <td>10</td>\n",
       "      <td>10</td>\n",
       "      <td>0</td>\n",
       "      <td>40</td>\n",
       "    </tr>\n",
       "  </tbody>\n",
       "</table>\n",
       "</div>"
      ],
      "text/plain": [
       "      zero   1   2   3   4  subtotal\n",
       "row1     1   2   3   4  10        20\n",
       "row0    10  10  10  10   0        40"
      ]
     },
     "execution_count": 27,
     "metadata": {},
     "output_type": "execute_result"
    }
   ],
   "source": [
    "# Create new, useful, columns\n",
    "df['subtotal'] = df.sum(axis=1)\n",
    "df"
   ]
  },
  {
   "cell_type": "code",
   "execution_count": 28,
   "metadata": {
    "ExecuteTime": {
     "end_time": "2018-06-07T12:08:32.601494Z",
     "start_time": "2018-06-07T12:08:32.268142Z"
    },
    "slideshow": {
     "slide_type": "subslide"
    }
   },
   "outputs": [
    {
     "data": {
      "text/plain": [
       "<matplotlib.axes._subplots.AxesSubplot at 0x10bd05128>"
      ]
     },
     "execution_count": 28,
     "metadata": {},
     "output_type": "execute_result"
    },
    {
     "data": {
      "image/png": "[encoded data removed]",
      "text/plain": [
       "<Figure size 432x288 with 1 Axes>"
      ]
     },
     "metadata": {},
     "output_type": "display_data"
    }
   ],
   "source": [
    "# Make meaningless graphs!\n",
    "df.plot()"
   ]
  },
  {
   "cell_type": "markdown",
   "metadata": {
    "slideshow": {
     "slide_type": "slide"
    }
   },
   "source": [
    "# And now for something familiar in an unfamiliar way\n",
    "## [The Food Premise Hygine Ratings](https://www.opendatani.gov.uk/dataset/food-premise-hygiene-ratings)\n",
    "\n",
    "You lot should be experts at this, so feel free to correct me when it gets boring!"
   ]
  },
  {
   "cell_type": "code",
   "execution_count": 29,
   "metadata": {
    "ExecuteTime": {
     "end_time": "2018-06-07T12:08:32.613810Z",
     "start_time": "2018-06-07T12:08:32.603310Z"
    },
    "slideshow": {
     "slide_type": "fragment"
    }
   },
   "outputs": [],
   "source": [
    "# This is some magic that you don't need to worry about, but ask me about it at the end\n",
    "\n",
    "def dataset_generator(resource_id): \n",
    "    \"\"\"A Generator that yields records from a given dataset resource id\"\"\"\n",
    "    ua = 'ItsBolster/29.5 (+http://farsetlabs.org.uk/)'\n",
    "    demo = RemoteCKAN('https://www.opendatani.gov.uk/', user_agent=ua)\n",
    "    offset=0\n",
    "    while True:\n",
    "        datastore_page = demo.action.datastore_search(resource_id=resource_id, offset=offset)\n",
    "        if not datastore_page['records']:\n",
    "            raise StopIteration\n",
    "        for record in datastore_page['records']:\n",
    "            yield record   ## Execution is passed back to the caller here\n",
    "            offset+=1"
   ]
  },
  {
   "cell_type": "code",
   "execution_count": 30,
   "metadata": {
    "ExecuteTime": {
     "end_time": "2018-06-07T12:08:37.931970Z",
     "start_time": "2018-06-07T12:08:32.615995Z"
    },
    "slideshow": {
     "slide_type": "subslide"
    }
   },
   "outputs": [
    {
     "data": {
      "text/html": [
       "<div>\n",
       "<style scoped>\n",
       "    .dataframe tbody tr th:only-of-type {\n",
       "        vertical-align: middle;\n",
       "    }\n",
       "\n",
       "    .dataframe tbody tr th {\n",
       "        vertical-align: top;\n",
       "    }\n",
       "\n",
       "    .dataframe thead th {\n",
       "        text-align: right;\n",
       "    }\n",
       "</style>\n",
       "<table border=\"1\" class=\"dataframe\">\n",
       "  <thead>\n",
       "    <tr style=\"text-align: right;\">\n",
       "      <th></th>\n",
       "      <th>_id</th>\n",
       "      <th>buildingid</th>\n",
       "      <th>establishmentaddressline1</th>\n",
       "      <th>establishmentaddressline2</th>\n",
       "      <th>establishmentaddressline3</th>\n",
       "      <th>establishmentaddressline4</th>\n",
       "      <th>establishmentname</th>\n",
       "      <th>inspectiondate</th>\n",
       "      <th>latitude</th>\n",
       "      <th>longitude</th>\n",
       "      <th>postcode</th>\n",
       "      <th>rating</th>\n",
       "    </tr>\n",
       "  </thead>\n",
       "  <tbody>\n",
       "    <tr>\n",
       "      <th>0</th>\n",
       "      <td>1</td>\n",
       "      <td>185003495</td>\n",
       "      <td></td>\n",
       "      <td></td>\n",
       "      <td>1 Corry Place</td>\n",
       "      <td>Belfast</td>\n",
       "      <td>Heyn Group</td>\n",
       "      <td>2012-08-23T00:00:00</td>\n",
       "      <td>375525</td>\n",
       "      <td>334581</td>\n",
       "      <td>BT3 9AH</td>\n",
       "      <td>5</td>\n",
       "    </tr>\n",
       "    <tr>\n",
       "      <th>1</th>\n",
       "      <td>2</td>\n",
       "      <td>185746347</td>\n",
       "      <td>Rosemary Presbyterian Church</td>\n",
       "      <td></td>\n",
       "      <td>26-36 North Circular Road</td>\n",
       "      <td>Belfast</td>\n",
       "      <td>Rosemary Lunch Club</td>\n",
       "      <td>2014-10-21T00:00:00</td>\n",
       "      <td>378213</td>\n",
       "      <td>332938</td>\n",
       "      <td>BT15 5HD</td>\n",
       "      <td>5</td>\n",
       "    </tr>\n",
       "    <tr>\n",
       "      <th>2</th>\n",
       "      <td>3</td>\n",
       "      <td>185001807</td>\n",
       "      <td></td>\n",
       "      <td></td>\n",
       "      <td>37 Montgomery Street</td>\n",
       "      <td>Belfast</td>\n",
       "      <td>John Ross &amp; Co Auctioneers</td>\n",
       "      <td>2015-03-19T00:00:00</td>\n",
       "      <td>373992</td>\n",
       "      <td>334055</td>\n",
       "      <td>BT1 4NX</td>\n",
       "      <td>4</td>\n",
       "    </tr>\n",
       "    <tr>\n",
       "      <th>3</th>\n",
       "      <td>4</td>\n",
       "      <td>185000821</td>\n",
       "      <td></td>\n",
       "      <td></td>\n",
       "      <td>108 Donegall Street</td>\n",
       "      <td>Belfast</td>\n",
       "      <td>The Maverick/Boom Box</td>\n",
       "      <td>2014-11-03T00:00:00</td>\n",
       "      <td>374852</td>\n",
       "      <td>333733</td>\n",
       "      <td>BT1 2GX</td>\n",
       "      <td>5</td>\n",
       "    </tr>\n",
       "    <tr>\n",
       "      <th>4</th>\n",
       "      <td>5</td>\n",
       "      <td>187129705</td>\n",
       "      <td></td>\n",
       "      <td></td>\n",
       "      <td>1 Union Street</td>\n",
       "      <td></td>\n",
       "      <td>Maverick</td>\n",
       "      <td>2014-02-13T00:00:00</td>\n",
       "      <td>378435</td>\n",
       "      <td>281262</td>\n",
       "      <td>BT1 2JF</td>\n",
       "      <td>4</td>\n",
       "    </tr>\n",
       "  </tbody>\n",
       "</table>\n",
       "</div>"
      ],
      "text/plain": [
       "   _id buildingid     establishmentaddressline1 establishmentaddressline2  \\\n",
       "0    1  185003495                                                           \n",
       "1    2  185746347  Rosemary Presbyterian Church                             \n",
       "2    3  185001807                                                           \n",
       "3    4  185000821                                                           \n",
       "4    5  187129705                                                           \n",
       "\n",
       "   establishmentaddressline3 establishmentaddressline4  \\\n",
       "0              1 Corry Place                   Belfast   \n",
       "1  26-36 North Circular Road                   Belfast   \n",
       "2       37 Montgomery Street                   Belfast   \n",
       "3        108 Donegall Street                   Belfast   \n",
       "4             1 Union Street                             \n",
       "\n",
       "            establishmentname       inspectiondate latitude longitude  \\\n",
       "0                  Heyn Group  2012-08-23T00:00:00   375525    334581   \n",
       "1         Rosemary Lunch Club  2014-10-21T00:00:00   378213    332938   \n",
       "2  John Ross & Co Auctioneers  2015-03-19T00:00:00   373992    334055   \n",
       "3       The Maverick/Boom Box  2014-11-03T00:00:00   374852    333733   \n",
       "4                    Maverick  2014-02-13T00:00:00   378435    281262   \n",
       "\n",
       "   postcode rating  \n",
       "0   BT3 9AH      5  \n",
       "1  BT15 5HD      5  \n",
       "2   BT1 4NX      4  \n",
       "3   BT1 2GX      5  \n",
       "4   BT1 2JF      4  "
      ]
     },
     "execution_count": 30,
     "metadata": {},
     "output_type": "execute_result"
    }
   ],
   "source": [
    "# Why Pandas is Awesome\n",
    "df = pd.DataFrame.from_records(dataset_generator('3d998bd3-ecbe-4087-a653-ea11448ea53f'))\n",
    "df.head()"
   ]
  },
  {
   "cell_type": "markdown",
   "metadata": {
    "slideshow": {
     "slide_type": "subslide"
    }
   },
   "source": [
    "## Tasks\n",
    "1. Print a list containing all field names in the header\n",
    "2. Print a list of all postcodes\n",
    "3. Print a list of all establishment names that do not have a\n",
    "recorded postcode.\n",
    "4. Print a list of all establishment names that are missing any\n",
    "item of information"
   ]
  },
  {
   "cell_type": "markdown",
   "metadata": {
    "ExecuteTime": {
     "end_time": "2017-10-23T12:16:22.634749Z",
     "start_time": "2017-10-23T12:16:22.599129Z"
    },
    "slideshow": {
     "slide_type": "subslide"
    }
   },
   "source": [
    "### Print a list containing all field names in the header"
   ]
  },
  {
   "cell_type": "code",
   "execution_count": 31,
   "metadata": {
    "ExecuteTime": {
     "end_time": "2018-06-07T12:08:37.939920Z",
     "start_time": "2018-06-07T12:08:37.934071Z"
    },
    "slideshow": {
     "slide_type": "-"
    }
   },
   "outputs": [
    {
     "data": {
      "text/plain": [
       "['_id',\n",
       " 'buildingid',\n",
       " 'establishmentaddressline1',\n",
       " 'establishmentaddressline2',\n",
       " 'establishmentaddressline3',\n",
       " 'establishmentaddressline4',\n",
       " 'establishmentname',\n",
       " 'inspectiondate',\n",
       " 'latitude',\n",
       " 'longitude',\n",
       " 'postcode',\n",
       " 'rating']"
      ]
     },
     "execution_count": 31,
     "metadata": {},
     "output_type": "execute_result"
    }
   ],
   "source": [
    "list(df.keys())"
   ]
  },
  {
   "cell_type": "markdown",
   "metadata": {
    "ExecuteTime": {
     "end_time": "2017-10-23T12:01:05.358738Z",
     "start_time": "2017-10-23T12:01:05.328195Z"
    },
    "slideshow": {
     "slide_type": "subslide"
    }
   },
   "source": [
    "### Print a list of all postcodes"
   ]
  },
  {
   "cell_type": "code",
   "execution_count": 32,
   "metadata": {
    "ExecuteTime": {
     "end_time": "2018-06-07T12:08:37.950062Z",
     "start_time": "2018-06-07T12:08:37.942425Z"
    },
    "slideshow": {
     "slide_type": "-"
    }
   },
   "outputs": [
    {
     "name": "stdout",
     "output_type": "stream",
     "text": [
      "['', 'BT1 1AA', 'BT1 1AL', 'BT1 1BL', 'BT1 1DA', 'BT1 1DD', 'BT1 1DJ', 'BT1 1DL', 'BT1 1DN', 'BT1 1EA', 'BT1 1FB', 'BT1 1FE', 'BT1 1FF', 'BT1 1FG', 'BT1 1FJ', 'BT1 1FP', 'BT1 1FY', 'BT1 1GA', 'BT1 1GB', 'BT1 1GH', 'BT1 1GJ', 'BT1 1HB', 'BT1 1HD', 'BT1 1HE', 'BT1 1HL', 'BT1 1HS', 'BT1 1HU', 'BT1 1HY', 'BT1 1JE', 'BT1 1JL', 'BT1 1JN', 'BT1 1JQ', 'BT1 1LA', 'BT1 1LE', 'BT1 1LS', 'BT1 1LT', 'BT1 1LU', 'BT1 1NA', 'BT1 1NB', 'BT1 1ND', 'BT1 1PE', 'BT1 1PG', 'BT1 1QA', 'BT1 1QB', 'BT1 1QN', 'BT1 1RB', 'BT1 1RD', 'BT1 2AA', 'BT1 2AB', 'BT1 2BD', 'BT1 2BE', 'BT1 2DX', 'BT1 2DY', 'BT1 2DZ', 'BT1 2ED', 'BT1 2FF', 'BT1 2FH', 'BT1 2FJ', 'BT1 2GP', 'BT1 2GT', 'BT1 2GW', 'BT1 2GX', 'BT1 2GY', 'BT1 2JD', 'BT1 2JF', 'BT1 2JG', 'BT1 2JH', 'BT1 2LA', 'BT1 2LB', 'BT1 2LD', 'BT1 2LH', 'BT1 2LQ', 'BT1 2LR', 'BT1 2LZ', 'BT1 2NB', 'BT1 2NJ', 'BT1 2NQ', 'BT1 3AA', 'BT1 3AF', 'BT1 3AH', 'BT1 3AJ', 'BT1 3AL', 'BT1 3BG', 'BT1 3BH', 'BT1 3BS', 'BT1 3BT', 'BT1 3BU', 'BT1 3EA', 'BT1 3EB', 'BT1 3EQ', 'BT1 3ES', 'BT1 3FG', 'BT1 3FJ', 'BT1 3GE', 'BT1 3GH', 'BT1 3GL', 'BT1 3GN', 'BT1 3HH', 'BT1 3JA', 'BT1 3JL', 'BT1 3JQ', 'BT1 3LA', 'BT1 3LG', 'BT1 3LL', 'BT1 3LP', 'BT1 3NL', 'BT1 3NQ', 'BT1 3NR', 'BT1 3PH', 'BT1 3WH', 'BT1 4DA', 'BT1 4DB', 'BT1 4DQ', 'BT1 4DR', 'BT1 4DT', 'BT1 4EA', 'BT1 4EB', 'BT1 4EF', 'BT1 4EG', 'BT1 4EH', 'BT1 4EJ', 'BT1 4FF', 'BT1 4FT', 'BT1 4GA', 'BT1 4GB', 'BT1 4GG', 'BT1 4GH', 'BT1 4GJ', 'BT1 4GQ', 'BT1 4HW', 'BT1 4JA', 'BT1 4JB', 'BT1 4JE', 'BT1 4LA', 'BT1 4LS', 'BT1 4NN', 'BT1 4NX', 'BT1 4PE', 'BT1 4QG', 'BT1 4QL', 'BT1 4QN', 'BT1 5AA', 'BT1 5AB', 'BT1 5AJ', 'BT1 5AW', 'BT1 5BA', 'BT1 5BB', 'BT1 5BN', 'BT1 5BY', 'BT1 5DA', 'BT1 5DB', 'BT1 5DG', 'BT1 5DP', 'BT1 5EA', 'BT1 5EB', 'BT1 5ED', 'BT1 5EE', 'BT1 5FE', 'BT1 5FF', 'BT1 5GB', 'BT1 5GS', 'BT1 5HB', 'BT1 5HE', 'BT1 5JA', 'BT1 5JD', 'BT1 5UB', 'BT1 6AD', 'BT1 6BS', 'BT1 6BT', 'BT1 6DL', 'BT1 6DU', 'BT1 6DY', 'BT1 6EA', 'BT1 6ED', 'BT1 6EF', 'BT1 6ET', 'BT1 6FD', 'BT1 6GB', 'BT1 6GE', 'BT1 6HT', 'BT1 6JA', 'BT1 6JH', 'BT1 6JS', 'BT1 6NB', 'BT1 6PA', 'BT1 6PF', 'BT1 6PG', 'BT1 6PW', 'BT1 IHF', 'BT10 0AA', 'BT10 0BB', 'BT10 0BD', 'BT10 0BE', 'BT10 0BG', 'BT10 0BN', 'BT10 0BW', 'BT10 0DG', 'BT10 0DJ', 'BT10 0DR', 'BT10 0GE', 'BT10 0GW', 'BT10 0GX', 'BT10 0GY', 'BT10 0HQ', 'BT10 0JA', 'BT10 0JB', 'BT10 0JH', 'BT10 0JJ', 'BT10 0JS', 'BT10 0LA', 'BT10 0LE', 'BT10 0LF', 'BT10 0LG', 'BT10 0LH', 'BT10 0LJ', 'BT10 0LN', 'BT10 0LP', 'BT10 0NB', 'BT10 0NE', 'BT10 0NF', 'BT11 8AY', 'BT11 8BA', 'BT11 8BD', 'BT11 8BG', 'BT11 8BH', 'BT11 8BL', 'BT11 8BN', 'BT11 8BU', 'BT11 8BW', 'BT11 8BX', 'BT11 8DX', 'BT11 8EF', 'BT11 8EJ', 'BT11 8EL', 'BT11 8FE', 'BT11 8GD', 'BT11 8GE', 'BT11 8GX', 'BT11 8HQ', 'BT11 8HR', 'BT11 8HT', 'BT11 8JF', 'BT11 8JP', 'BT11 8LT', 'BT11 8LU', 'BT11 8NE', 'BT11 8NF', 'BT11 8PA', 'BT11 8QB', 'BT11 8QS', 'BT11 9AB', 'BT11 9AE', 'BT11 9AF', 'BT11 9AH', 'BT11 9AJ', 'BT11 9AN', 'BT11 9AP', 'BT11 9BH', 'BT11 9BQ', 'BT11 9BT', 'BT11 9BU', 'BT11 9BW', 'BT11 9BX', 'BT11 9BY', 'BT11 9BZ', 'BT11 9DA', 'BT11 9DS', 'BT11 9DT', 'BT11 9EA', 'BT11 9EB', 'BT11 9EH', 'BT11 9EL', 'BT11 9FG', 'BT11 9FZ', 'BT11 9GE', 'BT11 9GS', 'BT11 9HF', 'BT11 9JD', 'BT11 9JP', 'BT11 9JQ', 'BT11 9JY', 'BT11 9LW', 'BT11 9NS', 'BT11 9PB', 'BT11 9PE', 'BT11 9PG', 'BT11 9PH', 'BT11 9PR', 'BT11 9QF', 'BT11 9QL', 'BT11 9QR', 'BT11 9QS', 'BT12 4AD', 'BT12 4AH', 'BT12 4AQ', 'BT12 4DH', 'BT12 4EJ', 'BT12 4GB', 'BT12 4GL', 'BT12 4GX', 'BT12 4HG', 'BT12 4HL', 'BT12 4HQ', 'BT12 4JR', 'BT12 4JT', 'BT12 4LD', 'BT12 4LL', 'BT12 4LP', 'BT12 4PD', 'BT12 4PE', 'BT12 4PP', 'BT12 4SG', 'BT12 5AB', 'BT12 5AD', 'BT12 5AH', 'BT12 5AT', 'BT12 5BJ', 'BT12 5BL', 'BT12 5EE', 'BT12 5ET', 'BT12 5EW', 'BT12 5EX', 'BT12 5EY', 'BT12 5GH', 'BT12 5HU', 'BT12 5HX', 'BT12 5JJ', 'BT12 5JL', 'BT12 5JN', 'BT12 5JS', 'BT12 5LA', 'BT12 5ND', 'BT12 5NE', 'BT12 5NS', 'BT12 6AA', 'BT12 6AD', 'BT12 6AE', 'BT12 6AF', 'BT12 6AG', 'BT12 6AH', 'BT12 6AL', 'BT12 6AU', 'BT12 6AW', 'BT12 6AX', 'BT12 6BA', 'BT12 6BZ', 'BT12 6DD', 'BT12 6DE', 'BT12 6DG', 'BT12 6DJ', 'BT12 6EA', 'BT12 6EN', 'BT12 6EU', 'BT12 6FB', 'BT12 6FD', 'BT12 6FE', 'BT12 6FF', 'BT12 6FQ', 'BT12 6FR', 'BT12 6FW', 'BT12 6FX', 'BT12 6HE', 'BT12 6HF', 'BT12 6HN', 'BT12 6HP', 'BT12 6HR', 'BT12 6HS', 'BT12 6HT', 'BT12 6HU', 'BT12 6HW', 'BT12 6JA', 'BT12 6LP', 'BT12 6LU', 'BT12 6NB', 'BT12 6NE', 'BT12 6NQ', 'BT12 6QA', 'BT12 6QB', 'BT12 6RH', 'BT12 6SJ', 'BT12 6TA', 'BT12 7AB', 'BT12 7AD', 'BT12 7AE', 'BT12 7AG', 'BT12 7AH', 'BT12 7AJ', 'BT12 7AL', 'BT12 7AQ', 'BT12 7AU', 'BT12 7AW', 'BT12 7AX', 'BT12 7BA', 'BT12 7BQ', 'BT12 7DD', 'BT12 7DG', 'BT12 7DJ', 'BT12 7DN', 'BT12 7DQ', 'BT12 7DR', 'BT12 7DU', 'BT12 7DW', 'BT12 7DX', 'BT12 7EX', 'BT12 7FN', 'BT12 7FP', 'BT12 7FQ', 'BT12 7FW', 'BT12 7FX', 'BT12 7GG', 'BT12 7HS', 'BT12 7JD', 'BT12 7JE', 'BT12 7JG', 'BT12 7JL', 'BT12 7JZ', 'BT12 7LA', 'BT12 7LS', 'BT12 7NA', 'BT12 7NB', 'BT12 7NH', 'BT12 7NN', 'BT12 7NW', 'BT12 7PD', 'BT12 7PF', 'BT12 7PG', 'BT12 7PJ', 'BT12 7PL', 'BT12 7PR', 'BT12 7PS', 'BT12 7PX', 'BT12 7QH', 'BT12 7QL', 'BT12 7QX', 'BT12 7RF', 'BT12 7RS', 'BT13 1AA', 'BT13 1AB', 'BT13 1AD', 'BT13 1AR', 'BT13 1BX', 'BT13 1DF', 'BT13 1DP', 'BT13 1DR', 'BT13 1DT', 'BT13 1ER', 'BT13 1FD', 'BT13 1FP', 'BT13 1FQ', 'BT13 1FR', 'BT13 1FT', 'BT13 1FX', 'BT13 1HW', 'BT13 1JB', 'BT13 1JJ', 'BT13 1LT', 'BT13 1LY', 'BT13 1QD', 'BT13 1QG', 'BT13 1RT', 'BT13 1RU', 'BT13 2AD', 'BT13 2BA', 'BT13 2BB', 'BT13 2BD', 'BT13 2BE', 'BT13 2BH', 'BT13 2BJ', 'BT13 2BN', 'BT13 2DE', 'BT13 2DR', 'BT13 2ES', 'BT13 2HS', 'BT13 2HT', 'BT13 2HZ', 'BT13 2JF', 'BT13 2JR', 'BT13 2QW', 'BT13 2RH', 'BT13 2RL', 'BT13 2SE', 'BT13 3AB', 'BT13 3AD', 'BT13 3AE', 'BT13 3AF', 'BT13 3AG', 'BT13 3BN', 'BT13 3BP', 'BT13 3BS', 'BT13 3BT', 'BT13 3BU', 'BT13 3DH', 'BT13 3DQ', 'BT13 3EP', 'BT13 3FR', 'BT13 3GD', 'BT13 3GG', 'BT13 3GH', 'BT13 3GQ', 'BT13 3GW', 'BT13 3HT', 'BT13 3HX', 'BT13 3JB', 'BT13 3JH', 'BT13 3JJ', 'BT13 3LA', 'BT13 3LB', 'BT13 3LD', 'BT13 3LF', 'BT13 3NE', 'BT13 3NG', 'BT13 3NH', 'BT13 3NW', 'BT13 3PQ', 'BT13 3PU', 'BT13 3PW', 'BT13 3QF', 'BT13 3QQ', 'BT13 3QX', 'BT13 3RP', 'BT13 3RQ', 'BT13 3SE', 'BT13 3SR', 'BT13 3ST', 'BT13 3TA', 'BT13 3TT', 'BT13 3TU', 'BT13 3XZ', 'BT14 6AA', 'BT14 6AD', 'BT14 6BP', 'BT14 6BS', 'BT14 6BY', 'BT14 6DW', 'BT14 6EN', 'BT14 6FW', 'BT14 6GN', 'BT14 6HH', 'BT14 6HP', 'BT14 6JH', 'BT14 6JL', 'BT14 6JR', 'BT14 6JT', 'BT14 6JU', 'BT14 6JX', 'BT14 6JZ', 'BT14 6LA', 'BT14 6LB', 'BT14 6LE', 'BT14 6LN', 'BT14 6LZ', 'BT14 6NH', 'BT14 6NN', 'BT14 6NP', 'BT14 6NQ', 'BT14 6PN', 'BT14 6PX', 'BT14 6QH', 'BT14 6QJ', 'BT14 6QP', 'BT14 6QQ', 'BT14 6QR', 'BT14 6QU', 'BT14 6QX', 'BT14 6QY', 'BT14 6QZ', 'BT14 6RB', 'BT14 6RE', 'BT14 6ST', 'BT14 7AA', 'BT14 7BW', 'BT14 7DA', 'BT14 7DY', 'BT14 7EA', 'BT14 7ED', 'BT14 7EE', 'BT14 7EJ', 'BT14 7EX', 'BT14 7FG', 'BT14 7GA', 'BT14 7GB', 'BT14 7GE', 'BT14 7GL', 'BT14 7GP', 'BT14 7HD', 'BT14 7HU', 'BT14 7HX', 'BT14 7HZ', 'BT14 7JA', 'BT14 7JB', 'BT14 7LD', 'BT14 7NA', 'BT14 7ND', 'BT14 7NT', 'BT14 7NZ', 'BT14 7PT', 'BT14 7QH', 'BT14 7QR', 'BT14 7QS', 'BT14 8AB', 'BT14 8AE', 'BT14 8AL', 'BT14 8AN', 'BT14 8AW', 'BT14 8BH', 'BT14 8BW', 'BT14 8BX', 'BT14 8DP', 'BT14 8DQ', 'BT14 8DT', 'BT14 8FG', 'BT14 8FH', 'BT14 8HD', 'BT14 8JN', 'BT14 8LT', 'BT14 8QA', 'BT14 8QU', 'BT15 1AB', 'BT15 1AL', 'BT15 1AS', 'BT15 1DY', 'BT15 1ED', 'BT15 1EQ', 'BT15 1ES', 'BT15 1EZ', 'BT15 1FT', 'BT15 1GQ', 'BT15 1HQ', 'BT15 1HR', 'BT15 1JP', 'BT15 1JQ', 'BT15 1WA', 'BT15 2AA', 'BT15 2AE', 'BT15 2AJ', 'BT15 2AN', 'BT15 2AR', 'BT15 2AY', 'BT15 2BB', 'BT15 2BE', 'BT15 2BL', 'BT15 2BN', 'BT15 2BP', 'BT15 2BW', 'BT15 2BX', 'BT15 2EL', 'BT15 2EN', 'BT15 2ET', 'BT15 2GB', 'BT15 2GJ', 'BT15 2GL', 'BT15 2GN', 'BT15 2GQ', 'BT15 2GW', 'BT15 2GY', 'BT15 2GZ', 'BT15 2HF', 'BT15 2HN', 'BT15 2HP', 'BT15 2HR', 'BT15 2PR', 'BT15 3AA', 'BT15 3AB', 'BT15 3BG', 'BT15 3BH', 'BT15 3BJ', 'BT15 3BL', 'BT15 3BP', 'BT15 3BS', 'BT15 3BU', 'BT15 3DQ', 'BT15 3DT', 'BT15 3EG', 'BT15 3GA', 'BT15 3GJ', 'BT15 3GQ', 'BT15 3HE', 'BT15 3HF', 'BT15 3JQ', 'BT15 3JW', 'BT15 3LG', 'BT15 3LH', 'BT15 3LJ', 'BT15 3NB', 'BT15 3NG', 'BT15 3PG', 'BT15 3PL', 'BT15 3PN', 'BT15 3PR', 'BT15 3PW', 'BT15 3PZ', 'BT15 3QA', 'BT15 3QG', 'BT15 3QX', 'BT15 4AE', 'BT15 4AN', 'BT15 4AP', 'BT15 4AQ', 'BT15 4AS', 'BT15 4AY', 'BT15 4BL', 'BT15 4DB', 'BT15 4DD', 'BT15 4DE', 'BT15 4DG', 'BT15 4DX', 'BT15 4DZ', 'BT15 4EF', 'BT15 4EN', 'BT15 4EP', 'BT15 4EZ', 'BT15 4FQ', 'BT15 4HD', 'BT15 4HG', 'BT15 4HL', 'BT15 4HN', 'BT15 4HS', 'BT15 4JA', 'BT15 4JU', 'BT15 4NJ', 'BT15 5AA', 'BT15 5AB', 'BT15 5AT', 'BT15 5BE', 'BT15 5BJ', 'BT15 5BP', 'BT15 5BS', 'BT15 5BU', 'BT15 5DB', 'BT15 5DW', 'BT15 5EB', 'BT15 5EP', 'BT15 5EX', 'BT15 5EY', 'BT15 5FG', 'BT15 5GA', 'BT15 5GB', 'BT15 5GE', 'BT15 5GF', 'BT15 5GP', 'BT15 5GQ', 'BT15 5GR', 'BT15 5HD', 'BT15 5JF', 'BT16 1DG', 'BT17 0AH', 'BT17 0AR', 'BT17 0AW', 'BT17 0BU', 'BT17 0DB', 'BT17 0DF', 'BT17 0DW', 'BT17 0DY', 'BT17 0FA', 'BT17 0FB', 'BT17 0GL', 'BT17 0GU', 'BT17 0GY', 'BT17 0HD', 'BT17 0HE', 'BT17 0HH', 'BT17 0HW', 'BT17 0LB', 'BT17 0LG', 'BT17 0LR', 'BT17 0LT', 'BT17 0LW', 'BT17 0NG', 'BT17 0NP', 'BT17 0PB', 'BT17 0PH', 'BT17 0PJ', 'BT17 0PL', 'BT17 0PP', 'BT17 0PQ', 'BT17 0RL', 'BT17 0RP', 'BT17 0RQ', 'BT17 0RW', 'BT17 0RX', 'BT17 0SJ', 'BT17 0TD', 'BT17 0TG', 'BT17 0TH', 'BT17 0TQ', 'BT17 0UG', 'BT17 0UN', 'BT17 0UT', 'BT17 0UW', 'BT17 0XF', 'BT17 0YU', 'BT17 9AD', 'BT17 9AE', 'BT17 9AF', 'BT17 9AN', 'BT17 9BA', 'BT17 9EH', 'BT17 9EJ', 'BT17 9EL', 'BT17 9JP', 'BT17 9JS', 'BT17 9JZ', 'BT17 9LA', 'BT17 9LB', 'BT17 9NP', 'BT17 9NS', 'BT17 9QA', 'BT17 9QH', 'BT17 9QX', 'BT17 9RR', 'BT17 9RY', 'BT17 9SB', 'BT17 ODB', 'BT17 OPB', 'BT17 ORE', 'BT17 ORL', 'BT18 9QE', 'BT18 9RR', 'BT2 7AF', 'BT2 7AP', 'BT2 7BA', 'BT2 7BB', 'BT2 7BE', 'BT2 7DB', 'BT2 7DT', 'BT2 7EJ', 'BT2 7ES', 'BT2 7ET', 'BT2 7FB', 'BT2 7FD', 'BT2 7FF', 'BT2 7GA', 'BT2 7GE', 'BT2 7GN', 'BT2 7GP', 'BT2 7GS', 'BT2 7HB', 'BT2 7HD', 'BT2 7HE', 'BT2 7HF', 'BT2 7HN', 'BT2 7HP', 'BT2 7HR', 'BT2 7JD', 'BT2 7JH', 'BT2 7JS', 'BT2 8AA', 'BT2 8AB', 'BT2 8BG', 'BT2 8BP', 'BT2 8BS', 'BT2 8ED', 'BT2 8FD', 'BT2 8FE', 'BT2 8GB', 'BT2 8GD', 'BT2 8HD', 'BT2 8HQ', 'BT2 8HS', 'BT2 8JE', 'BT2 8LA', 'BT2 8LG', 'BT2 8PB', 'BT2 8PS', 'BT27 4EW', 'BT3', 'BT3 9 JL', 'BT3 9AA', 'BT3 9AE', 'BT3 9AH', 'BT3 9AL', 'BT3 9AP', 'BT3 9AR', 'BT3 9AS', 'BT3 9BJ', 'BT3 9BP', 'BT3 9BU', 'BT3 9BW', 'BT3 9BX', 'BT3 9DH', 'BT3 9DP', 'BT3 9DT', 'BT3 9DY', 'BT3 9DZ', 'BT3 9ED', 'BT3 9EJ', 'BT3 9EP', 'BT3 9EZ', 'BT3 9HA', 'BT3 9HJ', 'BT3 9HQ', 'BT3 9HY', 'BT3 9JA', 'BT3 9JG', 'BT3 9JH', 'BT3 9JL', 'BT3 9JU', 'BT3 9LB', 'BT3 9LE', 'BT3 9LG', 'BT3 9LL', 'BT3 9LS', 'BT3 9LZ', 'BT3 9QQ', 'BT36 5DB', 'BT36 5ED', 'BT36 7DG', 'BT36 7DH', 'BT36 7DQ', 'BT36 7EN', 'BT36 7ES', 'BT36 7EU', 'BT36 7NH', 'BT36 7NU', 'BT36 7PG', 'BT36 7RW', 'BT4 1AB', 'BT4 1AD', 'BT4 1AF', 'BT4 1AG', 'BT4 1AJ', 'BT4 1AL', 'BT4 1AQ', 'BT4 1BP', 'BT4 1BT', 'BT4 1EH', 'BT4 1EN', 'BT4 1EQ', 'BT4 1EW', 'BT4 1EX', 'BT4 1FB', 'BT4 1FT', 'BT4 1HB', 'BT4 1HD', 'BT4 1HE', 'BT4 1HG', 'BT4 1HH', 'BT4 1HN', 'BT4 1JT', 'BT4 1JW', 'BT4 1JX', 'BT4 1JY', 'BT4 1NG', 'BT4 1NH', 'BT4 1NL', 'BT4 1NS', 'BT4 1NT', 'BT4 1NU', 'BT4 1NY', 'BT4 1PB', 'BT4 1PD', 'BT4 1PP', 'BT4 1PQ', 'BT4 1PU', 'BT4 1QA', 'BT4 1QQ', 'BT4 1RF', 'BT4 1RN', 'BT4 1SG', 'BT4 1SJ', 'BT4 1SU', 'BT4 2AA', 'BT4 2AB', 'BT4 2AG', 'BT4 2AH', 'BT4 2AN', 'BT4 2AS', 'BT4 2AU', 'BT4 2AW', 'BT4 2DA', 'BT4 2DT', 'BT4 2EG', 'BT4 2EX', 'BT4 2EY', 'BT4 2FE', 'BT4 2GD', 'BT4 2GP', 'BT4 2GU', 'BT4 2JP', 'BT4 2JT', 'BT4 2LR', 'BT4 2LS', 'BT4 2LY', 'BT4 2NA', 'BT4 2ND', 'BT4 2NF', 'BT4 2NL', 'BT4 2NR', 'BT4 2NW', 'BT4 2PD', 'BT4 2PW', 'BT4 2QF', 'BT4 2QQ', 'BT4 3BA', 'BT4 3BE', 'BT4 3BL', 'BT4 3BQ', 'BT4 3DA', 'BT4 3DJ', 'BT4 3DW', 'BT4 3EA', 'BT4 3EL', 'BT4 3EN', 'BT4 3EQ', 'BT4 3ET', 'BT4 3EU', 'BT4 3EX', 'BT4 3EY', 'BT4 3EZ', 'BT4 3FF', 'BT4 3FG', 'BT4 3GE', 'BT4 3HH', 'BT4 3HL', 'BT4 3HN', 'BT4 3HS', 'BT4 3HT', 'BT4 3JB', 'BT4 3JD', 'BT4 3JF', 'BT4 3JH', 'BT4 3JJ', 'BT4 3JU', 'BT4 3LD', 'BT4 3LH', 'BT4 3LJ', 'BT4 3LL', 'BT4 3LP', 'BT4 3LS', 'BT4 3NL', 'BT4 3NU', 'BT4 3SR', 'BT4 3SS', 'BT4 3ST', 'BT4 3SX', 'BT4 3SY', 'BT4 3TA', 'BT4 3TT', 'BT5', 'BT5 4AE', 'BT5 4AF', 'BT5 4AS', 'BT5 4EQ', 'BT5 4EW', 'BT5 4FE', 'BT5 4FG', 'BT5 4FT', 'BT5 4GJ', 'BT5 4GS', 'BT5 4GU', 'BT5 4GW', 'BT5 4GX', 'BT5 4HY', 'BT5 4JE', 'BT5 4LA', 'BT5 4LP', 'BT5 4NA', 'BT5 4ND', 'BT5 4NE', 'BT5 4NF', 'BT5 4NJ', 'BT5 4NL', 'BT5 4NS', 'BT5 4PS', 'BT5 4PY', 'BT5 4QA', 'BT5 4QG', 'BT5 4RR', 'BT5 4RS', 'BT5 4RZ', 'BT5 4SF', 'BT5 4SJ', 'BT5 5AA', 'BT5 5AB', 'BT5 5AD', 'BT5 5AW', 'BT5 5BA', 'BT5 5DL', 'BT5 5DS', 'BT5 5DT', 'BT5 5DW', 'BT5 5DX', 'BT5 5DY', 'BT5 5EG', 'BT5 5FB', 'BT5 5FE', 'BT5 5FH', 'BT5 5FL', 'BT5 5FP', 'BT5 5FR', 'BT5 5FS', 'BT5 5FT', 'BT5 5GJ', 'BT5 5GT', 'BT5 5HH', 'BT5 5HW', 'BT5 5JB', 'BT5 5JH', 'BT5 5JQ', 'BT5 5LP', 'BT5 5LS', 'BT5 5LT', 'BT5 5NF', 'BT5 5NG', 'BT5 5NH', 'BT5 5NX', 'BT5 5PB', 'BT5 5PE', 'BT5 6AB', 'BT5 6BB', 'BT5 6BH', 'BT5 6BW', 'BT5 6DA', 'BT5 6DF', 'BT5 6DS', 'BT5 6EB', 'BT5 6ED', 'BT5 6EH', 'BT5 6FR', 'BT5 6FY', 'BT5 6GA', 'BT5 6GR', 'BT5 6HJ', 'BT5 6HW', 'BT5 6JF', 'BT5 6JH', 'BT5 6JJ', 'BT5 6LA', 'BT5 6NF', 'BT5 6NU', 'BT5 6NY', 'BT5 6PL', 'BT5 6QD', 'BT5 6QE', 'BT5 6QP', 'BT5 6QR', 'BT5 6SL', 'BT5 6SR', 'BT5 7AH', 'BT5 7BS', 'BT5 7BX', 'BT5 7DG', 'BT5 7DL', 'BT5 7EA', 'BT5 7EH', 'BT5 7EJ', 'BT5 7EL', 'BT5 7EP', 'BT5 7FE', 'BT5 7FF', 'BT5 7GE', 'BT5 7GF', 'BT5 7GU', 'BT5 7GY', 'BT5 7HD', 'BT5 7JH', 'BT5 7JU', 'BT5 7JX', 'BT5 7LA', 'BT5 7LH', 'BT5 7LL', 'BT5 7LT', 'BT5 7LY', 'BT5 7NU', 'BT5 7PT', 'BT5 7PX', 'BT5 7QL', 'BT5 7QQ', 'BT5 7QZ', 'BT6 0AG', 'BT6 0BU', 'BT6 0BW', 'BT6 0BY', 'BT6 0BZ', 'BT6 0DE', 'BT6 0DG', 'BT6 0DL', 'BT6 0DN', 'BT6 0DT', 'BT6 0EX', 'BT6 0FL', 'BT6 0FR', 'BT6 0FS', 'BT6 0GB', 'BT6 0HB', 'BT6 0JA', 'BT6 0JB', 'BT6 0JJ', 'BT6 0JN', 'BT6 0JS', 'BT6 0LB', 'BT6 0LR', 'BT6 0LT', 'BT6 0LX', 'BT6 8AB', 'BT6 8AW', 'BT6 8BG', 'BT6 8DD', 'BT6 8DP', 'BT6 8DQ', 'BT6 8DR', 'BT6 8EE', 'BT6 8FB', 'BT6 8FE', 'BT6 8GH', 'BT6 8GJ', 'BT6 8GL', 'BT6 8HN', 'BT6 8HR', 'BT6 8JG', 'BT6 8LF', 'BT6 8ND', 'BT6 8PQ', 'BT6 8PR', 'BT6 8PT', 'BT6 8PU', 'BT6 8PW', 'BT6 8PX', 'BT6 8PY', 'BT6 8PZ', 'BT6 8RA', 'BT6 9AG', 'BT6 9DD', 'BT6 9DL', 'BT6 9DP', 'BT6 9DQ', 'BT6 9DR', 'BT6 9EP', 'BT6 9EQ', 'BT6 9ER', 'BT6 9ES', 'BT6 9ET', 'BT6 9EY', 'BT6 9FB', 'BT6 9FH', 'BT6 9GB', 'BT6 9GL', 'BT6 9GR', 'BT6 9HB', 'BT6 9HG', 'BT6 9HL', 'BT6 9HQ', 'BT6 9JA', 'BT6 9JD', 'BT6 9JY', 'BT6 9LS', 'BT6 9NS', 'BT6 9NT', 'BT6 9NX', 'BT6 9PR', 'BT6 9QB', 'BT6 9QL', 'BT6 9RA', 'BT6 9RB', 'BT6 9RZ', 'BT6 9SA', 'BT6 OFL', 'BT6 OLR', 'BT6 OLT', 'BT7 1AB', 'BT7 1AQ', 'BT7 1BS', 'BT7 1BU', 'BT7 1BX', 'BT7 1DQ', 'BT7 1DR', 'BT7 1DS', 'BT7 1DT', 'BT7 1EB', 'BT7 1FY', 'BT7 1GH', 'BT7 1GQ', 'BT7 1GX', 'BT7 1GY', 'BT7 1HL', 'BT7 1HP', 'BT7 1HU', 'BT7 1JG', 'BT7 1JJ', 'BT7 1JL', 'BT7 1JN', 'BT7 1JQ', 'BT7 1JR', 'BT7 1JT', 'BT7 1JW', 'BT7 1LP', 'BT7 1LW', 'BT7 1NA', 'BT7 1ND', 'BT7 1NF', 'BT7 1NG', 'BT7 1NH', 'BT7 1NJ', 'BT7 1NN', 'BT7 1NR', 'BT7 1PS', 'BT7 1QA', 'BT7 1QB', 'BT7 1QY', 'BT7 1RQ', 'BT7 1RR', 'BT7 1RS', 'BT7 1RT', 'BT7 1RU', 'BT7 1SH', 'BT7 1SL', 'BT7 1SQ', 'BT7 2AA', 'BT7 2AN', 'BT7 2BJ', 'BT7 2EB', 'BT7 2ED', 'BT7 2EP', 'BT7 2FW', 'BT7 2FX', 'BT7 2FZ', 'BT7 2GB', 'BT7 2GD', 'BT7 2GE', 'BT7 2GF', 'BT7 2GN', 'BT7 2GY', 'BT7 2HP', 'BT7 2JA', 'BT7 2JB', 'BT7 2JD', 'BT7 3AE', 'BT7 3BS', 'BT7 3DB', 'BT7 3ED', 'BT7 3EG', 'BT7 3EN', 'BT7 3ES', 'BT7 3FF', 'BT7 3FP', 'BT7 3GG', 'BT7 3GL', 'BT7 3GP', 'BT7 3GQ', 'BT7 3GR', 'BT7 3GX', 'BT7 3HB', 'BT7 3HE', 'BT7 3HG', 'BT7 3HL', 'BT7 3HX', 'BT7 3HY', 'BT7 3JB', 'BT7 3JD', 'BT7 3JH', 'BT7 3JJ', 'BT7 3LA', 'BT7 3LW', 'BT8 4DT', 'BT8 4SW', 'BT8 7AN', 'BT8 7DL', 'BT8 7EG', 'BT8 7EY', 'BT8 7PX', 'BT8 7QE', 'BT8 7SP', 'BT8 7SW', 'BT8 7XP', 'BT8 7XT', 'BT9 5AA', 'BT9 5AB', 'BT9 5AD', 'BT9 5AE', 'BT9 5AF', 'BT9 5AG', 'BT9 5AH', 'BT9 5AJ', 'BT9 5BJ', 'BT9 5BN', 'BT9 5BQ', 'BT9 5BU', 'BT9 5BW', 'BT9 5BY', 'BT9 5DY', 'BT9 5EA', 'BT9 5EH', 'BT9 5EL', 'BT9 5EX', 'BT9 5FB', 'BT9 5FH', 'BT9 5FJ', 'BT9 5FL', 'BT9 5JH', 'BT9 5JQ', 'BT9 5JX', 'BT9 5JY', 'BT9 5LH', 'BT9 5NA', 'BT9 5NW', 'BT9 5PB', 'BT9 5PH', 'BT9 5PX', 'BT9 5UB', 'BT9 6AA', 'BT9 6AD', 'BT9 6AF', 'BT9 6AG', 'BT9 6AH', 'BT9 6AJ', 'BT9 6AL', 'BT9 6AX', 'BT9 6AY', 'BT9 6BQ', 'BT9 6BY', 'BT9 6DP', 'BT9 6DW', 'BT9 6DX', 'BT9 6DY', 'BT9 6EE', 'BT9 6EJ', 'BT9 6EL', 'BT9 6EU', 'BT9 6EW', 'BT9 6FL', 'BT9 6FP', 'BT9 6FR', 'BT9 6FX', 'BT9 6GD', 'BT9 6GH', 'BT9 6GJ', 'BT9 6GL', 'BT9 6GN', 'BT9 6GU', 'BT9 6GX', 'BT9 6HG', 'BT9 6HL', 'BT9 6HT', 'BT9 6HW', 'BT9 6JP', 'BT9 6JR', 'BT9 6LD', 'BT9 6LN', 'BT9 6LY', 'BT9 6NH', 'BT9 6QR', 'BT9 6RT', 'BT9 6RU', 'BT9 6RW', 'BT9 6SB', 'BT9 6SJ', 'BT9 6TQ', 'BT9 6TT', 'BT9 6TX', 'BT9 6TY', 'BT9 7AB', 'BT9 7AE', 'BT9 7AG', 'BT9 7AJ', 'BT9 7AQ', 'BT9 7AT', 'BT9 7BJ', 'BT9 7BL', 'BT9 7BW', 'BT9 7DS', 'BT9 7DW', 'BT9 7EJ', 'BT9 7EN', 'BT9 7EP', 'BT9 7ET', 'BT9 7EW', 'BT9 7EY', 'BT9 7EZ', 'BT9 7FR', 'BT9 7GQ', 'BT9 7GS', 'BT9 7GT', 'BT9 7GU', 'BT9 7GX', 'BT9 7GY', 'BT9 7HN', 'BT9 7JA', 'BT9 7JB', 'BT9 7JE', 'BT9 7JG']\n"
     ]
    }
   ],
   "source": [
    "postcodes = sorted(df['postcode'].unique())\n",
    "print(postcodes)"
   ]
  },
  {
   "cell_type": "markdown",
   "metadata": {
    "ExecuteTime": {
     "end_time": "2017-10-23T12:01:05.394032Z",
     "start_time": "2017-10-23T12:01:05.362730Z"
    },
    "slideshow": {
     "slide_type": "subslide"
    }
   },
   "source": [
    "***Bonus Round***, top postcodes, alphabetically"
   ]
  },
  {
   "cell_type": "code",
   "execution_count": 33,
   "metadata": {
    "ExecuteTime": {
     "end_time": "2018-06-07T12:08:37.963118Z",
     "start_time": "2018-06-07T12:08:37.952982Z"
    },
    "slideshow": {
     "slide_type": "-"
    }
   },
   "outputs": [
    {
     "data": {
      "text/plain": [
       "postcode\n",
       "BT1 3NQ     86\n",
       "            33\n",
       "BT1 4QG     23\n",
       "BT15 1WA    19\n",
       "BT1 1HL     18\n",
       "BT1 1DD     18\n",
       "dtype: int64"
      ]
     },
     "execution_count": 33,
     "metadata": {},
     "output_type": "execute_result"
    }
   ],
   "source": [
    "df.groupby('postcode').size().sort_values(ascending=False).head(6)"
   ]
  },
  {
   "cell_type": "markdown",
   "metadata": {
    "ExecuteTime": {
     "end_time": "2017-10-23T12:01:05.419759Z",
     "start_time": "2017-10-23T12:01:05.396048Z"
    },
    "slideshow": {
     "slide_type": "fragment"
    }
   },
   "source": [
    "**Bonus Bonus Round**, there are many ways to do *similar* things\n",
    "Top postcodes, by order of 1st appearance in dataset"
   ]
  },
  {
   "cell_type": "code",
   "execution_count": 34,
   "metadata": {
    "ExecuteTime": {
     "end_time": "2018-06-07T12:08:37.974205Z",
     "start_time": "2018-06-07T12:08:37.965648Z"
    },
    "slideshow": {
     "slide_type": "fragment"
    }
   },
   "outputs": [
    {
     "data": {
      "text/plain": [
       "BT1 3NQ     86\n",
       "            33\n",
       "BT1 4QG     23\n",
       "BT15 1WA    19\n",
       "BT12 6HU    18\n",
       "BT3 9JL     18\n",
       "Name: postcode, dtype: int64"
      ]
     },
     "execution_count": 34,
     "metadata": {},
     "output_type": "execute_result"
    }
   ],
   "source": [
    "df['postcode'].value_counts(ascending=False)[:6]"
   ]
  },
  {
   "cell_type": "markdown",
   "metadata": {
    "ExecuteTime": {
     "end_time": "2017-10-23T12:01:05.444927Z",
     "start_time": "2017-10-23T12:01:05.422029Z"
    },
    "slideshow": {
     "slide_type": "subslide"
    }
   },
   "source": [
    "### Print a list of all establishment names that do not have a recorded postcode."
   ]
  },
  {
   "cell_type": "code",
   "execution_count": 35,
   "metadata": {
    "ExecuteTime": {
     "end_time": "2018-06-07T12:08:37.984932Z",
     "start_time": "2018-06-07T12:08:37.976560Z"
    },
    "slideshow": {
     "slide_type": "-"
    }
   },
   "outputs": [
    {
     "data": {
      "text/plain": [
       "101                           El Divino\n",
       "294                    Gibsons Butchers\n",
       "533                            Van Shop\n",
       "540                St Galls Coffee Shop\n",
       "607                 Glenbrook Surestart\n",
       "672                 Glenbrook Surestart\n",
       "767                        Costa Coffee\n",
       "774                            Holohans\n",
       "776            Cafe Krem Students Union\n",
       "972                      Royal Day Care\n",
       "1025                Glenbrook Surestart\n",
       "1030    Malone Kindergarden - Simply Me\n",
       "1500                         Top Centra\n",
       "1531                          Russell's\n",
       "1763                      The Dock Cafe\n",
       "2154                    Select Catering\n",
       "2158                  The Bus Stop Cafe\n",
       "2161    Firths Traditional Fish & Chips\n",
       "2162                    Attridge & Cole\n",
       "2165                    Bernies Burgers\n",
       "2170                          Top Scoff\n",
       "2263              Campbell McCleave Ltd\n",
       "2290          First Presbyterian Church\n",
       "2540        Pizza Hut (Victoria Square)\n",
       "2541     TGI Fridays  (Victoria Square)\n",
       "2651                      Pizza Express\n",
       "2699    GIBONEY HOUSE (CLANMIL HOUSING)\n",
       "2815                  Select Sandwiches\n",
       "2928           Grosvenor Grammar School\n",
       "2943                    St John Paul II\n",
       "2961         Taughmonagh Nursery School\n",
       "3045                        Malton Fold\n",
       "3103                   The Candy Man UK\n",
       "Name: establishmentname, dtype: object"
      ]
     },
     "execution_count": 35,
     "metadata": {},
     "output_type": "execute_result"
    }
   ],
   "source": [
    "df[df['postcode'] == '']['establishmentname']"
   ]
  },
  {
   "cell_type": "markdown",
   "metadata": {
    "ExecuteTime": {
     "end_time": "2017-10-23T12:01:05.475775Z",
     "start_time": "2017-10-23T12:01:05.447010Z"
    },
    "slideshow": {
     "slide_type": "subslide"
    }
   },
   "source": [
    "### Print a list of all establishment names that are missing any item of information\n",
    "\n",
    "Assumptions:\n",
    "* \"Any\" information includes optional address fields"
   ]
  },
  {
   "cell_type": "code",
   "execution_count": 36,
   "metadata": {
    "ExecuteTime": {
     "end_time": "2018-06-07T12:08:38.002699Z",
     "start_time": "2018-06-07T12:08:37.988049Z"
    },
    "slideshow": {
     "slide_type": "fragment"
    }
   },
   "outputs": [
    {
     "data": {
      "text/plain": [
       "0                                              Heyn Group\n",
       "1                                     Rosemary Lunch Club\n",
       "2                              John Ross & Co Auctioneers\n",
       "3                                   The Maverick/Boom Box\n",
       "4                                                Maverick\n",
       "5                          Windsor Recreation & Social Cl\n",
       "6                                         The Chester Inn\n",
       "7                                           The Sportsman\n",
       "8                                    City Hibernians Club\n",
       "9                        Forthriver Bowling & Tennis Club\n",
       "10                         Shawsbridge Sports Association\n",
       "11                                       Muriels Cafe Bar\n",
       "12                                               MCGLONES\n",
       "13                                       The Corner House\n",
       "14                                    Ewarts Bowling Club\n",
       "15                             Ligoniel Working Mens Club\n",
       "16                                           DUNMURRY INN\n",
       "17                                             McEnaney's\n",
       "18                                            LAUREL GLEN\n",
       "19           Linfield Football Club - Temporary Clubhouse\n",
       "20                    DUNMURRY RECREATION & FOOTBALL CLUB\n",
       "21                                               McKennas\n",
       "22                              Ardoyne Working Mens Club\n",
       "23                                        The Stadium Bar\n",
       "24                                                 Ollies\n",
       "25                                           The Harp Bar\n",
       "26                        Shorts Sports & Recreation Club\n",
       "27                                           The Spaniard\n",
       "28                                   The Bar with No Name\n",
       "29                        Cliftonville Golf Club Catering\n",
       "                              ...                        \n",
       "3138                                        Lyric Theatre\n",
       "3139                                   Strand Arts Centre\n",
       "3140                                        Cregagh Video\n",
       "3141                                 China Cash and Carry\n",
       "3142                      Camseng International Foods Ltd\n",
       "3143                                           Shah Jalal\n",
       "3144                                 SANGERS (NI) LIMITED\n",
       "3145                   Makro Self Service Wholesalers Ltd\n",
       "3146                AAH PHARMACEUTICALS LIMITED (VESTRIC)\n",
       "3147                                          Sweet Sales\n",
       "3148                                     North Down Group\n",
       "3149                                     Air Products PLC\n",
       "3150                                Courtney & Nelson Ltd\n",
       "3151                                          Spicers Ltd\n",
       "3152                          Topmark Food Cash and Carry\n",
       "3153                                Musgrave Market Place\n",
       "3154                                     Asia Supermarket\n",
       "3155                                            Lee Foods\n",
       "3156                                     Asia Supermarket\n",
       "3157                             Blacks Catering Supplies\n",
       "3158                                          Punjana Ltd\n",
       "3159                     Botl Wine & Spirit Merchants Ltd\n",
       "3160                                 Cargo Forwarding Ltd\n",
       "3161                                              Selecta\n",
       "3162    Business Services Organisation - Procurement +...\n",
       "3163                          Beck and Scott Services Ltd\n",
       "3164                                              Samskip\n",
       "3165                                          Irish Feeds\n",
       "3166                              NATURAL HEALTH PRODUCTS\n",
       "3167                                           STOREHOUSE\n",
       "Name: establishmentname, Length: 3168, dtype: object"
      ]
     },
     "execution_count": 36,
     "metadata": {},
     "output_type": "execute_result"
    }
   ],
   "source": [
    "df[df.isin((None,'')).any(axis=1)]['establishmentname']"
   ]
  },
  {
   "cell_type": "markdown",
   "metadata": {
    "ExecuteTime": {
     "end_time": "2017-10-23T12:40:37.239046Z",
     "start_time": "2017-10-23T12:40:37.173922Z"
    },
    "slideshow": {
     "slide_type": "subslide"
    }
   },
   "source": [
    "Well that was a bit pointless; everything is missing something! Our assumption was wrong\n",
    "\n",
    "New Assumption:\n",
    "* All entries should have a rating, an addressline3 and a postcode"
   ]
  },
  {
   "cell_type": "code",
   "execution_count": 37,
   "metadata": {
    "ExecuteTime": {
     "end_time": "2018-06-07T12:08:38.016508Z",
     "start_time": "2018-06-07T12:08:38.005101Z"
    },
    "slideshow": {
     "slide_type": "fragment"
    }
   },
   "outputs": [
    {
     "data": {
      "text/plain": [
       "10              Shawsbridge Sports Association\n",
       "26             Shorts Sports & Recreation Club\n",
       "35                                 The Farmers\n",
       "101                                  El Divino\n",
       "186                                     Berlin\n",
       "280                       Butchers Mini Market\n",
       "294                           Gibsons Butchers\n",
       "454                                      Junes\n",
       "533                                   Van Shop\n",
       "540                       St Galls Coffee Shop\n",
       "547                       Canteen Kitchen Cafe\n",
       "553               Mornington Community Project\n",
       "572                         White Field Coffee\n",
       "587              Franklin & James Expresso Bar\n",
       "590                                       Loft\n",
       "596            Boyles at the Linenhall Library\n",
       "600                                     Boojum\n",
       "607                        Glenbrook Surestart\n",
       "616            INTO Queen's University Belfast\n",
       "640                              Cafe Meluzyna\n",
       "643                     Cuban Sandwich Factory\n",
       "645                         Polita Cafe Bistro\n",
       "672                        Glenbrook Surestart\n",
       "674                        Flamenco Patisserie\n",
       "678                          California Coffee\n",
       "699                            Rcity Youth CIC\n",
       "748                                Cafe Royale\n",
       "767                               Costa Coffee\n",
       "774                                   Holohans\n",
       "776                   Cafe Krem Students Union\n",
       "                         ...                  \n",
       "2446                     Wilgar Drop In Centre\n",
       "2461                                   Jasmine\n",
       "2462                          Hotplate Noshery\n",
       "2465                       Bulletproof Burgers\n",
       "2471                        Harry Halls Bistro\n",
       "2485                         General Merchants\n",
       "2512                                    Boojum\n",
       "2519                                India Gate\n",
       "2533                               All Seasons\n",
       "2537        The Belfast Baking Company Limited\n",
       "2540               Pizza Hut (Victoria Square)\n",
       "2541            TGI Fridays  (Victoria Square)\n",
       "2542                                 Five Guys\n",
       "2651                             Pizza Express\n",
       "2699           GIBONEY HOUSE (CLANMIL HOUSING)\n",
       "2749                                    Polita\n",
       "2815                         Select Sandwiches\n",
       "2817                 Clements ( Manufacturer )\n",
       "2928                  Grosvenor Grammar School\n",
       "2943                           St John Paul II\n",
       "2961                Taughmonagh Nursery School\n",
       "2970          St Marys PS Barrack Street.Divis\n",
       "3045                               Malton Fold\n",
       "3080                              Elles Belles\n",
       "3083                            The Coffee Hut\n",
       "3095      Amberline (Stall at Folktown Market)\n",
       "3097    Street Dogs (Stall at Folktown Market)\n",
       "3103                          The Candy Man UK\n",
       "3104                           Do me a flavour\n",
       "3159          Botl Wine & Spirit Merchants Ltd\n",
       "Name: establishmentname, Length: 118, dtype: object"
      ]
     },
     "execution_count": 37,
     "metadata": {},
     "output_type": "execute_result"
    }
   ],
   "source": [
    "df[df[['postcode','rating','establishmentaddressline3']].isin((None,'')).any(axis=1)]['establishmentname']"
   ]
  },
  {
   "cell_type": "markdown",
   "metadata": {
    "slideshow": {
     "slide_type": "slide"
    }
   },
   "source": [
    "## Tasks Continued\n",
    "That's all very well and good, but for some of the later challenges, we need to fiddle with things\n",
    "\n",
    "Data Science is all about tidying stuff up."
   ]
  },
  {
   "cell_type": "code",
   "execution_count": 38,
   "metadata": {
    "ExecuteTime": {
     "end_time": "2018-06-07T12:08:38.035081Z",
     "start_time": "2018-06-07T12:08:38.019105Z"
    },
    "slideshow": {
     "slide_type": "fragment"
    }
   },
   "outputs": [
    {
     "data": {
      "text/html": [
       "<div>\n",
       "<style scoped>\n",
       "    .dataframe tbody tr th:only-of-type {\n",
       "        vertical-align: middle;\n",
       "    }\n",
       "\n",
       "    .dataframe tbody tr th {\n",
       "        vertical-align: top;\n",
       "    }\n",
       "\n",
       "    .dataframe thead th {\n",
       "        text-align: right;\n",
       "    }\n",
       "</style>\n",
       "<table border=\"1\" class=\"dataframe\">\n",
       "  <thead>\n",
       "    <tr style=\"text-align: right;\">\n",
       "      <th></th>\n",
       "      <th>_id</th>\n",
       "      <th>buildingid</th>\n",
       "      <th>establishmentaddressline1</th>\n",
       "      <th>establishmentaddressline2</th>\n",
       "      <th>establishmentaddressline3</th>\n",
       "      <th>establishmentaddressline4</th>\n",
       "      <th>establishmentname</th>\n",
       "      <th>inspectiondate</th>\n",
       "      <th>latitude</th>\n",
       "      <th>longitude</th>\n",
       "      <th>postcode</th>\n",
       "      <th>rating</th>\n",
       "    </tr>\n",
       "  </thead>\n",
       "  <tbody>\n",
       "    <tr>\n",
       "      <th>0</th>\n",
       "      <td>1</td>\n",
       "      <td>185003495</td>\n",
       "      <td></td>\n",
       "      <td></td>\n",
       "      <td>1 Corry Place</td>\n",
       "      <td>Belfast</td>\n",
       "      <td>Heyn Group</td>\n",
       "      <td>2012-08-23T00:00:00</td>\n",
       "      <td>375525</td>\n",
       "      <td>334581</td>\n",
       "      <td>BT3 9AH</td>\n",
       "      <td>5</td>\n",
       "    </tr>\n",
       "    <tr>\n",
       "      <th>1</th>\n",
       "      <td>2</td>\n",
       "      <td>185746347</td>\n",
       "      <td>Rosemary Presbyterian Church</td>\n",
       "      <td></td>\n",
       "      <td>26-36 North Circular Road</td>\n",
       "      <td>Belfast</td>\n",
       "      <td>Rosemary Lunch Club</td>\n",
       "      <td>2014-10-21T00:00:00</td>\n",
       "      <td>378213</td>\n",
       "      <td>332938</td>\n",
       "      <td>BT15 5HD</td>\n",
       "      <td>5</td>\n",
       "    </tr>\n",
       "    <tr>\n",
       "      <th>2</th>\n",
       "      <td>3</td>\n",
       "      <td>185001807</td>\n",
       "      <td></td>\n",
       "      <td></td>\n",
       "      <td>37 Montgomery Street</td>\n",
       "      <td>Belfast</td>\n",
       "      <td>John Ross &amp; Co Auctioneers</td>\n",
       "      <td>2015-03-19T00:00:00</td>\n",
       "      <td>373992</td>\n",
       "      <td>334055</td>\n",
       "      <td>BT1 4NX</td>\n",
       "      <td>4</td>\n",
       "    </tr>\n",
       "    <tr>\n",
       "      <th>3</th>\n",
       "      <td>4</td>\n",
       "      <td>185000821</td>\n",
       "      <td></td>\n",
       "      <td></td>\n",
       "      <td>108 Donegall Street</td>\n",
       "      <td>Belfast</td>\n",
       "      <td>The Maverick/Boom Box</td>\n",
       "      <td>2014-11-03T00:00:00</td>\n",
       "      <td>374852</td>\n",
       "      <td>333733</td>\n",
       "      <td>BT1 2GX</td>\n",
       "      <td>5</td>\n",
       "    </tr>\n",
       "    <tr>\n",
       "      <th>4</th>\n",
       "      <td>5</td>\n",
       "      <td>187129705</td>\n",
       "      <td></td>\n",
       "      <td></td>\n",
       "      <td>1 Union Street</td>\n",
       "      <td></td>\n",
       "      <td>Maverick</td>\n",
       "      <td>2014-02-13T00:00:00</td>\n",
       "      <td>378435</td>\n",
       "      <td>281262</td>\n",
       "      <td>BT1 2JF</td>\n",
       "      <td>4</td>\n",
       "    </tr>\n",
       "  </tbody>\n",
       "</table>\n",
       "</div>"
      ],
      "text/plain": [
       "   _id buildingid     establishmentaddressline1 establishmentaddressline2  \\\n",
       "0    1  185003495                                                           \n",
       "1    2  185746347  Rosemary Presbyterian Church                             \n",
       "2    3  185001807                                                           \n",
       "3    4  185000821                                                           \n",
       "4    5  187129705                                                           \n",
       "\n",
       "   establishmentaddressline3 establishmentaddressline4  \\\n",
       "0              1 Corry Place                   Belfast   \n",
       "1  26-36 North Circular Road                   Belfast   \n",
       "2       37 Montgomery Street                   Belfast   \n",
       "3        108 Donegall Street                   Belfast   \n",
       "4             1 Union Street                             \n",
       "\n",
       "            establishmentname       inspectiondate latitude longitude  \\\n",
       "0                  Heyn Group  2012-08-23T00:00:00   375525    334581   \n",
       "1         Rosemary Lunch Club  2014-10-21T00:00:00   378213    332938   \n",
       "2  John Ross & Co Auctioneers  2015-03-19T00:00:00   373992    334055   \n",
       "3       The Maverick/Boom Box  2014-11-03T00:00:00   374852    333733   \n",
       "4                    Maverick  2014-02-13T00:00:00   378435    281262   \n",
       "\n",
       "   postcode rating  \n",
       "0   BT3 9AH      5  \n",
       "1  BT15 5HD      5  \n",
       "2   BT1 4NX      4  \n",
       "3   BT1 2GX      5  \n",
       "4   BT1 2JF      4  "
      ]
     },
     "execution_count": 38,
     "metadata": {},
     "output_type": "execute_result"
    }
   ],
   "source": [
    "df.head()"
   ]
  },
  {
   "cell_type": "code",
   "execution_count": 39,
   "metadata": {
    "ExecuteTime": {
     "end_time": "2018-06-07T12:08:38.056053Z",
     "start_time": "2018-06-07T12:08:38.037508Z"
    },
    "slideshow": {
     "slide_type": "fragment"
    }
   },
   "outputs": [
    {
     "data": {
      "text/html": [
       "<div>\n",
       "<style scoped>\n",
       "    .dataframe tbody tr th:only-of-type {\n",
       "        vertical-align: middle;\n",
       "    }\n",
       "\n",
       "    .dataframe tbody tr th {\n",
       "        vertical-align: top;\n",
       "    }\n",
       "\n",
       "    .dataframe thead th {\n",
       "        text-align: right;\n",
       "    }\n",
       "</style>\n",
       "<table border=\"1\" class=\"dataframe\">\n",
       "  <thead>\n",
       "    <tr style=\"text-align: right;\">\n",
       "      <th></th>\n",
       "      <th>buildingid</th>\n",
       "      <th>establishmentaddressline1</th>\n",
       "      <th>establishmentaddressline2</th>\n",
       "      <th>establishmentaddressline3</th>\n",
       "      <th>establishmentaddressline4</th>\n",
       "      <th>establishmentname</th>\n",
       "      <th>inspectiondate</th>\n",
       "      <th>latitude</th>\n",
       "      <th>longitude</th>\n",
       "      <th>postcode</th>\n",
       "      <th>rating</th>\n",
       "    </tr>\n",
       "  </thead>\n",
       "  <tbody>\n",
       "    <tr>\n",
       "      <th>0</th>\n",
       "      <td>185003495</td>\n",
       "      <td></td>\n",
       "      <td></td>\n",
       "      <td>1 Corry Place</td>\n",
       "      <td>Belfast</td>\n",
       "      <td>Heyn Group</td>\n",
       "      <td>2012-08-23T00:00:00</td>\n",
       "      <td>375525</td>\n",
       "      <td>334581</td>\n",
       "      <td>BT3 9AH</td>\n",
       "      <td>5</td>\n",
       "    </tr>\n",
       "    <tr>\n",
       "      <th>1</th>\n",
       "      <td>185746347</td>\n",
       "      <td>Rosemary Presbyterian Church</td>\n",
       "      <td></td>\n",
       "      <td>26-36 North Circular Road</td>\n",
       "      <td>Belfast</td>\n",
       "      <td>Rosemary Lunch Club</td>\n",
       "      <td>2014-10-21T00:00:00</td>\n",
       "      <td>378213</td>\n",
       "      <td>332938</td>\n",
       "      <td>BT15 5HD</td>\n",
       "      <td>5</td>\n",
       "    </tr>\n",
       "    <tr>\n",
       "      <th>2</th>\n",
       "      <td>185001807</td>\n",
       "      <td></td>\n",
       "      <td></td>\n",
       "      <td>37 Montgomery Street</td>\n",
       "      <td>Belfast</td>\n",
       "      <td>John Ross &amp; Co Auctioneers</td>\n",
       "      <td>2015-03-19T00:00:00</td>\n",
       "      <td>373992</td>\n",
       "      <td>334055</td>\n",
       "      <td>BT1 4NX</td>\n",
       "      <td>4</td>\n",
       "    </tr>\n",
       "    <tr>\n",
       "      <th>3</th>\n",
       "      <td>185000821</td>\n",
       "      <td></td>\n",
       "      <td></td>\n",
       "      <td>108 Donegall Street</td>\n",
       "      <td>Belfast</td>\n",
       "      <td>The Maverick/Boom Box</td>\n",
       "      <td>2014-11-03T00:00:00</td>\n",
       "      <td>374852</td>\n",
       "      <td>333733</td>\n",
       "      <td>BT1 2GX</td>\n",
       "      <td>5</td>\n",
       "    </tr>\n",
       "    <tr>\n",
       "      <th>4</th>\n",
       "      <td>187129705</td>\n",
       "      <td></td>\n",
       "      <td></td>\n",
       "      <td>1 Union Street</td>\n",
       "      <td></td>\n",
       "      <td>Maverick</td>\n",
       "      <td>2014-02-13T00:00:00</td>\n",
       "      <td>378435</td>\n",
       "      <td>281262</td>\n",
       "      <td>BT1 2JF</td>\n",
       "      <td>4</td>\n",
       "    </tr>\n",
       "  </tbody>\n",
       "</table>\n",
       "</div>"
      ],
      "text/plain": [
       "  buildingid     establishmentaddressline1 establishmentaddressline2  \\\n",
       "0  185003495                                                           \n",
       "1  185746347  Rosemary Presbyterian Church                             \n",
       "2  185001807                                                           \n",
       "3  185000821                                                           \n",
       "4  187129705                                                           \n",
       "\n",
       "   establishmentaddressline3 establishmentaddressline4  \\\n",
       "0              1 Corry Place                   Belfast   \n",
       "1  26-36 North Circular Road                   Belfast   \n",
       "2       37 Montgomery Street                   Belfast   \n",
       "3        108 Donegall Street                   Belfast   \n",
       "4             1 Union Street                             \n",
       "\n",
       "            establishmentname       inspectiondate latitude longitude  \\\n",
       "0                  Heyn Group  2012-08-23T00:00:00   375525    334581   \n",
       "1         Rosemary Lunch Club  2014-10-21T00:00:00   378213    332938   \n",
       "2  John Ross & Co Auctioneers  2015-03-19T00:00:00   373992    334055   \n",
       "3       The Maverick/Boom Box  2014-11-03T00:00:00   374852    333733   \n",
       "4                    Maverick  2014-02-13T00:00:00   378435    281262   \n",
       "\n",
       "   postcode rating  \n",
       "0   BT3 9AH      5  \n",
       "1  BT15 5HD      5  \n",
       "2   BT1 4NX      4  \n",
       "3   BT1 2GX      5  \n",
       "4   BT1 2JF      4  "
      ]
     },
     "execution_count": 39,
     "metadata": {},
     "output_type": "execute_result"
    }
   ],
   "source": [
    "# Looking Good but that _id is a bit pointless\n",
    "df = df.drop('_id', axis=1)\n",
    "df.head()"
   ]
  },
  {
   "cell_type": "markdown",
   "metadata": {
    "slideshow": {
     "slide_type": "subslide"
    }
   },
   "source": [
    "## Do some actual analysis\n",
    "That's more like it\n",
    "\n",
    "Start with the average rating"
   ]
  },
  {
   "cell_type": "code",
   "execution_count": 40,
   "metadata": {
    "ExecuteTime": {
     "end_time": "2018-06-07T12:08:38.064413Z",
     "start_time": "2018-06-07T12:08:38.058514Z"
    },
    "slideshow": {
     "slide_type": "fragment"
    }
   },
   "outputs": [
    {
     "name": "stdout",
     "output_type": "stream",
     "text": [
      "That didn't work must be str, not int\n"
     ]
    }
   ],
   "source": [
    "try:\n",
    "    df['rating'].mean()\n",
    "except TypeError as e:\n",
    "    print(\"That didn't work\", e)"
   ]
  },
  {
   "cell_type": "code",
   "execution_count": 41,
   "metadata": {
    "ExecuteTime": {
     "end_time": "2018-06-07T12:08:38.073076Z",
     "start_time": "2018-06-07T12:08:38.066839Z"
    },
    "slideshow": {
     "slide_type": "fragment"
    }
   },
   "outputs": [
    {
     "data": {
      "text/plain": [
       "buildingid                   object\n",
       "establishmentaddressline1    object\n",
       "establishmentaddressline2    object\n",
       "establishmentaddressline3    object\n",
       "establishmentaddressline4    object\n",
       "establishmentname            object\n",
       "inspectiondate               object\n",
       "latitude                     object\n",
       "longitude                    object\n",
       "postcode                     object\n",
       "rating                       object\n",
       "dtype: object"
      ]
     },
     "execution_count": 41,
     "metadata": {},
     "output_type": "execute_result"
    }
   ],
   "source": [
    "# DANGER WILL ROBINSON\n",
    "df.dtypes"
   ]
  },
  {
   "cell_type": "markdown",
   "metadata": {
    "slideshow": {
     "slide_type": "subslide"
    }
   },
   "source": [
    "### So what seems to be the trouble here?"
   ]
  },
  {
   "cell_type": "code",
   "execution_count": 42,
   "metadata": {
    "ExecuteTime": {
     "end_time": "2018-06-07T12:08:38.081194Z",
     "start_time": "2018-06-07T12:08:38.075974Z"
    },
    "slideshow": {
     "slide_type": "-"
    }
   },
   "outputs": [
    {
     "data": {
      "text/plain": [
       "array(['5', '4', None, '2', '3', '1'], dtype=object)"
      ]
     },
     "execution_count": 42,
     "metadata": {},
     "output_type": "execute_result"
    }
   ],
   "source": [
    "df['rating'].unique()"
   ]
  },
  {
   "cell_type": "markdown",
   "metadata": {
    "ExecuteTime": {
     "end_time": "2017-10-23T08:21:10.925667Z",
     "start_time": "2017-10-23T08:21:10.884889Z"
    },
    "slideshow": {
     "slide_type": "fragment"
    }
   },
   "source": [
    "There are A LOT of un-rated premises...\n",
    "So we shouldn't just throw them away."
   ]
  },
  {
   "cell_type": "code",
   "execution_count": 43,
   "metadata": {
    "ExecuteTime": {
     "end_time": "2018-06-07T12:08:38.090015Z",
     "start_time": "2018-06-07T12:08:38.083568Z"
    },
    "slideshow": {
     "slide_type": "-"
    }
   },
   "outputs": [
    {
     "data": {
      "text/plain": [
       "902"
      ]
     },
     "execution_count": 43,
     "metadata": {},
     "output_type": "execute_result"
    }
   ],
   "source": [
    "df[df['rating'].isnull()].size"
   ]
  },
  {
   "cell_type": "markdown",
   "metadata": {
    "slideshow": {
     "slide_type": "subslide"
    }
   },
   "source": [
    "### Cast as float, Nones become Nan\n",
    "(None is the absence of a value, Nan is \"Not a Number\")\n",
    "If you really care, look up category theory\n",
    "But I don't, so let's jog on."
   ]
  },
  {
   "cell_type": "code",
   "execution_count": 44,
   "metadata": {
    "ExecuteTime": {
     "end_time": "2018-06-07T12:08:38.102021Z",
     "start_time": "2018-06-07T12:08:38.092475Z"
    }
   },
   "outputs": [
    {
     "data": {
      "text/plain": [
       "array([ 5.,  4., nan,  2.,  3.,  1.])"
      ]
     },
     "execution_count": 44,
     "metadata": {},
     "output_type": "execute_result"
    }
   ],
   "source": [
    "df['rating'] = df['rating'].astype(float)\n",
    "df['rating'].unique()"
   ]
  },
  {
   "cell_type": "markdown",
   "metadata": {
    "slideshow": {
     "slide_type": "fragment"
    }
   },
   "source": [
    "Now, what's the average rating?"
   ]
  },
  {
   "cell_type": "code",
   "execution_count": 45,
   "metadata": {
    "ExecuteTime": {
     "end_time": "2018-06-07T12:08:38.109813Z",
     "start_time": "2018-06-07T12:08:38.104721Z"
    },
    "slideshow": {
     "slide_type": "-"
    }
   },
   "outputs": [
    {
     "data": {
      "text/plain": [
       "4.385288399222294"
      ]
     },
     "execution_count": 45,
     "metadata": {},
     "output_type": "execute_result"
    }
   ],
   "source": [
    "df['rating'].mean()"
   ]
  },
  {
   "cell_type": "markdown",
   "metadata": {
    "slideshow": {
     "slide_type": "subslide"
    }
   },
   "source": [
    "This [by default](https://pandas.pydata.org/pandas-docs/stable/generated/pandas.DataFrame.mean.html) throws away `nan` values, because performing maths on 'nothing' leads to infinities, which is **A Bad Thing™**"
   ]
  },
  {
   "cell_type": "code",
   "execution_count": 46,
   "metadata": {
    "ExecuteTime": {
     "end_time": "2018-06-07T12:08:38.117621Z",
     "start_time": "2018-06-07T12:08:38.112216Z"
    },
    "slideshow": {
     "slide_type": "-"
    }
   },
   "outputs": [
    {
     "data": {
      "text/plain": [
       "nan"
      ]
     },
     "execution_count": 46,
     "metadata": {},
     "output_type": "execute_result"
    }
   ],
   "source": [
    "df['rating'].mean(skipna=False)"
   ]
  },
  {
   "cell_type": "markdown",
   "metadata": {
    "slideshow": {
     "slide_type": "subslide"
    }
   },
   "source": [
    "### So what's the distribution of ratings?\n",
    "Who knows about Histograms?"
   ]
  },
  {
   "cell_type": "code",
   "execution_count": 47,
   "metadata": {
    "ExecuteTime": {
     "end_time": "2018-06-07T12:08:38.277410Z",
     "start_time": "2018-06-07T12:08:38.120227Z"
    },
    "slideshow": {
     "slide_type": "-"
    }
   },
   "outputs": [
    {
     "data": {
      "text/plain": [
       "<matplotlib.axes._subplots.AxesSubplot at 0x115556e10>"
      ]
     },
     "execution_count": 47,
     "metadata": {},
     "output_type": "execute_result"
    },
    {
     "data": {
      "image/png": "[encoded data removed]",
      "text/plain": [
       "<Figure size 432x288 with 1 Axes>"
      ]
     },
     "metadata": {},
     "output_type": "display_data"
    }
   ],
   "source": [
    "f,ax = plt.subplots()\n",
    "df['rating'].plot.hist(ax=ax)"
   ]
  },
  {
   "cell_type": "markdown",
   "metadata": {
    "ExecuteTime": {
     "end_time": "2017-10-23T08:37:50.417475Z",
     "start_time": "2017-10-23T08:37:50.366823Z"
    },
    "slideshow": {
     "slide_type": "subslide"
    }
   },
   "source": [
    "### Getting the `size` of each rating group:"
   ]
  },
  {
   "cell_type": "code",
   "execution_count": 48,
   "metadata": {
    "ExecuteTime": {
     "end_time": "2018-06-07T12:08:38.288740Z",
     "start_time": "2018-06-07T12:08:38.280116Z"
    },
    "slideshow": {
     "slide_type": "-"
    }
   },
   "outputs": [
    {
     "data": {
      "text/plain": [
       "rating\n",
       "1.0      28\n",
       "2.0      61\n",
       "3.0     391\n",
       "4.0     820\n",
       "5.0    1786\n",
       "dtype: int64"
      ]
     },
     "execution_count": 48,
     "metadata": {},
     "output_type": "execute_result"
    }
   ],
   "source": [
    "df.groupby('rating').size()"
   ]
  },
  {
   "cell_type": "markdown",
   "metadata": {
    "slideshow": {
     "slide_type": "subslide"
    }
   },
   "source": [
    "### Having your Pie and eating it"
   ]
  },
  {
   "cell_type": "code",
   "execution_count": 49,
   "metadata": {
    "ExecuteTime": {
     "end_time": "2018-06-07T12:08:38.383850Z",
     "start_time": "2018-06-07T12:08:38.291880Z"
    },
    "slideshow": {
     "slide_type": "-"
    }
   },
   "outputs": [
    {
     "data": {
      "text/plain": [
       "<matplotlib.axes._subplots.AxesSubplot at 0x11567eef0>"
      ]
     },
     "execution_count": 49,
     "metadata": {},
     "output_type": "execute_result"
    },
    {
     "data": {
      "image/png": "[encoded data removed]",
      "text/plain": [
       "<Figure size 432x288 with 1 Axes>"
      ]
     },
     "metadata": {},
     "output_type": "display_data"
    }
   ],
   "source": [
    "f,ax = plt.subplots()\n",
    "df.groupby('rating').size().plot.pie(ax=ax, label='Ratings')"
   ]
  },
  {
   "cell_type": "markdown",
   "metadata": {
    "slideshow": {
     "slide_type": "slide"
    }
   },
   "source": [
    "## Data Cleaning\n",
    "\n",
    "* What's necessary and what's not? \n",
    "* What's broken/wrong?"
   ]
  },
  {
   "cell_type": "code",
   "execution_count": 50,
   "metadata": {
    "ExecuteTime": {
     "end_time": "2018-06-07T12:08:38.401986Z",
     "start_time": "2018-06-07T12:08:38.386750Z"
    },
    "slideshow": {
     "slide_type": "-"
    }
   },
   "outputs": [
    {
     "data": {
      "text/html": [
       "<div>\n",
       "<style scoped>\n",
       "    .dataframe tbody tr th:only-of-type {\n",
       "        vertical-align: middle;\n",
       "    }\n",
       "\n",
       "    .dataframe tbody tr th {\n",
       "        vertical-align: top;\n",
       "    }\n",
       "\n",
       "    .dataframe thead th {\n",
       "        text-align: right;\n",
       "    }\n",
       "</style>\n",
       "<table border=\"1\" class=\"dataframe\">\n",
       "  <thead>\n",
       "    <tr style=\"text-align: right;\">\n",
       "      <th></th>\n",
       "      <th>buildingid</th>\n",
       "      <th>establishmentaddressline1</th>\n",
       "      <th>establishmentaddressline2</th>\n",
       "      <th>establishmentaddressline3</th>\n",
       "      <th>establishmentaddressline4</th>\n",
       "      <th>establishmentname</th>\n",
       "      <th>inspectiondate</th>\n",
       "      <th>latitude</th>\n",
       "      <th>longitude</th>\n",
       "      <th>postcode</th>\n",
       "      <th>rating</th>\n",
       "    </tr>\n",
       "  </thead>\n",
       "  <tbody>\n",
       "    <tr>\n",
       "      <th>0</th>\n",
       "      <td>185003495</td>\n",
       "      <td></td>\n",
       "      <td></td>\n",
       "      <td>1 Corry Place</td>\n",
       "      <td>Belfast</td>\n",
       "      <td>Heyn Group</td>\n",
       "      <td>2012-08-23T00:00:00</td>\n",
       "      <td>375525</td>\n",
       "      <td>334581</td>\n",
       "      <td>BT3 9AH</td>\n",
       "      <td>5.0</td>\n",
       "    </tr>\n",
       "    <tr>\n",
       "      <th>1</th>\n",
       "      <td>185746347</td>\n",
       "      <td>Rosemary Presbyterian Church</td>\n",
       "      <td></td>\n",
       "      <td>26-36 North Circular Road</td>\n",
       "      <td>Belfast</td>\n",
       "      <td>Rosemary Lunch Club</td>\n",
       "      <td>2014-10-21T00:00:00</td>\n",
       "      <td>378213</td>\n",
       "      <td>332938</td>\n",
       "      <td>BT15 5HD</td>\n",
       "      <td>5.0</td>\n",
       "    </tr>\n",
       "    <tr>\n",
       "      <th>2</th>\n",
       "      <td>185001807</td>\n",
       "      <td></td>\n",
       "      <td></td>\n",
       "      <td>37 Montgomery Street</td>\n",
       "      <td>Belfast</td>\n",
       "      <td>John Ross &amp; Co Auctioneers</td>\n",
       "      <td>2015-03-19T00:00:00</td>\n",
       "      <td>373992</td>\n",
       "      <td>334055</td>\n",
       "      <td>BT1 4NX</td>\n",
       "      <td>4.0</td>\n",
       "    </tr>\n",
       "    <tr>\n",
       "      <th>3</th>\n",
       "      <td>185000821</td>\n",
       "      <td></td>\n",
       "      <td></td>\n",
       "      <td>108 Donegall Street</td>\n",
       "      <td>Belfast</td>\n",
       "      <td>The Maverick/Boom Box</td>\n",
       "      <td>2014-11-03T00:00:00</td>\n",
       "      <td>374852</td>\n",
       "      <td>333733</td>\n",
       "      <td>BT1 2GX</td>\n",
       "      <td>5.0</td>\n",
       "    </tr>\n",
       "    <tr>\n",
       "      <th>4</th>\n",
       "      <td>187129705</td>\n",
       "      <td></td>\n",
       "      <td></td>\n",
       "      <td>1 Union Street</td>\n",
       "      <td></td>\n",
       "      <td>Maverick</td>\n",
       "      <td>2014-02-13T00:00:00</td>\n",
       "      <td>378435</td>\n",
       "      <td>281262</td>\n",
       "      <td>BT1 2JF</td>\n",
       "      <td>4.0</td>\n",
       "    </tr>\n",
       "  </tbody>\n",
       "</table>\n",
       "</div>"
      ],
      "text/plain": [
       "  buildingid     establishmentaddressline1 establishmentaddressline2  \\\n",
       "0  185003495                                                           \n",
       "1  185746347  Rosemary Presbyterian Church                             \n",
       "2  185001807                                                           \n",
       "3  185000821                                                           \n",
       "4  187129705                                                           \n",
       "\n",
       "   establishmentaddressline3 establishmentaddressline4  \\\n",
       "0              1 Corry Place                   Belfast   \n",
       "1  26-36 North Circular Road                   Belfast   \n",
       "2       37 Montgomery Street                   Belfast   \n",
       "3        108 Donegall Street                   Belfast   \n",
       "4             1 Union Street                             \n",
       "\n",
       "            establishmentname       inspectiondate latitude longitude  \\\n",
       "0                  Heyn Group  2012-08-23T00:00:00   375525    334581   \n",
       "1         Rosemary Lunch Club  2014-10-21T00:00:00   378213    332938   \n",
       "2  John Ross & Co Auctioneers  2015-03-19T00:00:00   373992    334055   \n",
       "3       The Maverick/Boom Box  2014-11-03T00:00:00   374852    333733   \n",
       "4                    Maverick  2014-02-13T00:00:00   378435    281262   \n",
       "\n",
       "   postcode  rating  \n",
       "0   BT3 9AH     5.0  \n",
       "1  BT15 5HD     5.0  \n",
       "2   BT1 4NX     4.0  \n",
       "3   BT1 2GX     5.0  \n",
       "4   BT1 2JF     4.0  "
      ]
     },
     "execution_count": 50,
     "metadata": {},
     "output_type": "execute_result"
    }
   ],
   "source": [
    "df.head()"
   ]
  },
  {
   "cell_type": "code",
   "execution_count": 51,
   "metadata": {
    "ExecuteTime": {
     "end_time": "2018-06-07T12:08:38.408387Z",
     "start_time": "2018-06-07T12:08:38.403947Z"
    },
    "slideshow": {
     "slide_type": "fragment"
    }
   },
   "outputs": [],
   "source": [
    "# BORING\n",
    "df.drop('buildingid', axis=1, inplace=True)"
   ]
  },
  {
   "cell_type": "code",
   "execution_count": 52,
   "metadata": {
    "ExecuteTime": {
     "end_time": "2018-06-07T12:08:38.414772Z",
     "start_time": "2018-06-07T12:08:38.410699Z"
    },
    "slideshow": {
     "slide_type": "subslide"
    }
   },
   "outputs": [
    {
     "name": "stdout",
     "output_type": "stream",
     "text": [
      "establishmentaddressline1 addressline1\n",
      "establishmentaddressline2 addressline2\n",
      "establishmentaddressline3 addressline3\n",
      "establishmentaddressline4 addressline4\n",
      "establishmentname name\n",
      "inspectiondate inspectiondate\n",
      "latitude latitude\n",
      "longitude longitude\n",
      "postcode postcode\n",
      "rating rating\n"
     ]
    }
   ],
   "source": [
    "# REDUNDANT\n",
    "for c in df.keys():\n",
    "    print(c, c.replace('establishment',''))"
   ]
  },
  {
   "cell_type": "code",
   "execution_count": 53,
   "metadata": {
    "ExecuteTime": {
     "end_time": "2018-06-07T12:08:38.421827Z",
     "start_time": "2018-06-07T12:08:38.416733Z"
    },
    "slideshow": {
     "slide_type": "subslide"
    }
   },
   "outputs": [
    {
     "data": {
      "text/plain": [
       "{'establishmentaddressline1': 'addressline1',\n",
       " 'establishmentaddressline2': 'addressline2',\n",
       " 'establishmentaddressline3': 'addressline3',\n",
       " 'establishmentaddressline4': 'addressline4',\n",
       " 'establishmentname': 'name',\n",
       " 'inspectiondate': 'inspectiondate',\n",
       " 'latitude': 'latitude',\n",
       " 'longitude': 'longitude',\n",
       " 'postcode': 'postcode',\n",
       " 'rating': 'rating'}"
      ]
     },
     "execution_count": 53,
     "metadata": {},
     "output_type": "execute_result"
    }
   ],
   "source": [
    "replacements = {c: c.replace('establishment','') for c in df.keys()}\n",
    "replacements"
   ]
  },
  {
   "cell_type": "code",
   "execution_count": 54,
   "metadata": {
    "ExecuteTime": {
     "end_time": "2018-06-07T12:08:38.443471Z",
     "start_time": "2018-06-07T12:08:38.423938Z"
    },
    "slideshow": {
     "slide_type": "subslide"
    }
   },
   "outputs": [
    {
     "data": {
      "text/html": [
       "<div>\n",
       "<style scoped>\n",
       "    .dataframe tbody tr th:only-of-type {\n",
       "        vertical-align: middle;\n",
       "    }\n",
       "\n",
       "    .dataframe tbody tr th {\n",
       "        vertical-align: top;\n",
       "    }\n",
       "\n",
       "    .dataframe thead th {\n",
       "        text-align: right;\n",
       "    }\n",
       "</style>\n",
       "<table border=\"1\" class=\"dataframe\">\n",
       "  <thead>\n",
       "    <tr style=\"text-align: right;\">\n",
       "      <th></th>\n",
       "      <th>addressline1</th>\n",
       "      <th>addressline2</th>\n",
       "      <th>addressline3</th>\n",
       "      <th>addressline4</th>\n",
       "      <th>name</th>\n",
       "      <th>inspectiondate</th>\n",
       "      <th>latitude</th>\n",
       "      <th>longitude</th>\n",
       "      <th>postcode</th>\n",
       "      <th>rating</th>\n",
       "    </tr>\n",
       "  </thead>\n",
       "  <tbody>\n",
       "    <tr>\n",
       "      <th>0</th>\n",
       "      <td></td>\n",
       "      <td></td>\n",
       "      <td>1 Corry Place</td>\n",
       "      <td>Belfast</td>\n",
       "      <td>Heyn Group</td>\n",
       "      <td>2012-08-23T00:00:00</td>\n",
       "      <td>375525</td>\n",
       "      <td>334581</td>\n",
       "      <td>BT3 9AH</td>\n",
       "      <td>5.0</td>\n",
       "    </tr>\n",
       "    <tr>\n",
       "      <th>1</th>\n",
       "      <td>Rosemary Presbyterian Church</td>\n",
       "      <td></td>\n",
       "      <td>26-36 North Circular Road</td>\n",
       "      <td>Belfast</td>\n",
       "      <td>Rosemary Lunch Club</td>\n",
       "      <td>2014-10-21T00:00:00</td>\n",
       "      <td>378213</td>\n",
       "      <td>332938</td>\n",
       "      <td>BT15 5HD</td>\n",
       "      <td>5.0</td>\n",
       "    </tr>\n",
       "    <tr>\n",
       "      <th>2</th>\n",
       "      <td></td>\n",
       "      <td></td>\n",
       "      <td>37 Montgomery Street</td>\n",
       "      <td>Belfast</td>\n",
       "      <td>John Ross &amp; Co Auctioneers</td>\n",
       "      <td>2015-03-19T00:00:00</td>\n",
       "      <td>373992</td>\n",
       "      <td>334055</td>\n",
       "      <td>BT1 4NX</td>\n",
       "      <td>4.0</td>\n",
       "    </tr>\n",
       "    <tr>\n",
       "      <th>3</th>\n",
       "      <td></td>\n",
       "      <td></td>\n",
       "      <td>108 Donegall Street</td>\n",
       "      <td>Belfast</td>\n",
       "      <td>The Maverick/Boom Box</td>\n",
       "      <td>2014-11-03T00:00:00</td>\n",
       "      <td>374852</td>\n",
       "      <td>333733</td>\n",
       "      <td>BT1 2GX</td>\n",
       "      <td>5.0</td>\n",
       "    </tr>\n",
       "    <tr>\n",
       "      <th>4</th>\n",
       "      <td></td>\n",
       "      <td></td>\n",
       "      <td>1 Union Street</td>\n",
       "      <td></td>\n",
       "      <td>Maverick</td>\n",
       "      <td>2014-02-13T00:00:00</td>\n",
       "      <td>378435</td>\n",
       "      <td>281262</td>\n",
       "      <td>BT1 2JF</td>\n",
       "      <td>4.0</td>\n",
       "    </tr>\n",
       "  </tbody>\n",
       "</table>\n",
       "</div>"
      ],
      "text/plain": [
       "                   addressline1 addressline2               addressline3  \\\n",
       "0                                                         1 Corry Place   \n",
       "1  Rosemary Presbyterian Church               26-36 North Circular Road   \n",
       "2                                                  37 Montgomery Street   \n",
       "3                                                   108 Donegall Street   \n",
       "4                                                        1 Union Street   \n",
       "\n",
       "  addressline4                        name       inspectiondate latitude  \\\n",
       "0      Belfast                  Heyn Group  2012-08-23T00:00:00   375525   \n",
       "1      Belfast         Rosemary Lunch Club  2014-10-21T00:00:00   378213   \n",
       "2      Belfast  John Ross & Co Auctioneers  2015-03-19T00:00:00   373992   \n",
       "3      Belfast       The Maverick/Boom Box  2014-11-03T00:00:00   374852   \n",
       "4                                 Maverick  2014-02-13T00:00:00   378435   \n",
       "\n",
       "  longitude  postcode  rating  \n",
       "0    334581   BT3 9AH     5.0  \n",
       "1    332938  BT15 5HD     5.0  \n",
       "2    334055   BT1 4NX     4.0  \n",
       "3    333733   BT1 2GX     5.0  \n",
       "4    281262   BT1 2JF     4.0  "
      ]
     },
     "execution_count": 54,
     "metadata": {},
     "output_type": "execute_result"
    }
   ],
   "source": [
    "df.rename(columns=replacements, inplace=True)\n",
    "df.head()"
   ]
  },
  {
   "cell_type": "code",
   "execution_count": 55,
   "metadata": {
    "ExecuteTime": {
     "end_time": "2018-06-07T12:08:38.450983Z",
     "start_time": "2018-06-07T12:08:38.445421Z"
    },
    "slideshow": {
     "slide_type": "subslide"
    }
   },
   "outputs": [
    {
     "data": {
      "text/plain": [
       "addressline1       object\n",
       "addressline2       object\n",
       "addressline3       object\n",
       "addressline4       object\n",
       "name               object\n",
       "inspectiondate     object\n",
       "latitude           object\n",
       "longitude          object\n",
       "postcode           object\n",
       "rating            float64\n",
       "dtype: object"
      ]
     },
     "execution_count": 55,
     "metadata": {},
     "output_type": "execute_result"
    }
   ],
   "source": [
    "# Something doesn't look right...\n",
    "df.dtypes"
   ]
  },
  {
   "cell_type": "code",
   "execution_count": 56,
   "metadata": {
    "ExecuteTime": {
     "end_time": "2018-06-07T12:08:38.470186Z",
     "start_time": "2018-06-07T12:08:38.453083Z"
    },
    "slideshow": {
     "slide_type": "fragment"
    }
   },
   "outputs": [
    {
     "data": {
      "text/html": [
       "<div>\n",
       "<style scoped>\n",
       "    .dataframe tbody tr th:only-of-type {\n",
       "        vertical-align: middle;\n",
       "    }\n",
       "\n",
       "    .dataframe tbody tr th {\n",
       "        vertical-align: top;\n",
       "    }\n",
       "\n",
       "    .dataframe thead th {\n",
       "        text-align: right;\n",
       "    }\n",
       "</style>\n",
       "<table border=\"1\" class=\"dataframe\">\n",
       "  <thead>\n",
       "    <tr style=\"text-align: right;\">\n",
       "      <th></th>\n",
       "      <th>addressline1</th>\n",
       "      <th>addressline2</th>\n",
       "      <th>addressline3</th>\n",
       "      <th>addressline4</th>\n",
       "      <th>name</th>\n",
       "      <th>inspectiondate</th>\n",
       "      <th>latitude</th>\n",
       "      <th>longitude</th>\n",
       "      <th>postcode</th>\n",
       "      <th>rating</th>\n",
       "    </tr>\n",
       "  </thead>\n",
       "  <tbody>\n",
       "    <tr>\n",
       "      <th>0</th>\n",
       "      <td></td>\n",
       "      <td></td>\n",
       "      <td>1 Corry Place</td>\n",
       "      <td>Belfast</td>\n",
       "      <td>Heyn Group</td>\n",
       "      <td>2012-08-23</td>\n",
       "      <td>375525</td>\n",
       "      <td>334581</td>\n",
       "      <td>BT3 9AH</td>\n",
       "      <td>5.0</td>\n",
       "    </tr>\n",
       "    <tr>\n",
       "      <th>1</th>\n",
       "      <td>Rosemary Presbyterian Church</td>\n",
       "      <td></td>\n",
       "      <td>26-36 North Circular Road</td>\n",
       "      <td>Belfast</td>\n",
       "      <td>Rosemary Lunch Club</td>\n",
       "      <td>2014-10-21</td>\n",
       "      <td>378213</td>\n",
       "      <td>332938</td>\n",
       "      <td>BT15 5HD</td>\n",
       "      <td>5.0</td>\n",
       "    </tr>\n",
       "    <tr>\n",
       "      <th>2</th>\n",
       "      <td></td>\n",
       "      <td></td>\n",
       "      <td>37 Montgomery Street</td>\n",
       "      <td>Belfast</td>\n",
       "      <td>John Ross &amp; Co Auctioneers</td>\n",
       "      <td>2015-03-19</td>\n",
       "      <td>373992</td>\n",
       "      <td>334055</td>\n",
       "      <td>BT1 4NX</td>\n",
       "      <td>4.0</td>\n",
       "    </tr>\n",
       "    <tr>\n",
       "      <th>3</th>\n",
       "      <td></td>\n",
       "      <td></td>\n",
       "      <td>108 Donegall Street</td>\n",
       "      <td>Belfast</td>\n",
       "      <td>The Maverick/Boom Box</td>\n",
       "      <td>2014-11-03</td>\n",
       "      <td>374852</td>\n",
       "      <td>333733</td>\n",
       "      <td>BT1 2GX</td>\n",
       "      <td>5.0</td>\n",
       "    </tr>\n",
       "    <tr>\n",
       "      <th>4</th>\n",
       "      <td></td>\n",
       "      <td></td>\n",
       "      <td>1 Union Street</td>\n",
       "      <td></td>\n",
       "      <td>Maverick</td>\n",
       "      <td>2014-02-13</td>\n",
       "      <td>378435</td>\n",
       "      <td>281262</td>\n",
       "      <td>BT1 2JF</td>\n",
       "      <td>4.0</td>\n",
       "    </tr>\n",
       "  </tbody>\n",
       "</table>\n",
       "</div>"
      ],
      "text/plain": [
       "                   addressline1 addressline2               addressline3  \\\n",
       "0                                                         1 Corry Place   \n",
       "1  Rosemary Presbyterian Church               26-36 North Circular Road   \n",
       "2                                                  37 Montgomery Street   \n",
       "3                                                   108 Donegall Street   \n",
       "4                                                        1 Union Street   \n",
       "\n",
       "  addressline4                        name inspectiondate latitude longitude  \\\n",
       "0      Belfast                  Heyn Group     2012-08-23   375525    334581   \n",
       "1      Belfast         Rosemary Lunch Club     2014-10-21   378213    332938   \n",
       "2      Belfast  John Ross & Co Auctioneers     2015-03-19   373992    334055   \n",
       "3      Belfast       The Maverick/Boom Box     2014-11-03   374852    333733   \n",
       "4                                 Maverick     2014-02-13   378435    281262   \n",
       "\n",
       "   postcode  rating  \n",
       "0   BT3 9AH     5.0  \n",
       "1  BT15 5HD     5.0  \n",
       "2   BT1 4NX     4.0  \n",
       "3   BT1 2GX     5.0  \n",
       "4   BT1 2JF     4.0  "
      ]
     },
     "execution_count": 56,
     "metadata": {},
     "output_type": "execute_result"
    }
   ],
   "source": [
    "df['inspectiondate'] = pd.to_datetime(df['inspectiondate'])\n",
    "df.head()"
   ]
  },
  {
   "cell_type": "markdown",
   "metadata": {
    "ExecuteTime": {
     "end_time": "2017-10-23T12:18:31.684045Z",
     "start_time": "2017-10-23T12:18:31.645638Z"
    },
    "slideshow": {
     "slide_type": "subslide"
    }
   },
   "source": [
    "### Calculate days since last inspection"
   ]
  },
  {
   "cell_type": "code",
   "execution_count": 57,
   "metadata": {
    "ExecuteTime": {
     "end_time": "2018-06-07T12:08:38.542708Z",
     "start_time": "2018-06-07T12:08:38.472264Z"
    },
    "slideshow": {
     "slide_type": "-"
    }
   },
   "outputs": [
    {
     "data": {
      "text/html": [
       "<div>\n",
       "<style scoped>\n",
       "    .dataframe tbody tr th:only-of-type {\n",
       "        vertical-align: middle;\n",
       "    }\n",
       "\n",
       "    .dataframe tbody tr th {\n",
       "        vertical-align: top;\n",
       "    }\n",
       "\n",
       "    .dataframe thead th {\n",
       "        text-align: right;\n",
       "    }\n",
       "</style>\n",
       "<table border=\"1\" class=\"dataframe\">\n",
       "  <thead>\n",
       "    <tr style=\"text-align: right;\">\n",
       "      <th></th>\n",
       "      <th>name</th>\n",
       "      <th>inspectiondate</th>\n",
       "      <th>dayssinceinspection</th>\n",
       "    </tr>\n",
       "  </thead>\n",
       "  <tbody>\n",
       "    <tr>\n",
       "      <th>0</th>\n",
       "      <td>Heyn Group</td>\n",
       "      <td>2012-08-23</td>\n",
       "      <td>2114 days</td>\n",
       "    </tr>\n",
       "    <tr>\n",
       "      <th>1</th>\n",
       "      <td>Rosemary Lunch Club</td>\n",
       "      <td>2014-10-21</td>\n",
       "      <td>1325 days</td>\n",
       "    </tr>\n",
       "    <tr>\n",
       "      <th>2</th>\n",
       "      <td>John Ross &amp; Co Auctioneers</td>\n",
       "      <td>2015-03-19</td>\n",
       "      <td>1176 days</td>\n",
       "    </tr>\n",
       "    <tr>\n",
       "      <th>3</th>\n",
       "      <td>The Maverick/Boom Box</td>\n",
       "      <td>2014-11-03</td>\n",
       "      <td>1312 days</td>\n",
       "    </tr>\n",
       "    <tr>\n",
       "      <th>4</th>\n",
       "      <td>Maverick</td>\n",
       "      <td>2014-02-13</td>\n",
       "      <td>1575 days</td>\n",
       "    </tr>\n",
       "  </tbody>\n",
       "</table>\n",
       "</div>"
      ],
      "text/plain": [
       "                         name inspectiondate dayssinceinspection\n",
       "0                  Heyn Group     2012-08-23           2114 days\n",
       "1         Rosemary Lunch Club     2014-10-21           1325 days\n",
       "2  John Ross & Co Auctioneers     2015-03-19           1176 days\n",
       "3       The Maverick/Boom Box     2014-11-03           1312 days\n",
       "4                    Maverick     2014-02-13           1575 days"
      ]
     },
     "execution_count": 57,
     "metadata": {},
     "output_type": "execute_result"
    }
   ],
   "source": [
    "df['dayssinceinspection']=pd.to_datetime('now').date()- df['inspectiondate']\n",
    "df[['name','inspectiondate','dayssinceinspection']].head()"
   ]
  },
  {
   "cell_type": "code",
   "execution_count": 58,
   "metadata": {
    "ExecuteTime": {
     "end_time": "2018-06-07T12:08:38.555576Z",
     "start_time": "2018-06-07T12:08:38.545098Z"
    },
    "slideshow": {
     "slide_type": "subslide"
    }
   },
   "outputs": [
    {
     "data": {
      "text/plain": [
       "count                         3097\n",
       "mean     1336 days 09:09:07.497578\n",
       "std       303 days 12:53:26.331291\n",
       "min              877 days 00:00:00\n",
       "25%             1105 days 00:00:00\n",
       "50%             1290 days 00:00:00\n",
       "75%             1487 days 00:00:00\n",
       "max             3957 days 00:00:00\n",
       "Name: dayssinceinspection, dtype: object"
      ]
     },
     "execution_count": 58,
     "metadata": {},
     "output_type": "execute_result"
    }
   ],
   "source": [
    "df.dayssinceinspection.describe()"
   ]
  },
  {
   "cell_type": "code",
   "execution_count": 59,
   "metadata": {
    "ExecuteTime": {
     "end_time": "2018-06-07T12:08:38.572760Z",
     "start_time": "2018-06-07T12:08:38.557612Z"
    },
    "slideshow": {
     "slide_type": "subslide"
    }
   },
   "outputs": [
    {
     "data": {
      "text/html": [
       "<div>\n",
       "<style scoped>\n",
       "    .dataframe tbody tr th:only-of-type {\n",
       "        vertical-align: middle;\n",
       "    }\n",
       "\n",
       "    .dataframe tbody tr th {\n",
       "        vertical-align: top;\n",
       "    }\n",
       "\n",
       "    .dataframe thead th {\n",
       "        text-align: right;\n",
       "    }\n",
       "</style>\n",
       "<table border=\"1\" class=\"dataframe\">\n",
       "  <thead>\n",
       "    <tr style=\"text-align: right;\">\n",
       "      <th></th>\n",
       "      <th>addressline1</th>\n",
       "      <th>addressline2</th>\n",
       "      <th>addressline3</th>\n",
       "      <th>addressline4</th>\n",
       "      <th>name</th>\n",
       "      <th>inspectiondate</th>\n",
       "      <th>latitude</th>\n",
       "      <th>longitude</th>\n",
       "      <th>postcode</th>\n",
       "      <th>rating</th>\n",
       "      <th>dayssinceinspection</th>\n",
       "    </tr>\n",
       "  </thead>\n",
       "  <tbody>\n",
       "    <tr>\n",
       "      <th>239</th>\n",
       "      <td></td>\n",
       "      <td></td>\n",
       "      <td>214 Antrim Road</td>\n",
       "      <td>Belfast</td>\n",
       "      <td>MCCRACKENS B&amp;B</td>\n",
       "      <td>2007-08-07</td>\n",
       "      <td>376040</td>\n",
       "      <td>333301</td>\n",
       "      <td>BT15 2AN</td>\n",
       "      <td>4.0</td>\n",
       "      <td>3957 days</td>\n",
       "    </tr>\n",
       "    <tr>\n",
       "      <th>2100</th>\n",
       "      <td></td>\n",
       "      <td></td>\n",
       "      <td>5 Corry Place</td>\n",
       "      <td>Belfast</td>\n",
       "      <td>Port Health</td>\n",
       "      <td>2008-09-01</td>\n",
       "      <td>375405</td>\n",
       "      <td>334543</td>\n",
       "      <td>BT3 9HY</td>\n",
       "      <td>5.0</td>\n",
       "      <td>3566 days</td>\n",
       "    </tr>\n",
       "    <tr>\n",
       "      <th>2190</th>\n",
       "      <td></td>\n",
       "      <td>Dunmurry</td>\n",
       "      <td>144 Laurelbank</td>\n",
       "      <td></td>\n",
       "      <td>NICHOLAS RULES MOBILE VAN</td>\n",
       "      <td>2009-09-09</td>\n",
       "      <td>369869</td>\n",
       "      <td>327711</td>\n",
       "      <td>BT17 0RX</td>\n",
       "      <td>5.0</td>\n",
       "      <td>3193 days</td>\n",
       "    </tr>\n",
       "    <tr>\n",
       "      <th>3027</th>\n",
       "      <td>Clifton House</td>\n",
       "      <td></td>\n",
       "      <td>2 North Queen Street</td>\n",
       "      <td>Belfast</td>\n",
       "      <td>Helm Housing</td>\n",
       "      <td>2011-07-20</td>\n",
       "      <td>375111</td>\n",
       "      <td>333607</td>\n",
       "      <td>BT15 1EQ</td>\n",
       "      <td>5.0</td>\n",
       "      <td>2514 days</td>\n",
       "    </tr>\n",
       "    <tr>\n",
       "      <th>1975</th>\n",
       "      <td></td>\n",
       "      <td>Castlereagh</td>\n",
       "      <td>19 Castlehill Farm</td>\n",
       "      <td></td>\n",
       "      <td>YUMMIE TREATS</td>\n",
       "      <td>2011-08-17</td>\n",
       "      <td>371496</td>\n",
       "      <td>338183</td>\n",
       "      <td>BT5 7GU</td>\n",
       "      <td>5.0</td>\n",
       "      <td>2486 days</td>\n",
       "    </tr>\n",
       "  </tbody>\n",
       "</table>\n",
       "</div>"
      ],
      "text/plain": [
       "       addressline1 addressline2          addressline3 addressline4  \\\n",
       "239                                    214 Antrim Road      Belfast   \n",
       "2100                                     5 Corry Place      Belfast   \n",
       "2190                    Dunmurry        144 Laurelbank                \n",
       "3027  Clifton House               2 North Queen Street      Belfast   \n",
       "1975                 Castlereagh    19 Castlehill Farm                \n",
       "\n",
       "                           name inspectiondate latitude longitude  postcode  \\\n",
       "239              MCCRACKENS B&B     2007-08-07   376040    333301  BT15 2AN   \n",
       "2100                Port Health     2008-09-01   375405    334543   BT3 9HY   \n",
       "2190  NICHOLAS RULES MOBILE VAN     2009-09-09   369869    327711  BT17 0RX   \n",
       "3027               Helm Housing     2011-07-20   375111    333607  BT15 1EQ   \n",
       "1975              YUMMIE TREATS     2011-08-17   371496    338183   BT5 7GU   \n",
       "\n",
       "      rating dayssinceinspection  \n",
       "239      4.0           3957 days  \n",
       "2100     5.0           3566 days  \n",
       "2190     5.0           3193 days  \n",
       "3027     5.0           2514 days  \n",
       "1975     5.0           2486 days  "
      ]
     },
     "execution_count": 59,
     "metadata": {},
     "output_type": "execute_result"
    }
   ],
   "source": [
    "df.sort_values(by='dayssinceinspection', ascending=False).head()"
   ]
  },
  {
   "cell_type": "code",
   "execution_count": 60,
   "metadata": {
    "ExecuteTime": {
     "end_time": "2018-06-07T12:08:38.582084Z",
     "start_time": "2018-06-07T12:08:38.574647Z"
    },
    "slideshow": {
     "slide_type": "fragment"
    }
   },
   "outputs": [
    {
     "data": {
      "text/plain": [
       "addressline1                              \n",
       "addressline2                              \n",
       "addressline3               214 Antrim Road\n",
       "addressline4                       Belfast\n",
       "name                        MCCRACKENS B&B\n",
       "inspectiondate         2007-08-07 00:00:00\n",
       "latitude                            376040\n",
       "longitude                           333301\n",
       "postcode                          BT15 2AN\n",
       "rating                                   4\n",
       "dayssinceinspection     3957 days 00:00:00\n",
       "Name: 239, dtype: object"
      ]
     },
     "execution_count": 60,
     "metadata": {},
     "output_type": "execute_result"
    }
   ],
   "source": [
    "df.sort_values(by='dayssinceinspection', ascending=False).iloc[0]"
   ]
  },
  {
   "cell_type": "code",
   "execution_count": 61,
   "metadata": {
    "ExecuteTime": {
     "end_time": "2018-06-07T12:08:38.826003Z",
     "start_time": "2018-06-07T12:08:38.584282Z"
    },
    "slideshow": {
     "slide_type": "subslide"
    }
   },
   "outputs": [
    {
     "data": {
      "text/plain": [
       "<matplotlib.axes._subplots.AxesSubplot at 0x115887ba8>"
      ]
     },
     "execution_count": 61,
     "metadata": {},
     "output_type": "execute_result"
    },
    {
     "data": {
      "image/png": "[encoded data removed]",
      "text/plain": [
       "<Figure size 720x432 with 1 Axes>"
      ]
     },
     "metadata": {},
     "output_type": "display_data"
    }
   ],
   "source": [
    "f,ax = plt.subplots(figsize=graph_figsize)\n",
    "df.dayssinceinspection.dt.days.plot.hist(ax=ax)"
   ]
  },
  {
   "cell_type": "code",
   "execution_count": 62,
   "metadata": {
    "ExecuteTime": {
     "end_time": "2018-06-07T12:08:39.051369Z",
     "start_time": "2018-06-07T12:08:38.829018Z"
    },
    "slideshow": {
     "slide_type": "subslide"
    }
   },
   "outputs": [
    {
     "data": {
      "text/plain": [
       "<matplotlib.collections.LineCollection at 0x1158daac8>"
      ]
     },
     "execution_count": 62,
     "metadata": {},
     "output_type": "execute_result"
    },
    {
     "data": {
      "image/png": "[encoded data removed]",
      "text/plain": [
       "<Figure size 720x432 with 1 Axes>"
      ]
     },
     "metadata": {},
     "output_type": "display_data"
    }
   ],
   "source": [
    "f,ax = plt.subplots(figsize=graph_figsize)\n",
    "df.dayssinceinspection.dt.days.plot.hist(ax=ax)\n",
    "first_inspection = df.sort_values(by='dayssinceinspection', ascending=False).iloc[0]\n",
    "ax.vlines(first_inspection.dayssinceinspection.days, *ax.get_ylim())"
   ]
  },
  {
   "cell_type": "code",
   "execution_count": 63,
   "metadata": {
    "ExecuteTime": {
     "end_time": "2018-06-07T12:08:39.062636Z",
     "start_time": "2018-06-07T12:08:39.053835Z"
    },
    "slideshow": {
     "slide_type": "subslide"
    }
   },
   "outputs": [
    {
     "data": {
      "text/plain": [
       "name\n",
       "Subway       23\n",
       "Spar         20\n",
       "Winemark     18\n",
       "Mace         15\n",
       "Wineflair    13\n",
       "dtype: int64"
      ]
     },
     "execution_count": 63,
     "metadata": {},
     "output_type": "execute_result"
    }
   ],
   "source": [
    "# Data Cleaning\n",
    "df.groupby('name').size().sort_values(ascending=False).head()"
   ]
  },
  {
   "cell_type": "markdown",
   "metadata": {
    "collapsed": true,
    "slideshow": {
     "slide_type": "slide"
    }
   },
   "source": [
    "## Extra Time? Location Mapping\n",
    "That's some awful strange looking latitude / longitude"
   ]
  },
  {
   "cell_type": "code",
   "execution_count": 64,
   "metadata": {
    "ExecuteTime": {
     "end_time": "2018-06-07T12:08:39.085659Z",
     "start_time": "2018-06-07T12:08:39.064833Z"
    },
    "slideshow": {
     "slide_type": "-"
    }
   },
   "outputs": [
    {
     "data": {
      "text/html": [
       "<div>\n",
       "<style scoped>\n",
       "    .dataframe tbody tr th:only-of-type {\n",
       "        vertical-align: middle;\n",
       "    }\n",
       "\n",
       "    .dataframe tbody tr th {\n",
       "        vertical-align: top;\n",
       "    }\n",
       "\n",
       "    .dataframe thead th {\n",
       "        text-align: right;\n",
       "    }\n",
       "</style>\n",
       "<table border=\"1\" class=\"dataframe\">\n",
       "  <thead>\n",
       "    <tr style=\"text-align: right;\">\n",
       "      <th></th>\n",
       "      <th>addressline1</th>\n",
       "      <th>addressline2</th>\n",
       "      <th>addressline3</th>\n",
       "      <th>addressline4</th>\n",
       "      <th>name</th>\n",
       "      <th>inspectiondate</th>\n",
       "      <th>latitude</th>\n",
       "      <th>longitude</th>\n",
       "      <th>postcode</th>\n",
       "      <th>rating</th>\n",
       "      <th>dayssinceinspection</th>\n",
       "    </tr>\n",
       "  </thead>\n",
       "  <tbody>\n",
       "    <tr>\n",
       "      <th>0</th>\n",
       "      <td></td>\n",
       "      <td></td>\n",
       "      <td>1 Corry Place</td>\n",
       "      <td>Belfast</td>\n",
       "      <td>Heyn Group</td>\n",
       "      <td>2012-08-23</td>\n",
       "      <td>375525</td>\n",
       "      <td>334581</td>\n",
       "      <td>BT3 9AH</td>\n",
       "      <td>5.0</td>\n",
       "      <td>2114 days</td>\n",
       "    </tr>\n",
       "    <tr>\n",
       "      <th>1</th>\n",
       "      <td>Rosemary Presbyterian Church</td>\n",
       "      <td></td>\n",
       "      <td>26-36 North Circular Road</td>\n",
       "      <td>Belfast</td>\n",
       "      <td>Rosemary Lunch Club</td>\n",
       "      <td>2014-10-21</td>\n",
       "      <td>378213</td>\n",
       "      <td>332938</td>\n",
       "      <td>BT15 5HD</td>\n",
       "      <td>5.0</td>\n",
       "      <td>1325 days</td>\n",
       "    </tr>\n",
       "    <tr>\n",
       "      <th>2</th>\n",
       "      <td></td>\n",
       "      <td></td>\n",
       "      <td>37 Montgomery Street</td>\n",
       "      <td>Belfast</td>\n",
       "      <td>John Ross &amp; Co Auctioneers</td>\n",
       "      <td>2015-03-19</td>\n",
       "      <td>373992</td>\n",
       "      <td>334055</td>\n",
       "      <td>BT1 4NX</td>\n",
       "      <td>4.0</td>\n",
       "      <td>1176 days</td>\n",
       "    </tr>\n",
       "    <tr>\n",
       "      <th>3</th>\n",
       "      <td></td>\n",
       "      <td></td>\n",
       "      <td>108 Donegall Street</td>\n",
       "      <td>Belfast</td>\n",
       "      <td>The Maverick/Boom Box</td>\n",
       "      <td>2014-11-03</td>\n",
       "      <td>374852</td>\n",
       "      <td>333733</td>\n",
       "      <td>BT1 2GX</td>\n",
       "      <td>5.0</td>\n",
       "      <td>1312 days</td>\n",
       "    </tr>\n",
       "    <tr>\n",
       "      <th>4</th>\n",
       "      <td></td>\n",
       "      <td></td>\n",
       "      <td>1 Union Street</td>\n",
       "      <td></td>\n",
       "      <td>Maverick</td>\n",
       "      <td>2014-02-13</td>\n",
       "      <td>378435</td>\n",
       "      <td>281262</td>\n",
       "      <td>BT1 2JF</td>\n",
       "      <td>4.0</td>\n",
       "      <td>1575 days</td>\n",
       "    </tr>\n",
       "  </tbody>\n",
       "</table>\n",
       "</div>"
      ],
      "text/plain": [
       "                   addressline1 addressline2               addressline3  \\\n",
       "0                                                         1 Corry Place   \n",
       "1  Rosemary Presbyterian Church               26-36 North Circular Road   \n",
       "2                                                  37 Montgomery Street   \n",
       "3                                                   108 Donegall Street   \n",
       "4                                                        1 Union Street   \n",
       "\n",
       "  addressline4                        name inspectiondate latitude longitude  \\\n",
       "0      Belfast                  Heyn Group     2012-08-23   375525    334581   \n",
       "1      Belfast         Rosemary Lunch Club     2014-10-21   378213    332938   \n",
       "2      Belfast  John Ross & Co Auctioneers     2015-03-19   373992    334055   \n",
       "3      Belfast       The Maverick/Boom Box     2014-11-03   374852    333733   \n",
       "4                                 Maverick     2014-02-13   378435    281262   \n",
       "\n",
       "   postcode  rating dayssinceinspection  \n",
       "0   BT3 9AH     5.0           2114 days  \n",
       "1  BT15 5HD     5.0           1325 days  \n",
       "2   BT1 4NX     4.0           1176 days  \n",
       "3   BT1 2GX     5.0           1312 days  \n",
       "4   BT1 2JF     4.0           1575 days  "
      ]
     },
     "execution_count": 64,
     "metadata": {},
     "output_type": "execute_result"
    }
   ],
   "source": [
    "df.head()"
   ]
  },
  {
   "cell_type": "markdown",
   "metadata": {
    "ExecuteTime": {
     "end_time": "2017-10-23T09:33:33.149261Z",
     "start_time": "2017-10-23T09:33:32.993325Z"
    },
    "slideshow": {
     "slide_type": "subslide"
    }
   },
   "source": [
    "# The Irish Grid\n",
    "![](grid.jpg)"
   ]
  },
  {
   "cell_type": "markdown",
   "metadata": {
    "slideshow": {
     "slide_type": "subslide"
    }
   },
   "source": [
    "### Grid Example\n",
    "[https://irish.gridreferencefinder.com/](https://irish.gridreferencefinder.com/)\n",
    "![](map.png)"
   ]
  },
  {
   "cell_type": "code",
   "execution_count": 65,
   "metadata": {
    "ExecuteTime": {
     "end_time": "2018-06-07T12:08:39.128138Z",
     "start_time": "2018-06-07T12:08:39.092448Z"
    },
    "slideshow": {
     "slide_type": "subslide"
    }
   },
   "outputs": [
    {
     "data": {
      "text/plain": [
       "(-5.917804141875383, 54.61000494684366)"
      ]
     },
     "execution_count": 65,
     "metadata": {},
     "output_type": "execute_result"
    }
   ],
   "source": [
    "from pyproj import Proj, transform\n",
    "prj_wgs = Proj(proj='latlong',datum='WGS84')\n",
    "prj_itm = Proj(init='EPSG:29903')\n",
    "\n",
    "def reproject_itm_to_wgs(eastings, northings):\n",
    "    long, lat = transform(prj_itm, prj_wgs, eastings, northings)\n",
    "    return long, lat\n",
    "reproject_itm_to_wgs(334581,375525)"
   ]
  },
  {
   "cell_type": "code",
   "execution_count": 66,
   "metadata": {
    "ExecuteTime": {
     "end_time": "2018-06-07T12:08:39.147560Z",
     "start_time": "2018-06-07T12:08:39.130819Z"
    },
    "slideshow": {
     "slide_type": "subslide"
    }
   },
   "outputs": [
    {
     "data": {
      "text/html": [
       "<div>\n",
       "<style scoped>\n",
       "    .dataframe tbody tr th:only-of-type {\n",
       "        vertical-align: middle;\n",
       "    }\n",
       "\n",
       "    .dataframe tbody tr th {\n",
       "        vertical-align: top;\n",
       "    }\n",
       "\n",
       "    .dataframe thead th {\n",
       "        text-align: right;\n",
       "    }\n",
       "</style>\n",
       "<table border=\"1\" class=\"dataframe\">\n",
       "  <thead>\n",
       "    <tr style=\"text-align: right;\">\n",
       "      <th></th>\n",
       "      <th>addressline1</th>\n",
       "      <th>addressline2</th>\n",
       "      <th>addressline3</th>\n",
       "      <th>addressline4</th>\n",
       "      <th>name</th>\n",
       "      <th>inspectiondate</th>\n",
       "      <th>northings</th>\n",
       "      <th>eastings</th>\n",
       "      <th>postcode</th>\n",
       "      <th>rating</th>\n",
       "      <th>dayssinceinspection</th>\n",
       "    </tr>\n",
       "  </thead>\n",
       "  <tbody>\n",
       "    <tr>\n",
       "      <th>0</th>\n",
       "      <td></td>\n",
       "      <td></td>\n",
       "      <td>1 Corry Place</td>\n",
       "      <td>Belfast</td>\n",
       "      <td>Heyn Group</td>\n",
       "      <td>2012-08-23</td>\n",
       "      <td>375525</td>\n",
       "      <td>334581</td>\n",
       "      <td>BT3 9AH</td>\n",
       "      <td>5.0</td>\n",
       "      <td>2114 days</td>\n",
       "    </tr>\n",
       "    <tr>\n",
       "      <th>1</th>\n",
       "      <td>Rosemary Presbyterian Church</td>\n",
       "      <td></td>\n",
       "      <td>26-36 North Circular Road</td>\n",
       "      <td>Belfast</td>\n",
       "      <td>Rosemary Lunch Club</td>\n",
       "      <td>2014-10-21</td>\n",
       "      <td>378213</td>\n",
       "      <td>332938</td>\n",
       "      <td>BT15 5HD</td>\n",
       "      <td>5.0</td>\n",
       "      <td>1325 days</td>\n",
       "    </tr>\n",
       "    <tr>\n",
       "      <th>2</th>\n",
       "      <td></td>\n",
       "      <td></td>\n",
       "      <td>37 Montgomery Street</td>\n",
       "      <td>Belfast</td>\n",
       "      <td>John Ross &amp; Co Auctioneers</td>\n",
       "      <td>2015-03-19</td>\n",
       "      <td>373992</td>\n",
       "      <td>334055</td>\n",
       "      <td>BT1 4NX</td>\n",
       "      <td>4.0</td>\n",
       "      <td>1176 days</td>\n",
       "    </tr>\n",
       "    <tr>\n",
       "      <th>3</th>\n",
       "      <td></td>\n",
       "      <td></td>\n",
       "      <td>108 Donegall Street</td>\n",
       "      <td>Belfast</td>\n",
       "      <td>The Maverick/Boom Box</td>\n",
       "      <td>2014-11-03</td>\n",
       "      <td>374852</td>\n",
       "      <td>333733</td>\n",
       "      <td>BT1 2GX</td>\n",
       "      <td>5.0</td>\n",
       "      <td>1312 days</td>\n",
       "    </tr>\n",
       "    <tr>\n",
       "      <th>4</th>\n",
       "      <td></td>\n",
       "      <td></td>\n",
       "      <td>1 Union Street</td>\n",
       "      <td></td>\n",
       "      <td>Maverick</td>\n",
       "      <td>2014-02-13</td>\n",
       "      <td>378435</td>\n",
       "      <td>281262</td>\n",
       "      <td>BT1 2JF</td>\n",
       "      <td>4.0</td>\n",
       "      <td>1575 days</td>\n",
       "    </tr>\n",
       "  </tbody>\n",
       "</table>\n",
       "</div>"
      ],
      "text/plain": [
       "                   addressline1 addressline2               addressline3  \\\n",
       "0                                                         1 Corry Place   \n",
       "1  Rosemary Presbyterian Church               26-36 North Circular Road   \n",
       "2                                                  37 Montgomery Street   \n",
       "3                                                   108 Donegall Street   \n",
       "4                                                        1 Union Street   \n",
       "\n",
       "  addressline4                        name inspectiondate northings eastings  \\\n",
       "0      Belfast                  Heyn Group     2012-08-23    375525   334581   \n",
       "1      Belfast         Rosemary Lunch Club     2014-10-21    378213   332938   \n",
       "2      Belfast  John Ross & Co Auctioneers     2015-03-19    373992   334055   \n",
       "3      Belfast       The Maverick/Boom Box     2014-11-03    374852   333733   \n",
       "4                                 Maverick     2014-02-13    378435   281262   \n",
       "\n",
       "   postcode  rating dayssinceinspection  \n",
       "0   BT3 9AH     5.0           2114 days  \n",
       "1  BT15 5HD     5.0           1325 days  \n",
       "2   BT1 4NX     4.0           1176 days  \n",
       "3   BT1 2GX     5.0           1312 days  \n",
       "4   BT1 2JF     4.0           1575 days  "
      ]
     },
     "execution_count": 66,
     "metadata": {},
     "output_type": "execute_result"
    }
   ],
   "source": [
    "df.rename(columns={'longitude':'eastings','latitude':'northings'}, inplace=True)\n",
    "df.head()"
   ]
  },
  {
   "cell_type": "code",
   "execution_count": 67,
   "metadata": {
    "ExecuteTime": {
     "end_time": "2018-06-07T12:08:39.986023Z",
     "start_time": "2018-06-07T12:08:39.150363Z"
    },
    "slideshow": {
     "slide_type": "subslide"
    }
   },
   "outputs": [
    {
     "data": {
      "text/html": [
       "<div>\n",
       "<style scoped>\n",
       "    .dataframe tbody tr th:only-of-type {\n",
       "        vertical-align: middle;\n",
       "    }\n",
       "\n",
       "    .dataframe tbody tr th {\n",
       "        vertical-align: top;\n",
       "    }\n",
       "\n",
       "    .dataframe thead th {\n",
       "        text-align: right;\n",
       "    }\n",
       "</style>\n",
       "<table border=\"1\" class=\"dataframe\">\n",
       "  <thead>\n",
       "    <tr style=\"text-align: right;\">\n",
       "      <th></th>\n",
       "      <th>latitude</th>\n",
       "      <th>longitude</th>\n",
       "    </tr>\n",
       "  </thead>\n",
       "  <tbody>\n",
       "    <tr>\n",
       "      <th>0</th>\n",
       "      <td>54.610005</td>\n",
       "      <td>-5.917804</td>\n",
       "    </tr>\n",
       "    <tr>\n",
       "      <th>1</th>\n",
       "      <td>54.634570</td>\n",
       "      <td>-5.941997</td>\n",
       "    </tr>\n",
       "    <tr>\n",
       "      <th>2</th>\n",
       "      <td>54.596383</td>\n",
       "      <td>-5.926639</td>\n",
       "    </tr>\n",
       "    <tr>\n",
       "      <th>3</th>\n",
       "      <td>54.604188</td>\n",
       "      <td>-5.931226</td>\n",
       "    </tr>\n",
       "    <tr>\n",
       "      <th>4</th>\n",
       "      <td>54.647520</td>\n",
       "      <td>-6.741936</td>\n",
       "    </tr>\n",
       "    <tr>\n",
       "      <th>5</th>\n",
       "      <td>54.581714</td>\n",
       "      <td>-5.947958</td>\n",
       "    </tr>\n",
       "    <tr>\n",
       "      <th>6</th>\n",
       "      <td>54.628103</td>\n",
       "      <td>-5.939474</td>\n",
       "    </tr>\n",
       "    <tr>\n",
       "      <th>7</th>\n",
       "      <td>NaN</td>\n",
       "      <td>NaN</td>\n",
       "    </tr>\n",
       "    <tr>\n",
       "      <th>8</th>\n",
       "      <td>54.603692</td>\n",
       "      <td>-5.931607</td>\n",
       "    </tr>\n",
       "    <tr>\n",
       "      <th>9</th>\n",
       "      <td>54.610187</td>\n",
       "      <td>-5.963893</td>\n",
       "    </tr>\n",
       "  </tbody>\n",
       "</table>\n",
       "</div>"
      ],
      "text/plain": [
       "    latitude  longitude\n",
       "0  54.610005  -5.917804\n",
       "1  54.634570  -5.941997\n",
       "2  54.596383  -5.926639\n",
       "3  54.604188  -5.931226\n",
       "4  54.647520  -6.741936\n",
       "5  54.581714  -5.947958\n",
       "6  54.628103  -5.939474\n",
       "7        NaN        NaN\n",
       "8  54.603692  -5.931607\n",
       "9  54.610187  -5.963893"
      ]
     },
     "execution_count": 67,
     "metadata": {},
     "output_type": "execute_result"
    }
   ],
   "source": [
    "def apply_itm_to_wgs(row):\n",
    "    eastings, northings = row['eastings'], row['northings']\n",
    "    if eastings is not None and northings is not None: \n",
    "        long,lat = transform(prj_itm, prj_wgs, eastings, northings)\n",
    "    else:\n",
    "        long,lat = None,None\n",
    "        \n",
    "    return pd.Series({'latitude':lat,'longitude':long})\n",
    "\n",
    "lats_n_longs = df[['eastings','northings']].apply(apply_itm_to_wgs, axis=1)\n",
    "lats_n_longs.head(10)"
   ]
  },
  {
   "cell_type": "code",
   "execution_count": 68,
   "metadata": {
    "ExecuteTime": {
     "end_time": "2018-06-07T12:08:40.007934Z",
     "start_time": "2018-06-07T12:08:39.988683Z"
    },
    "slideshow": {
     "slide_type": "subslide"
    }
   },
   "outputs": [
    {
     "data": {
      "text/html": [
       "<div>\n",
       "<style scoped>\n",
       "    .dataframe tbody tr th:only-of-type {\n",
       "        vertical-align: middle;\n",
       "    }\n",
       "\n",
       "    .dataframe tbody tr th {\n",
       "        vertical-align: top;\n",
       "    }\n",
       "\n",
       "    .dataframe thead th {\n",
       "        text-align: right;\n",
       "    }\n",
       "</style>\n",
       "<table border=\"1\" class=\"dataframe\">\n",
       "  <thead>\n",
       "    <tr style=\"text-align: right;\">\n",
       "      <th></th>\n",
       "      <th>addressline1</th>\n",
       "      <th>addressline2</th>\n",
       "      <th>addressline3</th>\n",
       "      <th>addressline4</th>\n",
       "      <th>name</th>\n",
       "      <th>inspectiondate</th>\n",
       "      <th>northings</th>\n",
       "      <th>eastings</th>\n",
       "      <th>postcode</th>\n",
       "      <th>rating</th>\n",
       "      <th>dayssinceinspection</th>\n",
       "      <th>latitude</th>\n",
       "      <th>longitude</th>\n",
       "    </tr>\n",
       "  </thead>\n",
       "  <tbody>\n",
       "    <tr>\n",
       "      <th>0</th>\n",
       "      <td></td>\n",
       "      <td></td>\n",
       "      <td>1 Corry Place</td>\n",
       "      <td>Belfast</td>\n",
       "      <td>Heyn Group</td>\n",
       "      <td>2012-08-23</td>\n",
       "      <td>375525</td>\n",
       "      <td>334581</td>\n",
       "      <td>BT3 9AH</td>\n",
       "      <td>5.0</td>\n",
       "      <td>2114 days</td>\n",
       "      <td>54.610005</td>\n",
       "      <td>-5.917804</td>\n",
       "    </tr>\n",
       "    <tr>\n",
       "      <th>1</th>\n",
       "      <td>Rosemary Presbyterian Church</td>\n",
       "      <td></td>\n",
       "      <td>26-36 North Circular Road</td>\n",
       "      <td>Belfast</td>\n",
       "      <td>Rosemary Lunch Club</td>\n",
       "      <td>2014-10-21</td>\n",
       "      <td>378213</td>\n",
       "      <td>332938</td>\n",
       "      <td>BT15 5HD</td>\n",
       "      <td>5.0</td>\n",
       "      <td>1325 days</td>\n",
       "      <td>54.634570</td>\n",
       "      <td>-5.941997</td>\n",
       "    </tr>\n",
       "    <tr>\n",
       "      <th>2</th>\n",
       "      <td></td>\n",
       "      <td></td>\n",
       "      <td>37 Montgomery Street</td>\n",
       "      <td>Belfast</td>\n",
       "      <td>John Ross &amp; Co Auctioneers</td>\n",
       "      <td>2015-03-19</td>\n",
       "      <td>373992</td>\n",
       "      <td>334055</td>\n",
       "      <td>BT1 4NX</td>\n",
       "      <td>4.0</td>\n",
       "      <td>1176 days</td>\n",
       "      <td>54.596383</td>\n",
       "      <td>-5.926639</td>\n",
       "    </tr>\n",
       "    <tr>\n",
       "      <th>3</th>\n",
       "      <td></td>\n",
       "      <td></td>\n",
       "      <td>108 Donegall Street</td>\n",
       "      <td>Belfast</td>\n",
       "      <td>The Maverick/Boom Box</td>\n",
       "      <td>2014-11-03</td>\n",
       "      <td>374852</td>\n",
       "      <td>333733</td>\n",
       "      <td>BT1 2GX</td>\n",
       "      <td>5.0</td>\n",
       "      <td>1312 days</td>\n",
       "      <td>54.604188</td>\n",
       "      <td>-5.931226</td>\n",
       "    </tr>\n",
       "    <tr>\n",
       "      <th>4</th>\n",
       "      <td></td>\n",
       "      <td></td>\n",
       "      <td>1 Union Street</td>\n",
       "      <td></td>\n",
       "      <td>Maverick</td>\n",
       "      <td>2014-02-13</td>\n",
       "      <td>378435</td>\n",
       "      <td>281262</td>\n",
       "      <td>BT1 2JF</td>\n",
       "      <td>4.0</td>\n",
       "      <td>1575 days</td>\n",
       "      <td>54.647520</td>\n",
       "      <td>-6.741936</td>\n",
       "    </tr>\n",
       "  </tbody>\n",
       "</table>\n",
       "</div>"
      ],
      "text/plain": [
       "                   addressline1 addressline2               addressline3  \\\n",
       "0                                                         1 Corry Place   \n",
       "1  Rosemary Presbyterian Church               26-36 North Circular Road   \n",
       "2                                                  37 Montgomery Street   \n",
       "3                                                   108 Donegall Street   \n",
       "4                                                        1 Union Street   \n",
       "\n",
       "  addressline4                        name inspectiondate northings eastings  \\\n",
       "0      Belfast                  Heyn Group     2012-08-23    375525   334581   \n",
       "1      Belfast         Rosemary Lunch Club     2014-10-21    378213   332938   \n",
       "2      Belfast  John Ross & Co Auctioneers     2015-03-19    373992   334055   \n",
       "3      Belfast       The Maverick/Boom Box     2014-11-03    374852   333733   \n",
       "4                                 Maverick     2014-02-13    378435   281262   \n",
       "\n",
       "   postcode  rating dayssinceinspection   latitude  longitude  \n",
       "0   BT3 9AH     5.0           2114 days  54.610005  -5.917804  \n",
       "1  BT15 5HD     5.0           1325 days  54.634570  -5.941997  \n",
       "2   BT1 4NX     4.0           1176 days  54.596383  -5.926639  \n",
       "3   BT1 2GX     5.0           1312 days  54.604188  -5.931226  \n",
       "4   BT1 2JF     4.0           1575 days  54.647520  -6.741936  "
      ]
     },
     "execution_count": 68,
     "metadata": {},
     "output_type": "execute_result"
    }
   ],
   "source": [
    "try:\n",
    "    df = df.join(lats_n_longs)\n",
    "except ValueError:\n",
    "    # Gets thrown if I accidently run this twice\n",
    "    pass\n",
    "df.head()"
   ]
  },
  {
   "cell_type": "markdown",
   "metadata": {
    "ExecuteTime": {
     "end_time": "2017-10-23T12:23:30.872846Z",
     "start_time": "2017-10-23T12:23:30.840918Z"
    },
    "slideshow": {
     "slide_type": "subslide"
    }
   },
   "source": [
    "## Maps!"
   ]
  },
  {
   "cell_type": "code",
   "execution_count": 69,
   "metadata": {
    "ExecuteTime": {
     "end_time": "2018-06-07T12:08:40.314832Z",
     "start_time": "2018-06-07T12:08:40.011826Z"
    },
    "slideshow": {
     "slide_type": "-"
    }
   },
   "outputs": [
    {
     "data": {
      "text/plain": [
       "<matplotlib.axes._subplots.AxesSubplot at 0x116197b70>"
      ]
     },
     "execution_count": 69,
     "metadata": {},
     "output_type": "execute_result"
    },
    {
     "data": {
      "image/png": "[encoded data removed]",
      "text/plain": [
       "<Figure size 720x432 with 1 Axes>"
      ]
     },
     "metadata": {},
     "output_type": "display_data"
    }
   ],
   "source": [
    "import geopandas as gp\n",
    "from shapely.geometry import Point\n",
    "geometry = [Point(xy) for xy in zip(df.longitude, df.latitude)]\n",
    "_df = df.drop(['longitude','latitude'], axis=1)\n",
    "crs = {'init': 'epsg:4326'}\n",
    "gdf=gp.GeoDataFrame(_df, crs=crs, geometry=geometry)\n",
    "gdf.plot(figsize=graph_figsize)"
   ]
  },
  {
   "cell_type": "markdown",
   "metadata": {
    "slideshow": {
     "slide_type": "subslide"
    }
   },
   "source": [
    "## Get Open Data Shape File to give a meaningful map of NI\n",
    "[Search for \"Shapefile\" on OpendataNI](https://www.opendatani.gov.uk/dataset/osni-open-data-largescale-boundaries-ni-outline1/resource/7e384dd8-3a59-4ae9-be59-386d80fa4db3) (Also in this repo too)"
   ]
  },
  {
   "cell_type": "code",
   "execution_count": 70,
   "metadata": {
    "ExecuteTime": {
     "end_time": "2018-06-07T12:08:40.837188Z",
     "start_time": "2018-06-07T12:08:40.317436Z"
    },
    "slideshow": {
     "slide_type": "-"
    }
   },
   "outputs": [
    {
     "data": {
      "text/plain": [
       "<matplotlib.axes._subplots.AxesSubplot at 0x1162ca4e0>"
      ]
     },
     "execution_count": 70,
     "metadata": {},
     "output_type": "execute_result"
    },
    {
     "data": {
      "image/png": "[encoded data removed]",
      "text/plain": [
       "<Figure size 720x432 with 1 Axes>"
      ]
     },
     "metadata": {},
     "output_type": "display_data"
    }
   ],
   "source": [
    "base_map=gp.GeoDataFrame.from_file(\"OSNI_Open_Data_Largescale_Boundaries__NI_Outline.shp\")\n",
    "base_map.plot(figsize=graph_figsize)"
   ]
  },
  {
   "cell_type": "code",
   "execution_count": 71,
   "metadata": {
    "ExecuteTime": {
     "end_time": "2018-06-07T12:08:41.455408Z",
     "start_time": "2018-06-07T12:08:40.839909Z"
    },
    "slideshow": {
     "slide_type": "subslide"
    }
   },
   "outputs": [
    {
     "data": {
      "text/plain": [
       "<matplotlib.axes._subplots.AxesSubplot at 0x115fedb70>"
      ]
     },
     "execution_count": 71,
     "metadata": {},
     "output_type": "execute_result"
    },
    {
     "data": {
      "image/png": "[encoded data removed]",
      "text/plain": [
       "<Figure size 720x432 with 2 Axes>"
      ]
     },
     "metadata": {},
     "output_type": "display_data"
    }
   ],
   "source": [
    "f,ax = plt.subplots(figsize=graph_figsize)\n",
    "base_map.plot(ax=ax, color='gray')\n",
    "gdf.dropna().plot(column='rating',ax=ax, alpha=0.5, legend=True, cmap='RdYlGn')"
   ]
  },
  {
   "cell_type": "code",
   "execution_count": 72,
   "metadata": {
    "ExecuteTime": {
     "end_time": "2018-06-07T12:08:41.470097Z",
     "start_time": "2018-06-07T12:08:41.458646Z"
    },
    "slideshow": {
     "slide_type": "subslide"
    }
   },
   "outputs": [
    {
     "data": {
      "text/html": [
       "<div>\n",
       "<style scoped>\n",
       "    .dataframe tbody tr th:only-of-type {\n",
       "        vertical-align: middle;\n",
       "    }\n",
       "\n",
       "    .dataframe tbody tr th {\n",
       "        vertical-align: top;\n",
       "    }\n",
       "\n",
       "    .dataframe thead th {\n",
       "        text-align: right;\n",
       "    }\n",
       "</style>\n",
       "<table border=\"1\" class=\"dataframe\">\n",
       "  <thead>\n",
       "    <tr style=\"text-align: right;\">\n",
       "      <th></th>\n",
       "      <th>latitude</th>\n",
       "      <th>longitude</th>\n",
       "    </tr>\n",
       "  </thead>\n",
       "  <tbody>\n",
       "    <tr>\n",
       "      <th>min</th>\n",
       "      <td>54.526609</td>\n",
       "      <td>-6.741936</td>\n",
       "    </tr>\n",
       "    <tr>\n",
       "      <th>max</th>\n",
       "      <td>54.677225</td>\n",
       "      <td>-5.813576</td>\n",
       "    </tr>\n",
       "  </tbody>\n",
       "</table>\n",
       "</div>"
      ],
      "text/plain": [
       "      latitude  longitude\n",
       "min  54.526609  -6.741936\n",
       "max  54.677225  -5.813576"
      ]
     },
     "execution_count": 72,
     "metadata": {},
     "output_type": "execute_result"
    }
   ],
   "source": [
    "min_max = df[['latitude','longitude']].agg(['min','max'])\n",
    "min_max"
   ]
  },
  {
   "cell_type": "code",
   "execution_count": 73,
   "metadata": {
    "ExecuteTime": {
     "end_time": "2018-06-07T12:08:42.157818Z",
     "start_time": "2018-06-07T12:08:41.472793Z"
    },
    "slideshow": {
     "slide_type": "subslide"
    }
   },
   "outputs": [
    {
     "data": {
      "text/plain": [
       "(54.52660878238531, 54.67722468503716)"
      ]
     },
     "execution_count": 73,
     "metadata": {},
     "output_type": "execute_result"
    },
    {
     "data": {
      "image/png": "[encoded data removed]",
      "text/plain": [
       "<Figure size 720x432 with 2 Axes>"
      ]
     },
     "metadata": {},
     "output_type": "display_data"
    }
   ],
   "source": [
    "f,ax = plt.subplots(figsize=graph_figsize)\n",
    "base_map.plot(ax=ax, color='gray')\n",
    "gdf.dropna().plot(column='rating',ax=ax, alpha=0.5, legend=True, cmap='RdYlGn')\n",
    "ax.set_xlim(min_max['longitude'].values)\n",
    "ax.set_ylim(min_max['latitude'].values)"
   ]
  },
  {
   "cell_type": "code",
   "execution_count": 74,
   "metadata": {
    "ExecuteTime": {
     "end_time": "2018-06-07T12:08:42.768561Z",
     "start_time": "2018-06-07T12:08:42.159858Z"
    },
    "slideshow": {
     "slide_type": "subslide"
    }
   },
   "outputs": [
    {
     "data": {
      "image/png": "[encoded data removed]",
      "text/plain": [
       "<Figure size 720x432 with 2 Axes>"
      ]
     },
     "metadata": {},
     "output_type": "display_data"
    }
   ],
   "source": [
    "f,ax = plt.subplots(figsize=graph_figsize)\n",
    "base_map.plot(ax=ax, color='gray')\n",
    "gdf.dropna().plot(column='rating',ax=ax, alpha=0.5, legend=True, cmap='RdYlGn')\n",
    "ax.set_xlim(min_max['longitude'].values)\n",
    "ax.set_ylim(min_max['latitude'].values)\n",
    "ax.set_aspect('equal')"
   ]
  },
  {
   "cell_type": "code",
   "execution_count": 75,
   "metadata": {
    "ExecuteTime": {
     "end_time": "2018-06-07T12:08:42.781079Z",
     "start_time": "2018-06-07T12:08:42.770443Z"
    },
    "slideshow": {
     "slide_type": "subslide"
    }
   },
   "outputs": [
    {
     "data": {
      "text/html": [
       "<div>\n",
       "<style scoped>\n",
       "    .dataframe tbody tr th:only-of-type {\n",
       "        vertical-align: middle;\n",
       "    }\n",
       "\n",
       "    .dataframe tbody tr th {\n",
       "        vertical-align: top;\n",
       "    }\n",
       "\n",
       "    .dataframe thead th {\n",
       "        text-align: right;\n",
       "    }\n",
       "</style>\n",
       "<table border=\"1\" class=\"dataframe\">\n",
       "  <thead>\n",
       "    <tr style=\"text-align: right;\">\n",
       "      <th></th>\n",
       "      <th>latitude</th>\n",
       "      <th>longitude</th>\n",
       "    </tr>\n",
       "  </thead>\n",
       "  <tbody>\n",
       "    <tr>\n",
       "      <th>0.01</th>\n",
       "      <td>54.550063</td>\n",
       "      <td>-6.026184</td>\n",
       "    </tr>\n",
       "    <tr>\n",
       "      <th>0.99</th>\n",
       "      <td>54.644132</td>\n",
       "      <td>-5.840460</td>\n",
       "    </tr>\n",
       "  </tbody>\n",
       "</table>\n",
       "</div>"
      ],
      "text/plain": [
       "       latitude  longitude\n",
       "0.01  54.550063  -6.026184\n",
       "0.99  54.644132  -5.840460"
      ]
     },
     "execution_count": 75,
     "metadata": {},
     "output_type": "execute_result"
    }
   ],
   "source": [
    "percentiles = df[['latitude','longitude']].quantile([0.01,0.99])\n",
    "percentiles"
   ]
  },
  {
   "cell_type": "code",
   "execution_count": 76,
   "metadata": {
    "ExecuteTime": {
     "end_time": "2018-06-07T12:08:43.482256Z",
     "start_time": "2018-06-07T12:08:42.782857Z"
    },
    "slideshow": {
     "slide_type": "subslide"
    }
   },
   "outputs": [
    {
     "data": {
      "image/png": "[encoded data removed]",
      "text/plain": [
       "<Figure size 720x432 with 2 Axes>"
      ]
     },
     "metadata": {},
     "output_type": "display_data"
    }
   ],
   "source": [
    "f,ax = plt.subplots(figsize=graph_figsize)\n",
    "base_map.plot(ax=ax, color='gray')\n",
    "gdf.dropna().plot(column='rating',ax=ax, alpha=0.5, legend=True, cmap='RdYlGn')\n",
    "ax.set_xlim(percentiles['longitude'].values)\n",
    "ax.set_ylim(percentiles['latitude'].values)\n",
    "ax.set_aspect('equal')\n"
   ]
  },
  {
   "cell_type": "markdown",
   "metadata": {
    "slideshow": {
     "slide_type": "slide"
    }
   },
   "source": [
    "# Challenges / Remainder of Workshop / \"Homework\"\n",
    "* Find out what the outlier location was using whatever method you like\n",
    "* Look through [OpenDataNI](https://www.opendatani.gov.uk/dataset) Datasets\n",
    "* Pick one to analyse\n",
    "* (If it's crap, pick another one)\n",
    "* Make One Graph that combines two measurements (i.e. position + rating as before, or rating + last-inspection)\n",
    "* Check out the [dataset suggestions currently open](https://www.opendatani.gov.uk/datarequest?state=open)\n",
    "* Find one you would be interested in analysing, and comment on what you think you could do with it or how you would combine it with other datasets\n",
    "\n",
    "**Bonus Round**\n",
    "If there's something you think government *has* that you *want* and haven't *seen*, request it."
   ]
  }
 ],
 "metadata": {
  "anaconda-cloud": {},
  "celltoolbar": "Slideshow",
  "kernelspec": {
   "display_name": "Python [conda root]",
   "language": "python",
   "name": "conda-root-py"
  },
  "language_info": {
   "codemirror_mode": {
    "name": "ipython",
    "version": 3
   },
   "file_extension": ".py",
   "mimetype": "text/x-python",
   "name": "python",
   "nbconvert_exporter": "python",
   "pygments_lexer": "ipython3",
   "version": "3.6.4"
  },
  "latex_envs": {
   "bibliofile": "biblio.bib",
   "cite_by": "apalike",
   "current_citInitial": 1,
   "eqLabelWithNumbers": true,
   "eqNumInitial": 0
  },
  "nav_menu": {},
  "toc": {
   "base_numbering": 1,
   "nav_menu": {},
   "number_sections": true,
   "sideBar": true,
   "skip_h1_title": false,
   "title_cell": "Table of Contents",
   "title_sidebar": "Contents",
   "toc_cell": false,
   "toc_position": {},
   "toc_section_display": "block",
   "toc_window_display": false
  }
 },
 "nbformat": 4,
 "nbformat_minor": 2
}
