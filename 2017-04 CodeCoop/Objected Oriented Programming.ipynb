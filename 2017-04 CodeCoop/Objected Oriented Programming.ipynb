{
 "cells": [
  {
   "cell_type": "markdown",
   "metadata": {
    "slideshow": {
     "slide_type": "slide"
    }
   },
   "source": [
    "# Object Oriented Programming in Python\n",
    "\n",
    "* Everything is an `object` (or an instance of an `object`)\n",
    "* `object`s encapsulate both data (variables/attributes) and functionality (methods)\n",
    "* `object`s define \"types\" or `class`s, instances are \"items\"\n",
    "* `object` instances have a concept of `self`\n"
   ]
  },
  {
   "cell_type": "markdown",
   "metadata": {
    "slideshow": {
     "slide_type": "fragment"
    }
   },
   "source": [
    "** Enough talk, more code **"
   ]
  },
  {
   "cell_type": "code",
   "execution_count": 73,
   "metadata": {
    "ExecuteTime": {
     "end_time": "2017-04-27T15:35:58.298661Z",
     "start_time": "2017-04-27T16:35:58.279053+01:00"
    },
    "collapsed": true,
    "slideshow": {
     "slide_type": "skip"
    }
   },
   "outputs": [],
   "source": [
    "from IPython.display import display"
   ]
  },
  {
   "cell_type": "markdown",
   "metadata": {
    "slideshow": {
     "slide_type": "slide"
    }
   },
   "source": [
    "# Encapsulation - Store Stuff"
   ]
  },
  {
   "cell_type": "code",
   "execution_count": 74,
   "metadata": {
    "ExecuteTime": {
     "end_time": "2017-04-27T15:35:58.329145Z",
     "start_time": "2017-04-27T16:35:58.302091+01:00"
    },
    "collapsed": false,
    "slideshow": {
     "slide_type": "subslide"
    }
   },
   "outputs": [
    {
     "data": {
      "text/plain": [
       "__main__.Thing"
      ]
     },
     "metadata": {},
     "output_type": "display_data"
    },
    {
     "data": {
      "text/plain": [
       "<__main__.Thing at 0x7f1975e4d080>"
      ]
     },
     "metadata": {},
     "output_type": "display_data"
    },
    {
     "data": {
      "text/plain": [
       "<__main__.Thing at 0x7f1975e4de10>"
      ]
     },
     "metadata": {},
     "output_type": "display_data"
    }
   ],
   "source": [
    "class Thing:\n",
    "    pass\n",
    "\n",
    "this = Thing()\n",
    "that = Thing()\n",
    "display(Thing,this, that)"
   ]
  },
  {
   "cell_type": "markdown",
   "metadata": {
    "slideshow": {
     "slide_type": "fragment"
    }
   },
   "source": [
    "This `Thing` isn't particularly useful, so we can give it universal attributes (`class_variable`)"
   ]
  },
  {
   "cell_type": "code",
   "execution_count": 75,
   "metadata": {
    "ExecuteTime": {
     "end_time": "2017-04-27T15:35:58.356674Z",
     "start_time": "2017-04-27T16:35:58.332026+01:00"
    },
    "collapsed": false,
    "deletable": true,
    "editable": true,
    "slideshow": {
     "slide_type": "subslide"
    }
   },
   "outputs": [
    {
     "data": {
      "text/plain": [
       "<__main__.Thing at 0x7f1975e6b6a0>"
      ]
     },
     "metadata": {},
     "output_type": "display_data"
    },
    {
     "data": {
      "text/plain": [
       "<__main__.Thing at 0x7f1975e6b358>"
      ]
     },
     "metadata": {},
     "output_type": "display_data"
    },
    {
     "data": {
      "text/plain": [
       "'inner class variable available to all instances'"
      ]
     },
     "metadata": {},
     "output_type": "display_data"
    },
    {
     "data": {
      "text/plain": [
       "'inner class variable available to all instances'"
      ]
     },
     "metadata": {},
     "output_type": "display_data"
    }
   ],
   "source": [
    "class Thing(object):\n",
    "    class_variable = 'inner class variable available to all instances'\n",
    "\n",
    "this = Thing()\n",
    "that = Thing()\n",
    "\n",
    "display(this,that)\n",
    "display(this.class_variable, that.class_variable)\n"
   ]
  },
  {
   "cell_type": "code",
   "execution_count": 76,
   "metadata": {
    "ExecuteTime": {
     "end_time": "2017-04-27T15:35:58.377534Z",
     "start_time": "2017-04-27T16:35:58.358779+01:00"
    },
    "collapsed": false,
    "slideshow": {
     "slide_type": "fragment"
    }
   },
   "outputs": [
    {
     "data": {
      "text/plain": [
       "'inner class variable available to all instances'"
      ]
     },
     "metadata": {},
     "output_type": "display_data"
    },
    {
     "data": {
      "text/plain": [
       "'but you can change instance variables (this is terrible practice)'"
      ]
     },
     "metadata": {},
     "output_type": "display_data"
    }
   ],
   "source": [
    "that.class_variable = 'but you can change instance variables (this is terrible practice)'\n",
    "display(this.class_variable, that.class_variable)\n"
   ]
  },
  {
   "cell_type": "code",
   "execution_count": 77,
   "metadata": {
    "ExecuteTime": {
     "end_time": "2017-04-27T15:35:58.402171Z",
     "start_time": "2017-04-27T16:35:58.379451+01:00"
    },
    "collapsed": false,
    "slideshow": {
     "slide_type": "slide"
    }
   },
   "outputs": [
    {
     "data": {
      "text/plain": [
       "'inner class variable available to all instances'"
      ]
     },
     "metadata": {},
     "output_type": "display_data"
    },
    {
     "data": {
      "text/plain": [
       "'using getters and setters is better'"
      ]
     },
     "metadata": {},
     "output_type": "display_data"
    }
   ],
   "source": [
    "class Thing(object):\n",
    "    class_variable = 'inner class variable available to all instances'\n",
    "    \n",
    "    def set_class_variable(self, value):\n",
    "        self.class_variable = value\n",
    "    def get_class_variable(self):\n",
    "        return self.class_variable\n",
    "\n",
    "this = Thing()\n",
    "that = Thing()\n",
    "that.set_class_variable('using getters and setters is better')\n",
    "display(this.get_class_variable(), that.get_class_variable())"
   ]
  },
  {
   "cell_type": "code",
   "execution_count": 78,
   "metadata": {
    "ExecuteTime": {
     "end_time": "2017-04-27T15:35:58.420317Z",
     "start_time": "2017-04-27T16:35:58.404129+01:00"
    },
    "collapsed": false,
    "slideshow": {
     "slide_type": "fragment"
    }
   },
   "outputs": [
    {
     "data": {
      "text/plain": [
       "'but we can still mess with things, which is bad news'"
      ]
     },
     "metadata": {},
     "output_type": "display_data"
    }
   ],
   "source": [
    "thon = Thing()\n",
    "thon.class_variable='but we can still mess with things, which is bad news'\n",
    "display(thon.class_variable)"
   ]
  },
  {
   "cell_type": "code",
   "execution_count": 79,
   "metadata": {
    "ExecuteTime": {
     "end_time": "2017-04-27T15:35:58.443461Z",
     "start_time": "2017-04-27T16:35:58.422021+01:00"
    },
    "collapsed": false,
    "slideshow": {
     "slide_type": "slide"
    }
   },
   "outputs": [
    {
     "data": {
      "text/plain": [
       "'private var'"
      ]
     },
     "metadata": {},
     "output_type": "display_data"
    },
    {
     "data": {
      "text/plain": [
       "'properties are even nicer, but whats the point?'"
      ]
     },
     "metadata": {},
     "output_type": "display_data"
    }
   ],
   "source": [
    "class Thing(object):\n",
    "    __private_class_variable = 'private var'\n",
    "    \n",
    "    @property\n",
    "    def class_variable(self):\n",
    "        return self.__private_class_variable\n",
    "    @class_variable.setter\n",
    "    def class_variable(self, value):\n",
    "        self.__private_class_variable = value\n",
    "\n",
    "this = Thing()\n",
    "that = Thing()\n",
    "that.class_variable='properties are even nicer, but whats the point?'\n",
    "display(this.class_variable, that.class_variable)"
   ]
  },
  {
   "cell_type": "code",
   "execution_count": 80,
   "metadata": {
    "ExecuteTime": {
     "end_time": "2017-04-27T15:35:58.472236Z",
     "start_time": "2017-04-27T16:35:58.446021+01:00"
    },
    "collapsed": false,
    "slideshow": {
     "slide_type": "slide"
    }
   },
   "outputs": [
    {
     "data": {
      "text/plain": [
       "'var that must always be lower case'"
      ]
     },
     "metadata": {},
     "output_type": "display_data"
    },
    {
     "data": {
      "text/plain": [
       "'we can enforce input validation'"
      ]
     },
     "metadata": {},
     "output_type": "display_data"
    }
   ],
   "source": [
    "class Thing(object):\n",
    "    __private_class_variable = 'var that must always be lower case'\n",
    "    \n",
    "    @property\n",
    "    def class_variable(self):\n",
    "        return self.__private_class_variable\n",
    "    @class_variable.setter\n",
    "    def class_variable(self, value):\n",
    "        self.__private_class_variable = value.lower()\n",
    "\n",
    "this = Thing()\n",
    "that = Thing()\n",
    "that.class_variable='We can EnForce Input ValIDation'\n",
    "display(this.class_variable, that.class_variable)"
   ]
  },
  {
   "cell_type": "markdown",
   "metadata": {
    "slideshow": {
     "slide_type": "slide"
    }
   },
   "source": [
    "# Abstraction - Do Stuff"
   ]
  },
  {
   "cell_type": "code",
   "execution_count": 81,
   "metadata": {
    "ExecuteTime": {
     "end_time": "2017-04-27T15:35:58.499451Z",
     "start_time": "2017-04-27T16:35:58.474571+01:00"
    },
    "collapsed": false,
    "slideshow": {
     "slide_type": "fragment"
    }
   },
   "outputs": [
    {
     "data": {
      "text/plain": [
       "'Hello there!'"
      ]
     },
     "metadata": {},
     "output_type": "display_data"
    },
    {
     "data": {
      "text/plain": [
       "'Hello there, Code Coop!'"
      ]
     },
     "metadata": {},
     "output_type": "display_data"
    }
   ],
   "source": [
    "class Greeter(object):\n",
    "    _greet_prefix = 'Hello there'\n",
    "    def __init__(self, greetee=None):\n",
    "        self.greetee = greetee\n",
    "        \n",
    "    def wave(self):\n",
    "        if self.greetee is not None:\n",
    "            greeting = '{prefix}, {greetee}!'.format(\n",
    "                prefix = self._greet_prefix,\n",
    "                greetee = self.greetee\n",
    "            )\n",
    "        else:\n",
    "            greeting = '{prefix}!'.format(prefix = self._greet_prefix)\n",
    "        return greeting\n",
    "        \n",
    "    \n",
    "\n",
    "a = Greeter()\n",
    "b = Greeter(\"Code Coop\")\n",
    "\n",
    "display(a.wave(),b.wave())"
   ]
  },
  {
   "cell_type": "markdown",
   "metadata": {
    "slideshow": {
     "slide_type": "slide"
    }
   },
   "source": [
    "# Inheritance - Nest Stuff"
   ]
  },
  {
   "cell_type": "code",
   "execution_count": 82,
   "metadata": {
    "ExecuteTime": {
     "end_time": "2017-04-27T15:35:58.515434Z",
     "start_time": "2017-04-27T16:35:58.500689+01:00"
    },
    "collapsed": false,
    "slideshow": {
     "slide_type": "fragment"
    }
   },
   "outputs": [
    {
     "name": "stdout",
     "output_type": "stream",
     "text": [
      "Hello, my name is Bob\n"
     ]
    }
   ],
   "source": [
    "class Person:\n",
    "    def __init__(self, name):\n",
    "        self.name = name\n",
    "\n",
    "    def say_hi(self):\n",
    "        print('Hello, my name is {name}'.format(name=self.name))\n",
    "p = Person('Bob')\n",
    "p.say_hi()"
   ]
  },
  {
   "cell_type": "code",
   "execution_count": 83,
   "metadata": {
    "ExecuteTime": {
     "end_time": "2017-04-27T15:35:58.530590Z",
     "start_time": "2017-04-27T16:35:58.516774+01:00"
    },
    "collapsed": false,
    "slideshow": {
     "slide_type": "subslide"
    }
   },
   "outputs": [
    {
     "name": "stdout",
     "output_type": "stream",
     "text": [
      "Hello, my name is Alice\n",
      "Alice voted for The Monster Raving Loony Party\n"
     ]
    }
   ],
   "source": [
    "class Adult(Person):\n",
    "    def vote_for(self, party):\n",
    "        print('{name} voted for {party}'.format(name=self.name,\n",
    "                                                party=party))\n",
    "        \n",
    "a = Adult('Alice')\n",
    "a.say_hi()\n",
    "a.vote_for('The Monster Raving Loony Party')"
   ]
  },
  {
   "cell_type": "code",
   "execution_count": 84,
   "metadata": {
    "ExecuteTime": {
     "end_time": "2017-04-27T15:35:58.544973Z",
     "start_time": "2017-04-27T16:35:58.532086+01:00"
    },
    "collapsed": false,
    "slideshow": {
     "slide_type": "fragment"
    }
   },
   "outputs": [
    {
     "ename": "AttributeError",
     "evalue": "'Person' object has no attribute 'vote_for'",
     "output_type": "error",
     "traceback": [
      "\u001b[0;31m---------------------------------------------------------------------------\u001b[0m",
      "\u001b[0;31mAttributeError\u001b[0m                            Traceback (most recent call last)",
      "\u001b[0;32m<ipython-input-84-0400bd571bb8>\u001b[0m in \u001b[0;36m<module>\u001b[0;34m()\u001b[0m\n\u001b[0;32m----> 1\u001b[0;31m \u001b[0mp\u001b[0m\u001b[0;34m.\u001b[0m\u001b[0mvote_for\u001b[0m\u001b[0;34m(\u001b[0m\u001b[0;34m'The Peoples Front of Judea'\u001b[0m\u001b[0;34m)\u001b[0m\u001b[0;34m\u001b[0m\u001b[0m\n\u001b[0m",
      "\u001b[0;31mAttributeError\u001b[0m: 'Person' object has no attribute 'vote_for'"
     ]
    }
   ],
   "source": [
    "p.vote_for('The Peoples Front of Judea')"
   ]
  },
  {
   "cell_type": "markdown",
   "metadata": {
    "slideshow": {
     "slide_type": "slide"
    }
   },
   "source": [
    "# Polymorphism - Fancy word for `interfaces`"
   ]
  },
  {
   "cell_type": "code",
   "execution_count": 89,
   "metadata": {
    "ExecuteTime": {
     "end_time": "2017-04-27T15:38:06.796681Z",
     "start_time": "2017-04-27T16:38:06.763373+01:00"
    },
    "collapsed": false,
    "slideshow": {
     "slide_type": "fragment"
    }
   },
   "outputs": [],
   "source": [
    "class Person(object):\n",
    "    def __init__(self, name):\n",
    "        self.name = name\n",
    "\n",
    "    def say_hi(self):\n",
    "        print('Hello, my name is {name}'.format(name=self.name))\n",
    "        \n",
    "    # aka Abstract Method\n",
    "    def pay_tab():\n",
    "        raise NotImplementedError\n",
    "\n",
    "class Supervisor(Person):\n",
    "    def pay_tab(self):\n",
    "        print(\"Here you go! Keep the change!\")\n",
    "\n",
    "class GradStudent(Person):\n",
    "    def pay_tab(self):\n",
    "        print(\"Can I owe you a tenner or do the dishes?\")\n",
    "        \n",
    "people = [GradStudent('Alice'), \n",
    "          Supervisor('Jane'), \n",
    "          GradStudent('Claire')\n",
    "         ]\n"
   ]
  },
  {
   "cell_type": "code",
   "execution_count": 90,
   "metadata": {
    "ExecuteTime": {
     "end_time": "2017-04-27T15:38:07.288488Z",
     "start_time": "2017-04-27T16:38:07.265784+01:00"
    },
    "collapsed": false,
    "slideshow": {
     "slide_type": "subslide"
    }
   },
   "outputs": [
    {
     "name": "stdout",
     "output_type": "stream",
     "text": [
      "Hello, my name is Alice\n",
      "Can I owe you a tenner or do the dishes?\n",
      "----\n",
      "Hello, my name is Jane\n",
      "Here you go! Keep the change!\n",
      "----\n",
      "Hello, my name is Claire\n",
      "Can I owe you a tenner or do the dishes?\n",
      "----\n"
     ]
    }
   ],
   "source": [
    "\n",
    "for person in people:\n",
    "    person.say_hi()\n",
    "    person.pay_tab()\n",
    "    print('----')"
   ]
  },
  {
   "cell_type": "code",
   "execution_count": 93,
   "metadata": {
    "ExecuteTime": {
     "end_time": "2017-04-27T15:39:11.327216Z",
     "start_time": "2017-04-27T16:39:11.302289+01:00"
    },
    "collapsed": false,
    "slideshow": {
     "slide_type": "subslide"
    }
   },
   "outputs": [],
   "source": [
    "class Supervisor(Person):\n",
    "    def pay_tab(self):\n",
    "        print(\"Here you go! Keep the change!\")\n",
    "        \n",
    "    def say_hi(self):\n",
    "        super(Supervisor,self).say_hi()\n",
    "        print(\"I'm a Doctor don't you know\")\n",
    "        \n",
    "people = [GradStudent('Alice'), \n",
    "          Supervisor('Jane'), \n",
    "          GradStudent('Claire')\n",
    "         ]"
   ]
  },
  {
   "cell_type": "code",
   "execution_count": 94,
   "metadata": {
    "ExecuteTime": {
     "end_time": "2017-04-27T15:39:12.004525Z",
     "start_time": "2017-04-27T16:39:11.980142+01:00"
    },
    "collapsed": false,
    "slideshow": {
     "slide_type": "subslide"
    }
   },
   "outputs": [
    {
     "name": "stdout",
     "output_type": "stream",
     "text": [
      "Hello, my name is Alice\n",
      "Can I owe you a tenner or do the dishes?\n",
      "----\n",
      "Hello, my name is Jane\n",
      "I'm a Doctor don't you know\n",
      "Here you go! Keep the change!\n",
      "----\n",
      "Hello, my name is Claire\n",
      "Can I owe you a tenner or do the dishes?\n",
      "----\n"
     ]
    }
   ],
   "source": [
    "\n",
    "for person in people:\n",
    "    person.say_hi()\n",
    "    person.pay_tab()\n",
    "    print('----')"
   ]
  },
  {
   "cell_type": "code",
   "execution_count": null,
   "metadata": {
    "collapsed": true
   },
   "outputs": [],
   "source": []
  }
 ],
 "metadata": {
  "anaconda-cloud": {},
  "celltoolbar": "Slideshow",
  "kernelspec": {
   "display_name": "Python [conda root]",
   "language": "python",
   "name": "conda-root-py"
  },
  "language_info": {
   "codemirror_mode": {
    "name": "ipython",
    "version": 3
   },
   "file_extension": ".py",
   "mimetype": "text/x-python",
   "name": "python",
   "nbconvert_exporter": "python",
   "pygments_lexer": "ipython3",
   "version": "3.5.3"
  },
  "latex_envs": {
   "bibliofile": "biblio.bib",
   "cite_by": "apalike",
   "current_citInitial": 1,
   "eqLabelWithNumbers": true,
   "eqNumInitial": 0
  },
  "nav_menu": {},
  "toc": {
   "navigate_menu": true,
   "number_sections": true,
   "sideBar": true,
   "threshold": 6,
   "toc_cell": false,
   "toc_section_display": "block",
   "toc_window_display": false
  }
 },
 "nbformat": 4,
 "nbformat_minor": 2
}
