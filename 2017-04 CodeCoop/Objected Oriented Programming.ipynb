{
 "cells": [
  {
   "cell_type": "markdown",
   "metadata": {
    "slideshow": {
     "slide_type": "slide"
    }
   },
   "source": [
    "# Object Oriented Programming in Python\n",
    "\n",
    "* Everything is an `object` (or an instance of an `object`)\n",
    "* `object`s encapsulate both data (variables/attributes) and functionality (methods)\n",
    "* `object`s define \"types\" or `class`s, instances are \"items\"\n",
    "* `object` instances have a concept of `self`\n"
   ]
  },
  {
   "cell_type": "markdown",
   "metadata": {
    "slideshow": {
     "slide_type": "fragment"
    }
   },
   "source": [
    "** Enough talk, more code **"
   ]
  },
  {
   "cell_type": "code",
   "execution_count": 3,
   "metadata": {
    "ExecuteTime": {
     "end_time": "2017-04-27T15:35:58.298661Z",
     "start_time": "2017-04-27T16:35:58.279053+01:00"
    },
    "collapsed": true,
    "slideshow": {
     "slide_type": "skip"
    }
   },
   "outputs": [],
   "source": [
    "from IPython.display import display"
   ]
  },
  {
   "cell_type": "markdown",
   "metadata": {
    "slideshow": {
     "slide_type": "slide"
    }
   },
   "source": [
    "# Encapsulation - Store Stuff"
   ]
  },
  {
   "cell_type": "code",
   "execution_count": 4,
   "metadata": {
    "ExecuteTime": {
     "end_time": "2017-04-27T15:35:58.329145Z",
     "start_time": "2017-04-27T16:35:58.302091+01:00"
    },
    "slideshow": {
     "slide_type": "subslide"
    }
   },
   "outputs": [
    {
     "data": {
      "text/plain": [
       "__main__.Thing"
      ]
     },
     "metadata": {},
     "output_type": "display_data"
    },
    {
     "data": {
      "text/plain": [
       "<__main__.Thing at 0x7f8211652358>"
      ]
     },
     "metadata": {},
     "output_type": "display_data"
    },
    {
     "data": {
      "text/plain": [
       "<__main__.Thing at 0x7f8211652320>"
      ]
     },
     "metadata": {},
     "output_type": "display_data"
    }
   ],
   "source": [
    "class Thing:\n",
    "    pass \n",
    "\n",
    "this = Thing()\n",
    "that = Thing()\n",
    "display(Thing,this, that)"
   ]
  },
  {
   "cell_type": "markdown",
   "metadata": {
    "slideshow": {
     "slide_type": "fragment"
    }
   },
   "source": [
    "This `Thing` isn't particularly useful, so we can give it universal attributes (`class_variable`)"
   ]
  },
  {
   "cell_type": "code",
   "execution_count": 5,
   "metadata": {
    "ExecuteTime": {
     "end_time": "2017-04-27T15:35:58.356674Z",
     "start_time": "2017-04-27T16:35:58.332026+01:00"
    },
    "slideshow": {
     "slide_type": "subslide"
    }
   },
   "outputs": [
    {
     "data": {
      "text/plain": [
       "<__main__.Thing at 0x7f8211652ac8>"
      ]
     },
     "metadata": {},
     "output_type": "display_data"
    },
    {
     "data": {
      "text/plain": [
       "<__main__.Thing at 0x7f8211652a90>"
      ]
     },
     "metadata": {},
     "output_type": "display_data"
    },
    {
     "data": {
      "text/plain": [
       "'inner class variable available to all instances'"
      ]
     },
     "metadata": {},
     "output_type": "display_data"
    },
    {
     "data": {
      "text/plain": [
       "'inner class variable available to all instances'"
      ]
     },
     "metadata": {},
     "output_type": "display_data"
    }
   ],
   "source": [
    "class Thing(object):\n",
    "    class_variable = 'inner class variable available to all instances'\n",
    "\n",
    "this = Thing()\n",
    "that = Thing()\n",
    "\n",
    "display(this,that)\n",
    "display(this.class_variable, that.class_variable)\n"
   ]
  },
  {
   "cell_type": "code",
   "execution_count": 6,
   "metadata": {
    "ExecuteTime": {
     "end_time": "2017-04-27T15:35:58.377534Z",
     "start_time": "2017-04-27T16:35:58.358779+01:00"
    },
    "slideshow": {
     "slide_type": "fragment"
    }
   },
   "outputs": [
    {
     "data": {
      "text/plain": [
       "'inner class variable available to all instances'"
      ]
     },
     "metadata": {},
     "output_type": "display_data"
    },
    {
     "data": {
      "text/plain": [
       "'but you can change instance variables (this is terrible practice)'"
      ]
     },
     "metadata": {},
     "output_type": "display_data"
    }
   ],
   "source": [
    "that.class_variable = 'but you can change instance variables (this is terrible practice)'\n",
    "display(this.class_variable, that.class_variable)\n"
   ]
  },
  {
   "cell_type": "code",
   "execution_count": 7,
   "metadata": {
    "ExecuteTime": {
     "end_time": "2017-04-27T15:35:58.402171Z",
     "start_time": "2017-04-27T16:35:58.379451+01:00"
    },
    "slideshow": {
     "slide_type": "slide"
    }
   },
   "outputs": [
    {
     "data": {
      "text/plain": [
       "'inner class variable available to all instances'"
      ]
     },
     "metadata": {},
     "output_type": "display_data"
    },
    {
     "data": {
      "text/plain": [
       "'using getters and setters is better'"
      ]
     },
     "metadata": {},
     "output_type": "display_data"
    }
   ],
   "source": [
    "class Thing(object):\n",
    "    class_variable = 'inner class variable available to all instances'\n",
    "    \n",
    "    def set_class_variable(self, value):\n",
    "        self.class_variable = value\n",
    "        \n",
    "    def get_class_variable(self):\n",
    "        return self.class_variable\n",
    "\n",
    "this = Thing()\n",
    "that = Thing()\n",
    "that.set_class_variable('using getters and setters is better')\n",
    "display(this.get_class_variable(), that.get_class_variable())"
   ]
  },
  {
   "cell_type": "code",
   "execution_count": 8,
   "metadata": {
    "ExecuteTime": {
     "end_time": "2017-04-27T15:35:58.420317Z",
     "start_time": "2017-04-27T16:35:58.404129+01:00"
    },
    "slideshow": {
     "slide_type": "fragment"
    }
   },
   "outputs": [
    {
     "data": {
      "text/plain": [
       "'but we can still mess with things, which is bad news'"
      ]
     },
     "metadata": {},
     "output_type": "display_data"
    }
   ],
   "source": [
    "thon = Thing()\n",
    "thon.class_variable='but we can still mess with things, which is bad news'\n",
    "display(thon.class_variable)"
   ]
  },
  {
   "cell_type": "code",
   "execution_count": 9,
   "metadata": {
    "ExecuteTime": {
     "end_time": "2017-04-27T15:35:58.443461Z",
     "start_time": "2017-04-27T16:35:58.422021+01:00"
    },
    "slideshow": {
     "slide_type": "slide"
    }
   },
   "outputs": [
    {
     "data": {
      "text/plain": [
       "'private var'"
      ]
     },
     "metadata": {},
     "output_type": "display_data"
    },
    {
     "data": {
      "text/plain": [
       "'properties are even nicer, but whats the point?'"
      ]
     },
     "metadata": {},
     "output_type": "display_data"
    }
   ],
   "source": [
    "class Thing(object):\n",
    "    __private_class_variable = 'private var'\n",
    "    \n",
    "    @property\n",
    "    def class_variable(self):\n",
    "        return self.__private_class_variable\n",
    "    \n",
    "    @class_variable.setter\n",
    "    def class_variable(self, value):\n",
    "        self.__private_class_variable = value\n",
    "\n",
    "this = Thing()\n",
    "that = Thing()\n",
    "that.class_variable='properties are even nicer, but whats the point?'\n",
    "display(this.class_variable, that.class_variable)"
   ]
  },
  {
   "cell_type": "code",
   "execution_count": 10,
   "metadata": {
    "ExecuteTime": {
     "end_time": "2017-04-27T15:35:58.472236Z",
     "start_time": "2017-04-27T16:35:58.446021+01:00"
    },
    "slideshow": {
     "slide_type": "slide"
    }
   },
   "outputs": [
    {
     "data": {
      "text/plain": [
       "'var that must always be lower case'"
      ]
     },
     "metadata": {},
     "output_type": "display_data"
    },
    {
     "data": {
      "text/plain": [
       "'we can enforce input validation'"
      ]
     },
     "metadata": {},
     "output_type": "display_data"
    }
   ],
   "source": [
    "class Thing(object):\n",
    "    __private_class_variable = 'var that must always be lower case'\n",
    "    \n",
    "    @property\n",
    "    def class_variable(self):\n",
    "        return self.__private_class_variable\n",
    "    \n",
    "    @class_variable.setter\n",
    "    def class_variable(self, value):\n",
    "        self.__private_class_variable = value.lower()\n",
    "\n",
    "this = Thing()\n",
    "that = Thing()\n",
    "that.class_variable='We can EnForce Input ValIDation'\n",
    "display(this.class_variable, that.class_variable)"
   ]
  },
  {
   "cell_type": "markdown",
   "metadata": {
    "slideshow": {
     "slide_type": "slide"
    }
   },
   "source": [
    "# Abstraction - Do Stuff"
   ]
  },
  {
   "cell_type": "code",
   "execution_count": 11,
   "metadata": {
    "ExecuteTime": {
     "end_time": "2017-04-27T15:35:58.499451Z",
     "start_time": "2017-04-27T16:35:58.474571+01:00"
    },
    "slideshow": {
     "slide_type": "fragment"
    }
   },
   "outputs": [
    {
     "data": {
      "text/plain": [
       "'Hello there!'"
      ]
     },
     "metadata": {},
     "output_type": "display_data"
    },
    {
     "data": {
      "text/plain": [
       "'Hello there, Code Coop!'"
      ]
     },
     "metadata": {},
     "output_type": "display_data"
    }
   ],
   "source": [
    "class Greeter(object):\n",
    "    \n",
    "    _greet_prefix = 'Hello there'\n",
    "    \n",
    "    def __init__(self, greetee=None):\n",
    "        self.greetee = greetee\n",
    "        \n",
    "    def wave(self):\n",
    "        if self.greetee is not None:\n",
    "            greeting = '{prefix}, {greetee}!'.format(\n",
    "                prefix = self._greet_prefix,\n",
    "                greetee = self.greetee\n",
    "            )\n",
    "        else:\n",
    "            greeting = '{prefix}!'.format(prefix = self._greet_prefix)\n",
    "        return greeting\n",
    "\n",
    "a = Greeter()\n",
    "b = Greeter(\"Code Coop\")\n",
    "\n",
    "display(a.wave(),b.wave())"
   ]
  },
  {
   "cell_type": "markdown",
   "metadata": {
    "slideshow": {
     "slide_type": "slide"
    }
   },
   "source": [
    "# Inheritance - Nest Stuff"
   ]
  },
  {
   "cell_type": "code",
   "execution_count": 12,
   "metadata": {
    "ExecuteTime": {
     "end_time": "2017-04-27T15:35:58.515434Z",
     "start_time": "2017-04-27T16:35:58.500689+01:00"
    },
    "slideshow": {
     "slide_type": "fragment"
    }
   },
   "outputs": [
    {
     "name": "stdout",
     "output_type": "stream",
     "text": [
      "Hello, my name is Bob\n"
     ]
    }
   ],
   "source": [
    "class Person:\n",
    "    def __init__(self, name):\n",
    "        self.name = name\n",
    "\n",
    "    def say_hi(self):\n",
    "        print('Hello, my name is {name}'.format(name=self.name))\n",
    "p = Person('Bob')\n",
    "p.say_hi()"
   ]
  },
  {
   "cell_type": "code",
   "execution_count": 13,
   "metadata": {
    "ExecuteTime": {
     "end_time": "2017-04-27T15:35:58.530590Z",
     "start_time": "2017-04-27T16:35:58.516774+01:00"
    },
    "slideshow": {
     "slide_type": "subslide"
    }
   },
   "outputs": [
    {
     "name": "stdout",
     "output_type": "stream",
     "text": [
      "Hello, my name is Alice\n",
      "Alice voted for The Monster Raving Loony Party\n"
     ]
    }
   ],
   "source": [
    "class Adult(Person):\n",
    "    def vote_for(self, party):\n",
    "        print('{name} voted for {party}'.format(name=self.name,\n",
    "                                                party=party))\n",
    "        \n",
    "a = Adult('Alice')\n",
    "a.say_hi()\n",
    "a.vote_for('The Monster Raving Loony Party')"
   ]
  },
  {
   "cell_type": "code",
   "execution_count": 14,
   "metadata": {
    "ExecuteTime": {
     "end_time": "2017-04-27T15:35:58.544973Z",
     "start_time": "2017-04-27T16:35:58.532086+01:00"
    },
    "slideshow": {
     "slide_type": "fragment"
    }
   },
   "outputs": [
    {
     "ename": "AttributeError",
     "evalue": "'Person' object has no attribute 'vote_for'",
     "output_type": "error",
     "traceback": [
      "\u001b[0;31m---------------------------------------------------------------------------\u001b[0m",
      "\u001b[0;31mAttributeError\u001b[0m                            Traceback (most recent call last)",
      "\u001b[0;32m<ipython-input-14-0400bd571bb8>\u001b[0m in \u001b[0;36m<module>\u001b[0;34m()\u001b[0m\n\u001b[0;32m----> 1\u001b[0;31m \u001b[0mp\u001b[0m\u001b[0;34m.\u001b[0m\u001b[0mvote_for\u001b[0m\u001b[0;34m(\u001b[0m\u001b[0;34m'The Peoples Front of Judea'\u001b[0m\u001b[0;34m)\u001b[0m\u001b[0;34m\u001b[0m\u001b[0m\n\u001b[0m",
      "\u001b[0;31mAttributeError\u001b[0m: 'Person' object has no attribute 'vote_for'"
     ]
    }
   ],
   "source": [
    "p.vote_for('The Peoples Front of Judea')"
   ]
  },
  {
   "cell_type": "markdown",
   "metadata": {
    "slideshow": {
     "slide_type": "slide"
    }
   },
   "source": [
    "# Polymorphism - Fancy word for `interfaces`"
   ]
  },
  {
   "cell_type": "code",
   "execution_count": 34,
   "metadata": {
    "ExecuteTime": {
     "end_time": "2017-04-27T15:38:06.796681Z",
     "start_time": "2017-04-27T16:38:06.763373+01:00"
    },
    "slideshow": {
     "slide_type": "fragment"
    }
   },
   "outputs": [
    {
     "ename": "TypeError",
     "evalue": "unorderable types: Supervisor() < GradStudent()",
     "output_type": "error",
     "traceback": [
      "\u001b[0;31m---------------------------------------------------------------------------\u001b[0m",
      "\u001b[0;31mTypeError\u001b[0m                                 Traceback (most recent call last)",
      "\u001b[0;32m<ipython-input-34-ce4488e07767>\u001b[0m in \u001b[0;36m<module>\u001b[0;34m()\u001b[0m\n\u001b[1;32m     31\u001b[0m           \u001b[0mPerson\u001b[0m\u001b[0;34m(\u001b[0m\u001b[0;34m'Bob'\u001b[0m\u001b[0;34m)\u001b[0m\u001b[0;34m\u001b[0m\u001b[0m\n\u001b[1;32m     32\u001b[0m          ]\n\u001b[0;32m---> 33\u001b[0;31m \u001b[0msorted\u001b[0m\u001b[0;34m(\u001b[0m\u001b[0mpeople\u001b[0m\u001b[0;34m)\u001b[0m\u001b[0;34m\u001b[0m\u001b[0m\n\u001b[0m",
      "\u001b[0;31mTypeError\u001b[0m: unorderable types: Supervisor() < GradStudent()"
     ]
    }
   ],
   "source": [
    "class Person(object):\n",
    "    def __init__(self, name):\n",
    "        self.name = name\n",
    "\n",
    "    def say_hi(self):\n",
    "        print('Hello, my name is {name}'.format(name=self.name))\n",
    "        \n",
    "    # aka Abstract Method\n",
    "    def pay_tab(self):\n",
    "        raise NotImplementedError\n",
    "        \n",
    "    def __cmp__(self, other):\n",
    "        return self.name > other.name\n",
    "        \n",
    "\n",
    "\n",
    "class Supervisor(Person):\n",
    "    def pay_tab(self):\n",
    "        print(\"Here you go! Keep the change!\")\n",
    "        \n",
    "    def say_hi(self):\n",
    "        print('Hello there youngun\\', did you read my recent paper?')\n",
    "\n",
    "class GradStudent(Person):\n",
    "    def pay_tab(self):\n",
    "        print(\"Can I owe you a tenner or do the dishes?\")\n",
    "        \n",
    "people = [GradStudent('Alice'), \n",
    "          Supervisor('Jane'), \n",
    "          GradStudent('Claire'),\n",
    "          Person('Bob')\n",
    "         ]\n",
    "sorted(people)"
   ]
  },
  {
   "cell_type": "code",
   "execution_count": 30,
   "metadata": {
    "ExecuteTime": {
     "end_time": "2017-04-27T15:38:07.288488Z",
     "start_time": "2017-04-27T16:38:07.265784+01:00"
    },
    "slideshow": {
     "slide_type": "subslide"
    }
   },
   "outputs": [
    {
     "name": "stdout",
     "output_type": "stream",
     "text": [
      "Hello, my name is Alice\n",
      "Can I owe you a tenner or do the dishes?\n",
      "----\n",
      "Hello there youngun', did you read my recent paper?\n",
      "Here you go! Keep the change!\n",
      "----\n",
      "Hello, my name is Claire\n",
      "Can I owe you a tenner or do the dishes?\n",
      "----\n",
      "Hello, my name is Bob\n",
      "This person doesn't have a pay_tab method yet!\n",
      "----\n"
     ]
    }
   ],
   "source": [
    "\n",
    "for person in people:\n",
    "    try:\n",
    "        person.say_hi()\n",
    "        person.pay_tab()\n",
    "    except NotImplementedError:\n",
    "        print('This person doesn\\'t have a pay_tab method yet!')\n",
    "    print('----')"
   ]
  },
  {
   "cell_type": "code",
   "execution_count": 27,
   "metadata": {
    "ExecuteTime": {
     "end_time": "2017-04-27T15:39:11.327216Z",
     "start_time": "2017-04-27T16:39:11.302289+01:00"
    },
    "collapsed": true,
    "slideshow": {
     "slide_type": "subslide"
    }
   },
   "outputs": [],
   "source": [
    "class Supervisor(Person):\n",
    "    def pay_tab(self):\n",
    "        print(\"Here you go! Keep the change!\")\n",
    "        \n",
    "    def say_hi(self):\n",
    "        super(Supervisor,self).say_hi()\n",
    "        print(\"I'm a Doctor don't you know\")\n",
    "        \n",
    "people = [GradStudent('Alice'), \n",
    "          Supervisor('Jane'), \n",
    "          GradStudent('Claire'),\n",
    "          Person('Bob')\n",
    "         ]"
   ]
  },
  {
   "cell_type": "code",
   "execution_count": 28,
   "metadata": {
    "ExecuteTime": {
     "end_time": "2017-04-27T15:39:12.004525Z",
     "start_time": "2017-04-27T16:39:11.980142+01:00"
    },
    "slideshow": {
     "slide_type": "subslide"
    }
   },
   "outputs": [
    {
     "name": "stdout",
     "output_type": "stream",
     "text": [
      "Hello, my name is Alice\n",
      "Can I owe you a tenner or do the dishes?\n",
      "----\n",
      "Hello, my name is Jane\n",
      "I'm a Doctor don't you know\n",
      "Here you go! Keep the change!\n",
      "----\n",
      "Hello, my name is Claire\n",
      "Can I owe you a tenner or do the dishes?\n",
      "----\n",
      "Hello, my name is Bob\n"
     ]
    },
    {
     "ename": "NotImplementedError",
     "evalue": "",
     "output_type": "error",
     "traceback": [
      "\u001b[0;31m---------------------------------------------------------------------------\u001b[0m",
      "\u001b[0;31mNotImplementedError\u001b[0m                       Traceback (most recent call last)",
      "\u001b[0;32m<ipython-input-28-8b0b8657b710>\u001b[0m in \u001b[0;36m<module>\u001b[0;34m()\u001b[0m\n\u001b[1;32m      2\u001b[0m \u001b[0;32mfor\u001b[0m \u001b[0mperson\u001b[0m \u001b[0;32min\u001b[0m \u001b[0mpeople\u001b[0m\u001b[0;34m:\u001b[0m\u001b[0;34m\u001b[0m\u001b[0m\n\u001b[1;32m      3\u001b[0m     \u001b[0mperson\u001b[0m\u001b[0;34m.\u001b[0m\u001b[0msay_hi\u001b[0m\u001b[0;34m(\u001b[0m\u001b[0;34m)\u001b[0m\u001b[0;34m\u001b[0m\u001b[0m\n\u001b[0;32m----> 4\u001b[0;31m     \u001b[0mperson\u001b[0m\u001b[0;34m.\u001b[0m\u001b[0mpay_tab\u001b[0m\u001b[0;34m(\u001b[0m\u001b[0;34m)\u001b[0m\u001b[0;34m\u001b[0m\u001b[0m\n\u001b[0m\u001b[1;32m      5\u001b[0m     \u001b[0mprint\u001b[0m\u001b[0;34m(\u001b[0m\u001b[0;34m'----'\u001b[0m\u001b[0;34m)\u001b[0m\u001b[0;34m\u001b[0m\u001b[0m\n",
      "\u001b[0;32m<ipython-input-24-b022f35052b9>\u001b[0m in \u001b[0;36mpay_tab\u001b[0;34m(self)\u001b[0m\n\u001b[1;32m      8\u001b[0m     \u001b[0;31m# aka Abstract Method\u001b[0m\u001b[0;34m\u001b[0m\u001b[0;34m\u001b[0m\u001b[0m\n\u001b[1;32m      9\u001b[0m     \u001b[0;32mdef\u001b[0m \u001b[0mpay_tab\u001b[0m\u001b[0;34m(\u001b[0m\u001b[0mself\u001b[0m\u001b[0;34m)\u001b[0m\u001b[0;34m:\u001b[0m\u001b[0;34m\u001b[0m\u001b[0m\n\u001b[0;32m---> 10\u001b[0;31m         \u001b[0;32mraise\u001b[0m \u001b[0mNotImplementedError\u001b[0m\u001b[0;34m\u001b[0m\u001b[0m\n\u001b[0m\u001b[1;32m     11\u001b[0m \u001b[0;34m\u001b[0m\u001b[0m\n\u001b[1;32m     12\u001b[0m \u001b[0;32mclass\u001b[0m \u001b[0mSupervisor\u001b[0m\u001b[0;34m(\u001b[0m\u001b[0mPerson\u001b[0m\u001b[0;34m)\u001b[0m\u001b[0;34m:\u001b[0m\u001b[0;34m\u001b[0m\u001b[0m\n",
      "\u001b[0;31mNotImplementedError\u001b[0m: "
     ]
    }
   ],
   "source": [
    "\n",
    "for person in people:\n",
    "    person.say_hi()\n",
    "    person.pay_tab()\n",
    "    print('----')"
   ]
  },
  {
   "cell_type": "code",
   "execution_count": 39,
   "metadata": {},
   "outputs": [
    {
     "data": {
      "text/plain": [
       "[1, 2, 3, 4, 5]"
      ]
     },
     "metadata": {},
     "output_type": "display_data"
    },
    {
     "data": {
      "text/plain": [
       "[1, 2, 3, 4, 5]"
      ]
     },
     "metadata": {},
     "output_type": "display_data"
    }
   ],
   "source": [
    "def add_ones_p(l):\n",
    "    new_list = []\n",
    "    for x in l:\n",
    "        new_list.append(x+1)\n",
    "    return new_list\n",
    "\n",
    "def add_ones_f(l):\n",
    "    return list(map(lambda x:x+1, l))\n",
    "\n",
    "display(\n",
    "    add_ones_p(range(5)),\n",
    "    add_ones_f(range(5))\n",
    ")"
   ]
  },
  {
   "cell_type": "code",
   "execution_count": 41,
   "metadata": {},
   "outputs": [
    {
     "name": "stdout",
     "output_type": "stream",
     "text": [
      "840 ns ± 5.08 ns per loop (mean ± std. dev. of 7 runs, 1000000 loops each)\n"
     ]
    }
   ],
   "source": [
    "%%timeit\n",
    "add_ones_p(range(5))"
   ]
  },
  {
   "cell_type": "code",
   "execution_count": 42,
   "metadata": {},
   "outputs": [
    {
     "name": "stdout",
     "output_type": "stream",
     "text": [
      "1.34 µs ± 18.6 ns per loop (mean ± std. dev. of 7 runs, 1000000 loops each)\n"
     ]
    }
   ],
   "source": [
    "%%timeit\n",
    "add_ones_f(range(5))"
   ]
  },
  {
   "cell_type": "code",
   "execution_count": 46,
   "metadata": {},
   "outputs": [
    {
     "name": "stdout",
     "output_type": "stream",
     "text": [
      "10\n",
      "9\n",
      "8\n",
      "7\n",
      "6\n",
      "5\n",
      "4\n",
      "3\n",
      "2\n",
      "1\n",
      "Done!\n",
      "Fucked on 999998028\n"
     ]
    }
   ],
   "source": [
    "def imperative_countdown(i):\n",
    "    while i > 0:\n",
    "        print(i)\n",
    "        i = i - 1\n",
    "    print(\"Done!\")\n",
    "    \n",
    "def recursive_countdown(i):\n",
    "    if i > 0:\n",
    "        try:\n",
    "            recursive_countdown(i-1)\n",
    "        except RecursionError:\n",
    "            print('Fucked on {}'.format(i))\n",
    "    else:\n",
    "        print(\"Done!\")\n",
    "    \n",
    "imperative_countdown(10)\n",
    "recursive_countdown(1000000000)\n"
   ]
  },
  {
   "cell_type": "code",
   "execution_count": 47,
   "metadata": {},
   "outputs": [
    {
     "data": {
      "text/plain": [
       "1972"
      ]
     },
     "execution_count": 47,
     "metadata": {},
     "output_type": "execute_result"
    }
   ],
   "source": [
    "1000000000 - 999998028"
   ]
  },
  {
   "cell_type": "code",
   "execution_count": null,
   "metadata": {
    "collapsed": true
   },
   "outputs": [],
   "source": []
  }
 ],
 "metadata": {
  "anaconda-cloud": {},
  "celltoolbar": "Slideshow",
  "kernelspec": {
   "display_name": "Python 3",
   "language": "python",
   "name": "python3"
  },
  "language_info": {
   "codemirror_mode": {
    "name": "ipython",
    "version": 3
   },
   "file_extension": ".py",
   "mimetype": "text/x-python",
   "name": "python",
   "nbconvert_exporter": "python",
   "pygments_lexer": "ipython3",
   "version": "3.5.3"
  },
  "latex_envs": {
   "bibliofile": "biblio.bib",
   "cite_by": "apalike",
   "current_citInitial": 1,
   "eqLabelWithNumbers": true,
   "eqNumInitial": 0
  },
  "nav_menu": {},
  "toc": {
   "navigate_menu": true,
   "number_sections": true,
   "sideBar": true,
   "threshold": 6,
   "toc_cell": false,
   "toc_section_display": "block",
   "toc_window_display": false
  }
 },
 "nbformat": 4,
 "nbformat_minor": 2
}
